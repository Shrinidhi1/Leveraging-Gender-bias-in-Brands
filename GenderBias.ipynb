{
  "nbformat": 4,
  "nbformat_minor": 0,
  "metadata": {
    "colab": {
      "provenance": []
    },
    "kernelspec": {
      "name": "python3",
      "display_name": "Python 3"
    },
    "language_info": {
      "name": "python"
    }
  },
  "cells": [
    {
      "cell_type": "markdown",
      "source": [
        "# Gender Bias Detection"
      ],
      "metadata": {
        "id": "3WaJ34_ctYqL"
      }
    },
    {
      "cell_type": "code",
      "execution_count": 1,
      "metadata": {
        "colab": {
          "base_uri": "https://localhost:8080/"
        },
        "id": "yNLVn3ahhPVw",
        "outputId": "560279ce-c578-4a3a-e75b-4c7cd8b314b3"
      },
      "outputs": [
        {
          "output_type": "stream",
          "name": "stdout",
          "text": [
            "Collecting genbit\n",
            "  Downloading genbit-2.2.0.0-py3-none-any.whl (40 kB)\n",
            "\u001b[?25l     \u001b[90m━━━━━━━━━━━━━━━━━━━━━━━━━━━━━━━━━━━━━━━━\u001b[0m \u001b[32m0.0/40.3 kB\u001b[0m \u001b[31m?\u001b[0m eta \u001b[36m-:--:--\u001b[0m\r\u001b[2K     \u001b[90m━━━━━━━━━━━━━━━━━━━━━━━━━━━━━━━━━━━━━━━━\u001b[0m \u001b[32m40.3/40.3 kB\u001b[0m \u001b[31m3.5 MB/s\u001b[0m eta \u001b[36m0:00:00\u001b[0m\n",
            "\u001b[?25hRequirement already satisfied: scipy>=1.5.2 in /usr/local/lib/python3.10/dist-packages (from genbit) (1.10.1)\n",
            "Requirement already satisfied: numpy>=1.21.5 in /usr/local/lib/python3.10/dist-packages (from genbit) (1.22.4)\n",
            "Collecting language-tags==1.0.0 (from genbit)\n",
            "  Downloading language_tags-1.0.0.tar.gz (203 kB)\n",
            "\u001b[2K     \u001b[90m━━━━━━━━━━━━━━━━━━━━━━━━━━━━━━━━━━━━━━━\u001b[0m \u001b[32m203.8/203.8 kB\u001b[0m \u001b[31m6.0 MB/s\u001b[0m eta \u001b[36m0:00:00\u001b[0m\n",
            "\u001b[?25h  Preparing metadata (setup.py) ... \u001b[?25l\u001b[?25hdone\n",
            "Collecting stopwordsiso==0.6.1 (from genbit)\n",
            "  Downloading stopwordsiso-0.6.1-py3-none-any.whl (73 kB)\n",
            "\u001b[2K     \u001b[90m━━━━━━━━━━━━━━━━━━━━━━━━━━━━━━━━━━━━━━━━\u001b[0m \u001b[32m73.5/73.5 kB\u001b[0m \u001b[31m4.1 MB/s\u001b[0m eta \u001b[36m0:00:00\u001b[0m\n",
            "\u001b[?25hCollecting parameterized==0.7.4 (from genbit)\n",
            "  Downloading parameterized-0.7.4-py2.py3-none-any.whl (25 kB)\n",
            "Collecting nltk==3.6.6 (from genbit)\n",
            "  Downloading nltk-3.6.6-py3-none-any.whl (1.5 MB)\n",
            "\u001b[2K     \u001b[90m━━━━━━━━━━━━━━━━━━━━━━━━━━━━━━━━━━━━━━━━\u001b[0m \u001b[32m1.5/1.5 MB\u001b[0m \u001b[31m11.8 MB/s\u001b[0m eta \u001b[36m0:00:00\u001b[0m\n",
            "\u001b[?25hCollecting stanza==1.2 (from genbit)\n",
            "  Downloading stanza-1.2-py3-none-any.whl (282 kB)\n",
            "\u001b[2K     \u001b[90m━━━━━━━━━━━━━━━━━━━━━━━━━━━━━━━━━━━━━━\u001b[0m \u001b[32m282.0/282.0 kB\u001b[0m \u001b[31m10.3 MB/s\u001b[0m eta \u001b[36m0:00:00\u001b[0m\n",
            "\u001b[?25hRequirement already satisfied: six in /usr/local/lib/python3.10/dist-packages (from language-tags==1.0.0->genbit) (1.16.0)\n",
            "Requirement already satisfied: click in /usr/local/lib/python3.10/dist-packages (from nltk==3.6.6->genbit) (8.1.3)\n",
            "Requirement already satisfied: joblib in /usr/local/lib/python3.10/dist-packages (from nltk==3.6.6->genbit) (1.2.0)\n",
            "Requirement already satisfied: regex>=2021.8.3 in /usr/local/lib/python3.10/dist-packages (from nltk==3.6.6->genbit) (2022.10.31)\n",
            "Requirement already satisfied: tqdm in /usr/local/lib/python3.10/dist-packages (from nltk==3.6.6->genbit) (4.65.0)\n",
            "Requirement already satisfied: protobuf in /usr/local/lib/python3.10/dist-packages (from stanza==1.2->genbit) (3.20.3)\n",
            "Requirement already satisfied: requests in /usr/local/lib/python3.10/dist-packages (from stanza==1.2->genbit) (2.27.1)\n",
            "Requirement already satisfied: torch>=1.3.0 in /usr/local/lib/python3.10/dist-packages (from stanza==1.2->genbit) (2.0.1+cu118)\n",
            "Requirement already satisfied: filelock in /usr/local/lib/python3.10/dist-packages (from torch>=1.3.0->stanza==1.2->genbit) (3.12.2)\n",
            "Requirement already satisfied: typing-extensions in /usr/local/lib/python3.10/dist-packages (from torch>=1.3.0->stanza==1.2->genbit) (4.6.3)\n",
            "Requirement already satisfied: sympy in /usr/local/lib/python3.10/dist-packages (from torch>=1.3.0->stanza==1.2->genbit) (1.11.1)\n",
            "Requirement already satisfied: networkx in /usr/local/lib/python3.10/dist-packages (from torch>=1.3.0->stanza==1.2->genbit) (3.1)\n",
            "Requirement already satisfied: jinja2 in /usr/local/lib/python3.10/dist-packages (from torch>=1.3.0->stanza==1.2->genbit) (3.1.2)\n",
            "Requirement already satisfied: triton==2.0.0 in /usr/local/lib/python3.10/dist-packages (from torch>=1.3.0->stanza==1.2->genbit) (2.0.0)\n",
            "Requirement already satisfied: cmake in /usr/local/lib/python3.10/dist-packages (from triton==2.0.0->torch>=1.3.0->stanza==1.2->genbit) (3.25.2)\n",
            "Requirement already satisfied: lit in /usr/local/lib/python3.10/dist-packages (from triton==2.0.0->torch>=1.3.0->stanza==1.2->genbit) (16.0.6)\n",
            "Requirement already satisfied: urllib3<1.27,>=1.21.1 in /usr/local/lib/python3.10/dist-packages (from requests->stanza==1.2->genbit) (1.26.16)\n",
            "Requirement already satisfied: certifi>=2017.4.17 in /usr/local/lib/python3.10/dist-packages (from requests->stanza==1.2->genbit) (2023.5.7)\n",
            "Requirement already satisfied: charset-normalizer~=2.0.0 in /usr/local/lib/python3.10/dist-packages (from requests->stanza==1.2->genbit) (2.0.12)\n",
            "Requirement already satisfied: idna<4,>=2.5 in /usr/local/lib/python3.10/dist-packages (from requests->stanza==1.2->genbit) (3.4)\n",
            "Requirement already satisfied: MarkupSafe>=2.0 in /usr/local/lib/python3.10/dist-packages (from jinja2->torch>=1.3.0->stanza==1.2->genbit) (2.1.3)\n",
            "Requirement already satisfied: mpmath>=0.19 in /usr/local/lib/python3.10/dist-packages (from sympy->torch>=1.3.0->stanza==1.2->genbit) (1.3.0)\n",
            "Building wheels for collected packages: language-tags\n",
            "  Building wheel for language-tags (setup.py) ... \u001b[?25l\u001b[?25hdone\n",
            "  Created wheel for language-tags: filename=language_tags-1.0.0-py2.py3-none-any.whl size=209134 sha256=5b1e4ec7c6733a0260c54c6bb09456b8faca84e6e942e4ea6a56b0fca23815ae\n",
            "  Stored in directory: /root/.cache/pip/wheels/89/64/76/e98e455286bb97a4b7d1081b02a4b4fa2ff26f5700392d87a8\n",
            "Successfully built language-tags\n",
            "Installing collected packages: stopwordsiso, parameterized, nltk, language-tags, stanza, genbit\n",
            "  Attempting uninstall: nltk\n",
            "    Found existing installation: nltk 3.8.1\n",
            "    Uninstalling nltk-3.8.1:\n",
            "      Successfully uninstalled nltk-3.8.1\n",
            "Successfully installed genbit-2.2.0.0 language-tags-1.0.0 nltk-3.6.6 parameterized-0.7.4 stanza-1.2 stopwordsiso-0.6.1\n"
          ]
        }
      ],
      "source": [
        "!pip install genbit"
      ]
    },
    {
      "cell_type": "code",
      "source": [
        "from google.colab import drive\n",
        "drive.mount('/gdrive')\n",
        "!ln -s \"/gdrive/My Drive/Internship\" \"/content\""
      ],
      "metadata": {
        "colab": {
          "base_uri": "https://localhost:8080/"
        },
        "id": "glKuTDf2d1zZ",
        "outputId": "325248d9-fa76-4c31-f7aa-4f6d6213a1fc"
      },
      "execution_count": 2,
      "outputs": [
        {
          "output_type": "stream",
          "name": "stdout",
          "text": [
            "Mounted at /gdrive\n"
          ]
        }
      ]
    },
    {
      "cell_type": "code",
      "source": [
        "import os\n",
        "import glob\n",
        "import genbit\n",
        "from genbit.genbit_metrics import GenBitMetrics\n",
        "import pandas as pd\n",
        "import numpy as np\n",
        "from scipy import stats\n",
        "from datetime import datetime\n",
        "import matplotlib.pyplot as plt\n",
        "import statsmodels.api as sm"
      ],
      "metadata": {
        "id": "uvHFR2uugQxe"
      },
      "execution_count": 3,
      "outputs": []
    },
    {
      "cell_type": "code",
      "source": [
        "language_code = \"EN\"\n",
        "genbit_metrics_object = GenBitMetrics(language_code, context_window=5, distance_weight=0.95, percentile_cutoff=80)"
      ],
      "metadata": {
        "id": "0So9X86fhaAT",
        "colab": {
          "base_uri": "https://localhost:8080/"
        },
        "outputId": "51a47ccb-e25c-4738-cd3b-e6ad9862bba0"
      },
      "execution_count": 11,
      "outputs": [
        {
          "output_type": "stream",
          "name": "stderr",
          "text": [
            "Downloading https://raw.githubusercontent.com/stanfordnlp/stanza-resources/master/resources_1.2.0.json: 128kB [00:00, 56.7MB/s]                    \n",
            "INFO:stanza:Downloading these customized packages for language: en (English)...\n",
            "========================\n",
            "| Processor | Package  |\n",
            "------------------------\n",
            "| tokenize  | combined |\n",
            "| lemma     | combined |\n",
            "========================\n",
            "\n",
            "Downloading http://nlp.stanford.edu/software/stanza/1.2.0/en/tokenize/combined.pt: 100%|██████████| 640k/640k [00:00<00:00, 2.72MB/s]\n",
            "Downloading http://nlp.stanford.edu/software/stanza/1.2.0/en/lemma/combined.pt: 100%|██████████| 3.86M/3.86M [00:00<00:00, 11.1MB/s]\n",
            "INFO:stanza:Finished downloading models and saved to /usr/local/lib/python3.10/dist-packages/genbit/stanza_lemmatizers.\n"
          ]
        }
      ]
    },
    {
      "cell_type": "code",
      "source": [
        "genbit_score = []\n",
        "percentage_of_female_gender_definition_words = []\n",
        "percentage_of_male_gender_definition_words = []\n",
        "avg_bias_ratio = []\n",
        "freq_of_female_gender_definition_words = []\n",
        "freq_of_male_gender_definition_words = []\n",
        "names = []\n",
        "captions = []"
      ],
      "metadata": {
        "id": "k_xG52tJvSsF"
      },
      "execution_count": null,
      "outputs": []
    },
    {
      "cell_type": "code",
      "source": [
        "%cd /content/Internship/Captions"
      ],
      "metadata": {
        "colab": {
          "base_uri": "https://localhost:8080/"
        },
        "id": "R3D1cBl0ah-N",
        "outputId": "f1304abb-405b-43a6-c362-68b0b83b9bb6"
      },
      "execution_count": null,
      "outputs": [
        {
          "output_type": "stream",
          "name": "stdout",
          "text": [
            "/gdrive/My Drive/Internship/Captions\n"
          ]
        }
      ]
    },
    {
      "cell_type": "code",
      "source": [
        "file_list = glob.glob('*.txt')"
      ],
      "metadata": {
        "id": "OWMLpA25ef4z"
      },
      "execution_count": null,
      "outputs": []
    },
    {
      "cell_type": "code",
      "source": [
        "file_contents = {}\n",
        "\n",
        "for file_path in file_list:\n",
        "    with open(file_path, 'r') as file:\n",
        "        file_contents[file_path] = file.read()"
      ],
      "metadata": {
        "id": "3-F0VHwZeiCe"
      },
      "execution_count": null,
      "outputs": []
    },
    {
      "cell_type": "code",
      "source": [
        "for name in file_contents:\n",
        "  names.append(name)\n",
        "  captions.append(file_contents[name])\n",
        "  test_text = [file_contents[name]]\n",
        "  genbit_metrics_object = GenBitMetrics(language_code, context_window=5, distance_weight=0.95, percentile_cutoff=80)\n",
        "  genbit_metrics_object.add_data(test_text, tokenized=False)\n",
        "  metrics = genbit_metrics_object.get_metrics(output_statistics=True, output_word_list=True)\n",
        "  genbit_score.append(metrics[\"genbit_score\"])\n",
        "  percentage_of_female_gender_definition_words.append(metrics[\"percentage_of_female_gender_definition_words\"])\n",
        "  percentage_of_male_gender_definition_words.append(metrics[\"percentage_of_male_gender_definition_words\"])\n",
        "  avg_bias_ratio.append(metrics[\"additional_metrics\"][\"avg_bias_ratio\"])\n",
        "  freq_of_female_gender_definition_words.append(metrics[\"statistics\"][\"freq_of_female_gender_definition_words\"])\n",
        "  freq_of_male_gender_definition_words.append(metrics[\"statistics\"][\"freq_of_male_gender_definition_words\"])"
      ],
      "metadata": {
        "id": "NrfN9H2Be5L4"
      },
      "execution_count": null,
      "outputs": []
    },
    {
      "cell_type": "code",
      "source": [
        "df = pd.DataFrame()\n",
        "df[\"Name\"] = names\n",
        "df[\"Transcript\"] = captions\n",
        "df[\"Genbit Score\"] = genbit_score\n",
        "df[\"% Female Words\"] = percentage_of_female_gender_definition_words\n",
        "df[\"% Male Words\"] = percentage_of_male_gender_definition_words\n",
        "df[\"Avg Bias Ratio\"] = avg_bias_ratio\n",
        "df[\"Freq of Female Words\"] = freq_of_female_gender_definition_words\n",
        "df[\"Freq of Male Words\"] = freq_of_male_gender_definition_words"
      ],
      "metadata": {
        "id": "WbTTIk2QfRHr"
      },
      "execution_count": null,
      "outputs": []
    },
    {
      "cell_type": "code",
      "source": [
        "df = df.sort_values(by=['Name']).reset_index().drop([\"index\"], axis=1)"
      ],
      "metadata": {
        "id": "9EuzwdmQhoQ-"
      },
      "execution_count": null,
      "outputs": []
    },
    {
      "cell_type": "code",
      "source": [
        "df"
      ],
      "metadata": {
        "colab": {
          "base_uri": "https://localhost:8080/",
          "height": 658
        },
        "id": "xLeF5CIYhcnC",
        "outputId": "bb34a786-9ef0-4de8-e38d-adb7a5ecab87"
      },
      "execution_count": null,
      "outputs": [
        {
          "output_type": "execute_result",
          "data": {
            "text/plain": [
              "              Name                                         Transcript  \\\n",
              "0     Baxter 1.txt  it's kind of a beautiful wasteland  there's ju...   \n",
              "1    Baxter 10.txt  Be honest.\\n\\nBe vulnerable.\\n\\nBe yourself.\\n...   \n",
              "2     Baxter 2.txt  If we're from here, from SoCal, we have heart ...   \n",
              "3     Baxter 3.txt  hello and welcome to Baxter's guide to\\n\\npick...   \n",
              "4     Baxter 4.txt  growing a full beard is more than a lack\\n\\nof...   \n",
              "..             ...                                                ...   \n",
              "195        W 5.txt  Bring a spellbinding look to life with a fresh...   \n",
              "196        W 6.txt  This festive season, #BeTheSameOrBeW.\\n\\nBe th...   \n",
              "197        W 7.txt  The length of the kurta is no longer debatable...   \n",
              "198        W 8.txt  Check out the exclusive #UNUSUALS Range by W F...   \n",
              "199        W 9.txt  Bring your eye makeup game to life with a spri...   \n",
              "\n",
              "     Genbit Score  % Female Words  % Male Words  Avg Bias Ratio  \\\n",
              "0        0.000000             0.0          0.00        0.000000   \n",
              "1        0.000000             0.0          0.00        0.000000   \n",
              "2        0.577149             0.0          0.25        0.619709   \n",
              "3        0.000000             0.0          0.00        0.000000   \n",
              "4        0.151080             0.0          1.00        0.130214   \n",
              "..            ...             ...           ...             ...   \n",
              "195      0.000000             0.0          0.00        0.000000   \n",
              "196      0.911303             1.0          0.00       -0.989265   \n",
              "197      0.000000             0.0          0.00        0.000000   \n",
              "198      0.572519             1.0          0.00       -0.667829   \n",
              "199      0.000000             0.0          0.00        0.000000   \n",
              "\n",
              "     Freq of Female Words  Freq of Male Words  \n",
              "0                       0                   0  \n",
              "1                       0                   0  \n",
              "2                       0                   1  \n",
              "3                       0                   0  \n",
              "4                       0                   3  \n",
              "..                    ...                 ...  \n",
              "195                     0                   0  \n",
              "196                     3                   0  \n",
              "197                     0                   0  \n",
              "198                     1                   0  \n",
              "199                     0                   0  \n",
              "\n",
              "[200 rows x 8 columns]"
            ],
            "text/html": [
              "\n",
              "  <div id=\"df-5cd30a12-3d13-4b62-a4fd-ea15cbb93da0\">\n",
              "    <div class=\"colab-df-container\">\n",
              "      <div>\n",
              "<style scoped>\n",
              "    .dataframe tbody tr th:only-of-type {\n",
              "        vertical-align: middle;\n",
              "    }\n",
              "\n",
              "    .dataframe tbody tr th {\n",
              "        vertical-align: top;\n",
              "    }\n",
              "\n",
              "    .dataframe thead th {\n",
              "        text-align: right;\n",
              "    }\n",
              "</style>\n",
              "<table border=\"1\" class=\"dataframe\">\n",
              "  <thead>\n",
              "    <tr style=\"text-align: right;\">\n",
              "      <th></th>\n",
              "      <th>Name</th>\n",
              "      <th>Transcript</th>\n",
              "      <th>Genbit Score</th>\n",
              "      <th>% Female Words</th>\n",
              "      <th>% Male Words</th>\n",
              "      <th>Avg Bias Ratio</th>\n",
              "      <th>Freq of Female Words</th>\n",
              "      <th>Freq of Male Words</th>\n",
              "    </tr>\n",
              "  </thead>\n",
              "  <tbody>\n",
              "    <tr>\n",
              "      <th>0</th>\n",
              "      <td>Baxter 1.txt</td>\n",
              "      <td>it's kind of a beautiful wasteland  there's ju...</td>\n",
              "      <td>0.000000</td>\n",
              "      <td>0.0</td>\n",
              "      <td>0.00</td>\n",
              "      <td>0.000000</td>\n",
              "      <td>0</td>\n",
              "      <td>0</td>\n",
              "    </tr>\n",
              "    <tr>\n",
              "      <th>1</th>\n",
              "      <td>Baxter 10.txt</td>\n",
              "      <td>Be honest.\\n\\nBe vulnerable.\\n\\nBe yourself.\\n...</td>\n",
              "      <td>0.000000</td>\n",
              "      <td>0.0</td>\n",
              "      <td>0.00</td>\n",
              "      <td>0.000000</td>\n",
              "      <td>0</td>\n",
              "      <td>0</td>\n",
              "    </tr>\n",
              "    <tr>\n",
              "      <th>2</th>\n",
              "      <td>Baxter 2.txt</td>\n",
              "      <td>If we're from here, from SoCal, we have heart ...</td>\n",
              "      <td>0.577149</td>\n",
              "      <td>0.0</td>\n",
              "      <td>0.25</td>\n",
              "      <td>0.619709</td>\n",
              "      <td>0</td>\n",
              "      <td>1</td>\n",
              "    </tr>\n",
              "    <tr>\n",
              "      <th>3</th>\n",
              "      <td>Baxter 3.txt</td>\n",
              "      <td>hello and welcome to Baxter's guide to\\n\\npick...</td>\n",
              "      <td>0.000000</td>\n",
              "      <td>0.0</td>\n",
              "      <td>0.00</td>\n",
              "      <td>0.000000</td>\n",
              "      <td>0</td>\n",
              "      <td>0</td>\n",
              "    </tr>\n",
              "    <tr>\n",
              "      <th>4</th>\n",
              "      <td>Baxter 4.txt</td>\n",
              "      <td>growing a full beard is more than a lack\\n\\nof...</td>\n",
              "      <td>0.151080</td>\n",
              "      <td>0.0</td>\n",
              "      <td>1.00</td>\n",
              "      <td>0.130214</td>\n",
              "      <td>0</td>\n",
              "      <td>3</td>\n",
              "    </tr>\n",
              "    <tr>\n",
              "      <th>...</th>\n",
              "      <td>...</td>\n",
              "      <td>...</td>\n",
              "      <td>...</td>\n",
              "      <td>...</td>\n",
              "      <td>...</td>\n",
              "      <td>...</td>\n",
              "      <td>...</td>\n",
              "      <td>...</td>\n",
              "    </tr>\n",
              "    <tr>\n",
              "      <th>195</th>\n",
              "      <td>W 5.txt</td>\n",
              "      <td>Bring a spellbinding look to life with a fresh...</td>\n",
              "      <td>0.000000</td>\n",
              "      <td>0.0</td>\n",
              "      <td>0.00</td>\n",
              "      <td>0.000000</td>\n",
              "      <td>0</td>\n",
              "      <td>0</td>\n",
              "    </tr>\n",
              "    <tr>\n",
              "      <th>196</th>\n",
              "      <td>W 6.txt</td>\n",
              "      <td>This festive season, #BeTheSameOrBeW.\\n\\nBe th...</td>\n",
              "      <td>0.911303</td>\n",
              "      <td>1.0</td>\n",
              "      <td>0.00</td>\n",
              "      <td>-0.989265</td>\n",
              "      <td>3</td>\n",
              "      <td>0</td>\n",
              "    </tr>\n",
              "    <tr>\n",
              "      <th>197</th>\n",
              "      <td>W 7.txt</td>\n",
              "      <td>The length of the kurta is no longer debatable...</td>\n",
              "      <td>0.000000</td>\n",
              "      <td>0.0</td>\n",
              "      <td>0.00</td>\n",
              "      <td>0.000000</td>\n",
              "      <td>0</td>\n",
              "      <td>0</td>\n",
              "    </tr>\n",
              "    <tr>\n",
              "      <th>198</th>\n",
              "      <td>W 8.txt</td>\n",
              "      <td>Check out the exclusive #UNUSUALS Range by W F...</td>\n",
              "      <td>0.572519</td>\n",
              "      <td>1.0</td>\n",
              "      <td>0.00</td>\n",
              "      <td>-0.667829</td>\n",
              "      <td>1</td>\n",
              "      <td>0</td>\n",
              "    </tr>\n",
              "    <tr>\n",
              "      <th>199</th>\n",
              "      <td>W 9.txt</td>\n",
              "      <td>Bring your eye makeup game to life with a spri...</td>\n",
              "      <td>0.000000</td>\n",
              "      <td>0.0</td>\n",
              "      <td>0.00</td>\n",
              "      <td>0.000000</td>\n",
              "      <td>0</td>\n",
              "      <td>0</td>\n",
              "    </tr>\n",
              "  </tbody>\n",
              "</table>\n",
              "<p>200 rows × 8 columns</p>\n",
              "</div>\n",
              "      <button class=\"colab-df-convert\" onclick=\"convertToInteractive('df-5cd30a12-3d13-4b62-a4fd-ea15cbb93da0')\"\n",
              "              title=\"Convert this dataframe to an interactive table.\"\n",
              "              style=\"display:none;\">\n",
              "        \n",
              "  <svg xmlns=\"http://www.w3.org/2000/svg\" height=\"24px\"viewBox=\"0 0 24 24\"\n",
              "       width=\"24px\">\n",
              "    <path d=\"M0 0h24v24H0V0z\" fill=\"none\"/>\n",
              "    <path d=\"M18.56 5.44l.94 2.06.94-2.06 2.06-.94-2.06-.94-.94-2.06-.94 2.06-2.06.94zm-11 1L8.5 8.5l.94-2.06 2.06-.94-2.06-.94L8.5 2.5l-.94 2.06-2.06.94zm10 10l.94 2.06.94-2.06 2.06-.94-2.06-.94-.94-2.06-.94 2.06-2.06.94z\"/><path d=\"M17.41 7.96l-1.37-1.37c-.4-.4-.92-.59-1.43-.59-.52 0-1.04.2-1.43.59L10.3 9.45l-7.72 7.72c-.78.78-.78 2.05 0 2.83L4 21.41c.39.39.9.59 1.41.59.51 0 1.02-.2 1.41-.59l7.78-7.78 2.81-2.81c.8-.78.8-2.07 0-2.86zM5.41 20L4 18.59l7.72-7.72 1.47 1.35L5.41 20z\"/>\n",
              "  </svg>\n",
              "      </button>\n",
              "      \n",
              "  <style>\n",
              "    .colab-df-container {\n",
              "      display:flex;\n",
              "      flex-wrap:wrap;\n",
              "      gap: 12px;\n",
              "    }\n",
              "\n",
              "    .colab-df-convert {\n",
              "      background-color: #E8F0FE;\n",
              "      border: none;\n",
              "      border-radius: 50%;\n",
              "      cursor: pointer;\n",
              "      display: none;\n",
              "      fill: #1967D2;\n",
              "      height: 32px;\n",
              "      padding: 0 0 0 0;\n",
              "      width: 32px;\n",
              "    }\n",
              "\n",
              "    .colab-df-convert:hover {\n",
              "      background-color: #E2EBFA;\n",
              "      box-shadow: 0px 1px 2px rgba(60, 64, 67, 0.3), 0px 1px 3px 1px rgba(60, 64, 67, 0.15);\n",
              "      fill: #174EA6;\n",
              "    }\n",
              "\n",
              "    [theme=dark] .colab-df-convert {\n",
              "      background-color: #3B4455;\n",
              "      fill: #D2E3FC;\n",
              "    }\n",
              "\n",
              "    [theme=dark] .colab-df-convert:hover {\n",
              "      background-color: #434B5C;\n",
              "      box-shadow: 0px 1px 3px 1px rgba(0, 0, 0, 0.15);\n",
              "      filter: drop-shadow(0px 1px 2px rgba(0, 0, 0, 0.3));\n",
              "      fill: #FFFFFF;\n",
              "    }\n",
              "  </style>\n",
              "\n",
              "      <script>\n",
              "        const buttonEl =\n",
              "          document.querySelector('#df-5cd30a12-3d13-4b62-a4fd-ea15cbb93da0 button.colab-df-convert');\n",
              "        buttonEl.style.display =\n",
              "          google.colab.kernel.accessAllowed ? 'block' : 'none';\n",
              "\n",
              "        async function convertToInteractive(key) {\n",
              "          const element = document.querySelector('#df-5cd30a12-3d13-4b62-a4fd-ea15cbb93da0');\n",
              "          const dataTable =\n",
              "            await google.colab.kernel.invokeFunction('convertToInteractive',\n",
              "                                                     [key], {});\n",
              "          if (!dataTable) return;\n",
              "\n",
              "          const docLinkHtml = 'Like what you see? Visit the ' +\n",
              "            '<a target=\"_blank\" href=https://colab.research.google.com/notebooks/data_table.ipynb>data table notebook</a>'\n",
              "            + ' to learn more about interactive tables.';\n",
              "          element.innerHTML = '';\n",
              "          dataTable['output_type'] = 'display_data';\n",
              "          await google.colab.output.renderOutput(dataTable, element);\n",
              "          const docLink = document.createElement('div');\n",
              "          docLink.innerHTML = docLinkHtml;\n",
              "          element.appendChild(docLink);\n",
              "        }\n",
              "      </script>\n",
              "    </div>\n",
              "  </div>\n",
              "  "
            ]
          },
          "metadata": {},
          "execution_count": 12
        }
      ]
    },
    {
      "cell_type": "code",
      "source": [
        "df.to_excel('/content/results.xlsx')"
      ],
      "metadata": {
        "id": "m7Gqv_tXidgZ"
      },
      "execution_count": null,
      "outputs": []
    },
    {
      "cell_type": "markdown",
      "source": [
        "Metrics:\n",
        "\n",
        "avg_bias_ratio: The average of the bias ratio scores per token. Formally, this is the average over all words w of log( c[w,M] / c[w,F] ).\n",
        "\n",
        "avg_bias_conditional: The average of the bias conditional ratios per token. Similarly, this is the average over all words w of log( p(w|M) / p(w|F) ).\n",
        "avg_bias_ratio_absolute. The average of the absolute bias ratio scores per token. Similar to avg_bias_ratio, this is the average over all w of | log( c[w,M] / c[w,F] ) |.\n",
        "\n",
        "avg_bias_conditional_absolute (genbit_score): The average of the absolute bias conditional ratios per token [note: this score is most commonly used as the key bias score in the literature]. Formally, this is the average over all w of | log( p(w|M) / p(w|F) ) |.\n",
        "\n",
        "std_dev_bias_ratio: Standard deviation of the bias ratio scores. This is the standard deviation that corresponds to avg_bias_ratio.\n",
        "\n",
        "std_dev_bias_conditional: Standard deviation of the bias conditional scores. This is the standard deviation that corresponds to avg_bias_conditional.\n",
        "\n",
        "percentage_of_female_gender_definition_words: The percentage of gendered (male, female and non-binary) words in the corpus that belong to the list of female gendered words\n",
        "\n",
        "percentage_of_male_gender_definition_words: The percentage of gendered (male, female and non-binary) words in the corpus that belong to the list of male gendered words\n",
        "\n",
        "percentage_of_non_binary_gender_definition_words: The percentage of gendered (male, female and non-binary words in the corpus that belong to the list of non-binary gendered words)\n",
        "\n",
        "Statistics:\n",
        "\n",
        "frequency_cutoff: The percentile frequency cutoff value. Any co-occurrence counts that are above this frequency will be used in calculating the metrics\n",
        "num_words_considered: the count of words that were included in calculating the metrics\n",
        "\n",
        "freq_of_female_gender_definition_words: The number of times any of the female gendered words occur in the corpus\n",
        "\n",
        "freq_of_male_gender_definition_words: The number of times any of the male gendered words occur in the corpus\n",
        "\n",
        "freq_of_non_binary_gender_definition_words: The number of times any of the non-binary gendered words occur in the corpus\n",
        "\n",
        "jsd: The Jensen-Shannon divergence between the word probabilities conditioned on male and female gendered words. This is JSD( p(w|M) || p(w|F) ), where JSD(q||p) is the average KL divergence between q and m, and between p and m, where m is the average distribution (p+q)/2.\n",
        "\n",
        "Token Based Metrics\n",
        "\n",
        "frequency: The frequency of the token (the number of times it appears in the document): c[w,.]\n",
        "\n",
        "male_count: the number of times the word occurs within context of a male gendered word: c[w,M]\n",
        "\n",
        "female_count: the number of times the word occurs within context of a female gendered word: c[w,F]\n",
        "\n",
        "non_binary_count: the number of times the word occurs within context of a male gendered word: c[w,NB]\n",
        "\n",
        "female_conditional_prob: the conditional probability of the token occurring in context with a female gendered word: p(w|F)\n",
        "\n",
        "male_conditional_prob: the conditional probability of the token occurring in context with a male gendered word: p(w|M)\n",
        "\n",
        "bias_ratio: log(male_count / female_count) the more positive the value, the more biased the word is towards being associated with male gendered word, the more negative the value the more biased the word is towards being associated with female gendered. Each value is log( c[w,M] / c[w,F] ). A value of zero means that this word is equally likely to appear co-occurring with words in the female list as the male list (positive indicates more co-occurrence with male words; negative indicates more co-occurrence with female words).\n",
        "\n",
        "non_binary_bias_ratio: log((male_count + female_count) / non_binary_count) the more positive the value, the more biased the word is towards being associated with a binary gendered word. A value of zero means the word has non-binary gender bias associated with it\n",
        "\n",
        "bias_conditional_ratio: log( male_cond_prob/female_cond_prob ) the more positive the value, the more biased the word is towards being associated with male gendered word, the more negative the value the more biased the word is towards being associated with female gendered. Each value is log( p(w|M) / p(w|F) ). A value of zero means that the probability of this word co-occurring with words in the female list is equal to the probability of co-occurring with words in the male list (positive indicates more likely co-occurrence with male words; negative indicates more likely co-occurrence with female words).\n",
        "\n",
        "non_binary_bias_conditional_ratio: log( (male_cond_prob+female_cond_prob) / non_binary_cond_prob ) the more positive the value, the more biased the word is towards being associated with binary gendered words; the more negative the value the more biased the word is towards being associated with a non-binary gendered word. A value of zero means the word has no gender bias associated with it.\n"
      ],
      "metadata": {
        "id": "bD8R7ElqgxB9"
      }
    },
    {
      "cell_type": "code",
      "source": [
        "df = pd.read_csv(\"/content/Internship/Gender_Bias_Metrics_Transcripts.csv\")"
      ],
      "metadata": {
        "id": "bbrhB-R7k2of"
      },
      "execution_count": null,
      "outputs": []
    },
    {
      "cell_type": "code",
      "source": [
        "df"
      ],
      "metadata": {
        "colab": {
          "base_uri": "https://localhost:8080/",
          "height": 1000
        },
        "id": "kKn7s2x08BSR",
        "outputId": "a00e40a0-01d1-4a84-88ee-d9b5d9450370"
      },
      "execution_count": null,
      "outputs": [
        {
          "output_type": "execute_result",
          "data": {
            "text/plain": [
              "     Unnamed: 0        Brand  \\\n",
              "0             0       Baxter   \n",
              "1             1       Baxter   \n",
              "2             2       Baxter   \n",
              "3             3       Baxter   \n",
              "4             4       Baxter   \n",
              "..          ...          ...   \n",
              "195         195  W For Women   \n",
              "196         196  W For Women   \n",
              "197         197  W For Women   \n",
              "198         198  W For Women   \n",
              "199         199  W For Women   \n",
              "\n",
              "                                                 Title  \\\n",
              "0    Baxter of California Further Explores A Life L...   \n",
              "1    Baxter of California. Grooming to Live Life True.   \n",
              "2    How to Choose the Right Pomade for Short Hair ...   \n",
              "3          Full Beard Grooming by Baxter of California   \n",
              "4    True Angeleno: Henry | Life Lived True - Baxte...   \n",
              "..                                                 ...   \n",
              "195  Introduce Your Lips to a Variety of On-Trend C...   \n",
              "196  Introducing Festive Collection’22 | Be The Sam...   \n",
              "197                        Introducing Stiletto Kurtas   \n",
              "198                     W Presents the #UNUSUALS Range   \n",
              "199          W Beauty: Must Haves for Eyes that Speaks   \n",
              "\n",
              "                                            Transcript Group    Views  Likes  \\\n",
              "0    it's kind of a beautiful wasteland  there's ju...     M  2095817     39   \n",
              "1    Be honest.\\nBe vulnerable.\\nBe yourself.\\nTalk...     M  1903293     42   \n",
              "2    If we're from here, from SoCal, we have heart ...     M  1718496     30   \n",
              "3    hello and welcome to Baxter's guide to\\n\\npick...     M   926669   2200   \n",
              "4    growing a full beard is more than a lack\\n\\nof...     M   466250     12   \n",
              "..                                                 ...   ...      ...    ...   \n",
              "195  Bring a spellbinding look to life with a fresh...     F   227956     22   \n",
              "196  This festive season, #BeTheSameOrBeW.\\n\\nBe th...     F   199029     77   \n",
              "197  The length of the kurta is no longer debatable...     F    81136     10   \n",
              "198  Check out the exclusive #UNUSUALS Range by W F...     F    72151     14   \n",
              "199  Bring your eye makeup game to life with a spri...     F    57709      1   \n",
              "\n",
              "    Comments          Date  Genbit Score  % Female Words  % Male Words  \\\n",
              "0          3  May 17, 2018      0.000000             0.0          0.00   \n",
              "1          1  Aug 16, 2017      0.000000             0.0          0.00   \n",
              "2          3  Apr 26, 2019      0.577149             0.0          0.25   \n",
              "3        164   Nov 6, 2013      0.000000             0.0          0.00   \n",
              "4          0  Aug 16, 2017      0.151080             0.0          1.00   \n",
              "..       ...           ...           ...             ...           ...   \n",
              "195        2  Jan 17, 2022      0.000000             0.0          0.00   \n",
              "196        0  Sep 19, 2022      0.911303             1.0          0.00   \n",
              "197        1  Apr 18, 2016      0.000000             0.0          0.00   \n",
              "198        1  Jan 20, 2016      0.572519             1.0          0.00   \n",
              "199        0  Jan 27, 2022      0.000000             0.0          0.00   \n",
              "\n",
              "     Avg Bias Ratio  Freq of Female Words  Freq of Male Words  \n",
              "0          0.000000                     0                   0  \n",
              "1          0.000000                     0                   0  \n",
              "2          0.619709                     0                   1  \n",
              "3          0.000000                     0                   0  \n",
              "4          0.130214                     0                   3  \n",
              "..              ...                   ...                 ...  \n",
              "195        0.000000                     0                   0  \n",
              "196       -0.989265                     3                   0  \n",
              "197        0.000000                     0                   0  \n",
              "198       -0.667829                     1                   0  \n",
              "199        0.000000                     0                   0  \n",
              "\n",
              "[200 rows x 15 columns]"
            ],
            "text/html": [
              "\n",
              "  <div id=\"df-89bcfdf8-947a-486f-ad01-63df6c6ebd36\">\n",
              "    <div class=\"colab-df-container\">\n",
              "      <div>\n",
              "<style scoped>\n",
              "    .dataframe tbody tr th:only-of-type {\n",
              "        vertical-align: middle;\n",
              "    }\n",
              "\n",
              "    .dataframe tbody tr th {\n",
              "        vertical-align: top;\n",
              "    }\n",
              "\n",
              "    .dataframe thead th {\n",
              "        text-align: right;\n",
              "    }\n",
              "</style>\n",
              "<table border=\"1\" class=\"dataframe\">\n",
              "  <thead>\n",
              "    <tr style=\"text-align: right;\">\n",
              "      <th></th>\n",
              "      <th>Unnamed: 0</th>\n",
              "      <th>Brand</th>\n",
              "      <th>Title</th>\n",
              "      <th>Transcript</th>\n",
              "      <th>Group</th>\n",
              "      <th>Views</th>\n",
              "      <th>Likes</th>\n",
              "      <th>Comments</th>\n",
              "      <th>Date</th>\n",
              "      <th>Genbit Score</th>\n",
              "      <th>% Female Words</th>\n",
              "      <th>% Male Words</th>\n",
              "      <th>Avg Bias Ratio</th>\n",
              "      <th>Freq of Female Words</th>\n",
              "      <th>Freq of Male Words</th>\n",
              "    </tr>\n",
              "  </thead>\n",
              "  <tbody>\n",
              "    <tr>\n",
              "      <th>0</th>\n",
              "      <td>0</td>\n",
              "      <td>Baxter</td>\n",
              "      <td>Baxter of California Further Explores A Life L...</td>\n",
              "      <td>it's kind of a beautiful wasteland  there's ju...</td>\n",
              "      <td>M</td>\n",
              "      <td>2095817</td>\n",
              "      <td>39</td>\n",
              "      <td>3</td>\n",
              "      <td>May 17, 2018</td>\n",
              "      <td>0.000000</td>\n",
              "      <td>0.0</td>\n",
              "      <td>0.00</td>\n",
              "      <td>0.000000</td>\n",
              "      <td>0</td>\n",
              "      <td>0</td>\n",
              "    </tr>\n",
              "    <tr>\n",
              "      <th>1</th>\n",
              "      <td>1</td>\n",
              "      <td>Baxter</td>\n",
              "      <td>Baxter of California. Grooming to Live Life True.</td>\n",
              "      <td>Be honest.\\nBe vulnerable.\\nBe yourself.\\nTalk...</td>\n",
              "      <td>M</td>\n",
              "      <td>1903293</td>\n",
              "      <td>42</td>\n",
              "      <td>1</td>\n",
              "      <td>Aug 16, 2017</td>\n",
              "      <td>0.000000</td>\n",
              "      <td>0.0</td>\n",
              "      <td>0.00</td>\n",
              "      <td>0.000000</td>\n",
              "      <td>0</td>\n",
              "      <td>0</td>\n",
              "    </tr>\n",
              "    <tr>\n",
              "      <th>2</th>\n",
              "      <td>2</td>\n",
              "      <td>Baxter</td>\n",
              "      <td>How to Choose the Right Pomade for Short Hair ...</td>\n",
              "      <td>If we're from here, from SoCal, we have heart ...</td>\n",
              "      <td>M</td>\n",
              "      <td>1718496</td>\n",
              "      <td>30</td>\n",
              "      <td>3</td>\n",
              "      <td>Apr 26, 2019</td>\n",
              "      <td>0.577149</td>\n",
              "      <td>0.0</td>\n",
              "      <td>0.25</td>\n",
              "      <td>0.619709</td>\n",
              "      <td>0</td>\n",
              "      <td>1</td>\n",
              "    </tr>\n",
              "    <tr>\n",
              "      <th>3</th>\n",
              "      <td>3</td>\n",
              "      <td>Baxter</td>\n",
              "      <td>Full Beard Grooming by Baxter of California</td>\n",
              "      <td>hello and welcome to Baxter's guide to\\n\\npick...</td>\n",
              "      <td>M</td>\n",
              "      <td>926669</td>\n",
              "      <td>2200</td>\n",
              "      <td>164</td>\n",
              "      <td>Nov 6, 2013</td>\n",
              "      <td>0.000000</td>\n",
              "      <td>0.0</td>\n",
              "      <td>0.00</td>\n",
              "      <td>0.000000</td>\n",
              "      <td>0</td>\n",
              "      <td>0</td>\n",
              "    </tr>\n",
              "    <tr>\n",
              "      <th>4</th>\n",
              "      <td>4</td>\n",
              "      <td>Baxter</td>\n",
              "      <td>True Angeleno: Henry | Life Lived True - Baxte...</td>\n",
              "      <td>growing a full beard is more than a lack\\n\\nof...</td>\n",
              "      <td>M</td>\n",
              "      <td>466250</td>\n",
              "      <td>12</td>\n",
              "      <td>0</td>\n",
              "      <td>Aug 16, 2017</td>\n",
              "      <td>0.151080</td>\n",
              "      <td>0.0</td>\n",
              "      <td>1.00</td>\n",
              "      <td>0.130214</td>\n",
              "      <td>0</td>\n",
              "      <td>3</td>\n",
              "    </tr>\n",
              "    <tr>\n",
              "      <th>...</th>\n",
              "      <td>...</td>\n",
              "      <td>...</td>\n",
              "      <td>...</td>\n",
              "      <td>...</td>\n",
              "      <td>...</td>\n",
              "      <td>...</td>\n",
              "      <td>...</td>\n",
              "      <td>...</td>\n",
              "      <td>...</td>\n",
              "      <td>...</td>\n",
              "      <td>...</td>\n",
              "      <td>...</td>\n",
              "      <td>...</td>\n",
              "      <td>...</td>\n",
              "      <td>...</td>\n",
              "    </tr>\n",
              "    <tr>\n",
              "      <th>195</th>\n",
              "      <td>195</td>\n",
              "      <td>W For Women</td>\n",
              "      <td>Introduce Your Lips to a Variety of On-Trend C...</td>\n",
              "      <td>Bring a spellbinding look to life with a fresh...</td>\n",
              "      <td>F</td>\n",
              "      <td>227956</td>\n",
              "      <td>22</td>\n",
              "      <td>2</td>\n",
              "      <td>Jan 17, 2022</td>\n",
              "      <td>0.000000</td>\n",
              "      <td>0.0</td>\n",
              "      <td>0.00</td>\n",
              "      <td>0.000000</td>\n",
              "      <td>0</td>\n",
              "      <td>0</td>\n",
              "    </tr>\n",
              "    <tr>\n",
              "      <th>196</th>\n",
              "      <td>196</td>\n",
              "      <td>W For Women</td>\n",
              "      <td>Introducing Festive Collection’22 | Be The Sam...</td>\n",
              "      <td>This festive season, #BeTheSameOrBeW.\\n\\nBe th...</td>\n",
              "      <td>F</td>\n",
              "      <td>199029</td>\n",
              "      <td>77</td>\n",
              "      <td>0</td>\n",
              "      <td>Sep 19, 2022</td>\n",
              "      <td>0.911303</td>\n",
              "      <td>1.0</td>\n",
              "      <td>0.00</td>\n",
              "      <td>-0.989265</td>\n",
              "      <td>3</td>\n",
              "      <td>0</td>\n",
              "    </tr>\n",
              "    <tr>\n",
              "      <th>197</th>\n",
              "      <td>197</td>\n",
              "      <td>W For Women</td>\n",
              "      <td>Introducing Stiletto Kurtas</td>\n",
              "      <td>The length of the kurta is no longer debatable...</td>\n",
              "      <td>F</td>\n",
              "      <td>81136</td>\n",
              "      <td>10</td>\n",
              "      <td>1</td>\n",
              "      <td>Apr 18, 2016</td>\n",
              "      <td>0.000000</td>\n",
              "      <td>0.0</td>\n",
              "      <td>0.00</td>\n",
              "      <td>0.000000</td>\n",
              "      <td>0</td>\n",
              "      <td>0</td>\n",
              "    </tr>\n",
              "    <tr>\n",
              "      <th>198</th>\n",
              "      <td>198</td>\n",
              "      <td>W For Women</td>\n",
              "      <td>W Presents the #UNUSUALS Range</td>\n",
              "      <td>Check out the exclusive #UNUSUALS Range by W F...</td>\n",
              "      <td>F</td>\n",
              "      <td>72151</td>\n",
              "      <td>14</td>\n",
              "      <td>1</td>\n",
              "      <td>Jan 20, 2016</td>\n",
              "      <td>0.572519</td>\n",
              "      <td>1.0</td>\n",
              "      <td>0.00</td>\n",
              "      <td>-0.667829</td>\n",
              "      <td>1</td>\n",
              "      <td>0</td>\n",
              "    </tr>\n",
              "    <tr>\n",
              "      <th>199</th>\n",
              "      <td>199</td>\n",
              "      <td>W For Women</td>\n",
              "      <td>W Beauty: Must Haves for Eyes that Speaks</td>\n",
              "      <td>Bring your eye makeup game to life with a spri...</td>\n",
              "      <td>F</td>\n",
              "      <td>57709</td>\n",
              "      <td>1</td>\n",
              "      <td>0</td>\n",
              "      <td>Jan 27, 2022</td>\n",
              "      <td>0.000000</td>\n",
              "      <td>0.0</td>\n",
              "      <td>0.00</td>\n",
              "      <td>0.000000</td>\n",
              "      <td>0</td>\n",
              "      <td>0</td>\n",
              "    </tr>\n",
              "  </tbody>\n",
              "</table>\n",
              "<p>200 rows × 15 columns</p>\n",
              "</div>\n",
              "      <button class=\"colab-df-convert\" onclick=\"convertToInteractive('df-89bcfdf8-947a-486f-ad01-63df6c6ebd36')\"\n",
              "              title=\"Convert this dataframe to an interactive table.\"\n",
              "              style=\"display:none;\">\n",
              "        \n",
              "  <svg xmlns=\"http://www.w3.org/2000/svg\" height=\"24px\"viewBox=\"0 0 24 24\"\n",
              "       width=\"24px\">\n",
              "    <path d=\"M0 0h24v24H0V0z\" fill=\"none\"/>\n",
              "    <path d=\"M18.56 5.44l.94 2.06.94-2.06 2.06-.94-2.06-.94-.94-2.06-.94 2.06-2.06.94zm-11 1L8.5 8.5l.94-2.06 2.06-.94-2.06-.94L8.5 2.5l-.94 2.06-2.06.94zm10 10l.94 2.06.94-2.06 2.06-.94-2.06-.94-.94-2.06-.94 2.06-2.06.94z\"/><path d=\"M17.41 7.96l-1.37-1.37c-.4-.4-.92-.59-1.43-.59-.52 0-1.04.2-1.43.59L10.3 9.45l-7.72 7.72c-.78.78-.78 2.05 0 2.83L4 21.41c.39.39.9.59 1.41.59.51 0 1.02-.2 1.41-.59l7.78-7.78 2.81-2.81c.8-.78.8-2.07 0-2.86zM5.41 20L4 18.59l7.72-7.72 1.47 1.35L5.41 20z\"/>\n",
              "  </svg>\n",
              "      </button>\n",
              "      \n",
              "  <style>\n",
              "    .colab-df-container {\n",
              "      display:flex;\n",
              "      flex-wrap:wrap;\n",
              "      gap: 12px;\n",
              "    }\n",
              "\n",
              "    .colab-df-convert {\n",
              "      background-color: #E8F0FE;\n",
              "      border: none;\n",
              "      border-radius: 50%;\n",
              "      cursor: pointer;\n",
              "      display: none;\n",
              "      fill: #1967D2;\n",
              "      height: 32px;\n",
              "      padding: 0 0 0 0;\n",
              "      width: 32px;\n",
              "    }\n",
              "\n",
              "    .colab-df-convert:hover {\n",
              "      background-color: #E2EBFA;\n",
              "      box-shadow: 0px 1px 2px rgba(60, 64, 67, 0.3), 0px 1px 3px 1px rgba(60, 64, 67, 0.15);\n",
              "      fill: #174EA6;\n",
              "    }\n",
              "\n",
              "    [theme=dark] .colab-df-convert {\n",
              "      background-color: #3B4455;\n",
              "      fill: #D2E3FC;\n",
              "    }\n",
              "\n",
              "    [theme=dark] .colab-df-convert:hover {\n",
              "      background-color: #434B5C;\n",
              "      box-shadow: 0px 1px 3px 1px rgba(0, 0, 0, 0.15);\n",
              "      filter: drop-shadow(0px 1px 2px rgba(0, 0, 0, 0.3));\n",
              "      fill: #FFFFFF;\n",
              "    }\n",
              "  </style>\n",
              "\n",
              "      <script>\n",
              "        const buttonEl =\n",
              "          document.querySelector('#df-89bcfdf8-947a-486f-ad01-63df6c6ebd36 button.colab-df-convert');\n",
              "        buttonEl.style.display =\n",
              "          google.colab.kernel.accessAllowed ? 'block' : 'none';\n",
              "\n",
              "        async function convertToInteractive(key) {\n",
              "          const element = document.querySelector('#df-89bcfdf8-947a-486f-ad01-63df6c6ebd36');\n",
              "          const dataTable =\n",
              "            await google.colab.kernel.invokeFunction('convertToInteractive',\n",
              "                                                     [key], {});\n",
              "          if (!dataTable) return;\n",
              "\n",
              "          const docLinkHtml = 'Like what you see? Visit the ' +\n",
              "            '<a target=\"_blank\" href=https://colab.research.google.com/notebooks/data_table.ipynb>data table notebook</a>'\n",
              "            + ' to learn more about interactive tables.';\n",
              "          element.innerHTML = '';\n",
              "          dataTable['output_type'] = 'display_data';\n",
              "          await google.colab.output.renderOutput(dataTable, element);\n",
              "          const docLink = document.createElement('div');\n",
              "          docLink.innerHTML = docLinkHtml;\n",
              "          element.appendChild(docLink);\n",
              "        }\n",
              "      </script>\n",
              "    </div>\n",
              "  </div>\n",
              "  "
            ]
          },
          "metadata": {},
          "execution_count": 6
        }
      ]
    },
    {
      "cell_type": "code",
      "source": [
        "df = df.drop([\"Unnamed: 0\"], axis = 1)"
      ],
      "metadata": {
        "id": "bS2i63Eh9MXH"
      },
      "execution_count": null,
      "outputs": []
    },
    {
      "cell_type": "code",
      "source": [
        "df"
      ],
      "metadata": {
        "colab": {
          "base_uri": "https://localhost:8080/",
          "height": 1000
        },
        "id": "lKYiL4jf_T-y",
        "outputId": "626a4b30-703d-4e29-851d-215e191ed7d9"
      },
      "execution_count": null,
      "outputs": [
        {
          "output_type": "execute_result",
          "data": {
            "text/plain": [
              "           Brand                                              Title  \\\n",
              "0         Baxter  Baxter of California Further Explores A Life L...   \n",
              "1         Baxter  Baxter of California. Grooming to Live Life True.   \n",
              "2         Baxter  How to Choose the Right Pomade for Short Hair ...   \n",
              "3         Baxter        Full Beard Grooming by Baxter of California   \n",
              "4         Baxter  True Angeleno: Henry | Life Lived True - Baxte...   \n",
              "..           ...                                                ...   \n",
              "195  W For Women  Introduce Your Lips to a Variety of On-Trend C...   \n",
              "196  W For Women  Introducing Festive Collection’22 | Be The Sam...   \n",
              "197  W For Women                        Introducing Stiletto Kurtas   \n",
              "198  W For Women                     W Presents the #UNUSUALS Range   \n",
              "199  W For Women          W Beauty: Must Haves for Eyes that Speaks   \n",
              "\n",
              "                                            Transcript Group    Views  Likes  \\\n",
              "0    it's kind of a beautiful wasteland  there's ju...     M  2095817     39   \n",
              "1    Be honest.\\nBe vulnerable.\\nBe yourself.\\nTalk...     M  1903293     42   \n",
              "2    If we're from here, from SoCal, we have heart ...     M  1718496     30   \n",
              "3    hello and welcome to Baxter's guide to\\n\\npick...     M   926669   2200   \n",
              "4    growing a full beard is more than a lack\\n\\nof...     M   466250     12   \n",
              "..                                                 ...   ...      ...    ...   \n",
              "195  Bring a spellbinding look to life with a fresh...     F   227956     22   \n",
              "196  This festive season, #BeTheSameOrBeW.\\n\\nBe th...     F   199029     77   \n",
              "197  The length of the kurta is no longer debatable...     F    81136     10   \n",
              "198  Check out the exclusive #UNUSUALS Range by W F...     F    72151     14   \n",
              "199  Bring your eye makeup game to life with a spri...     F    57709      1   \n",
              "\n",
              "    Comments          Date  Genbit Score  % Female Words  % Male Words  \\\n",
              "0          3  May 17, 2018      0.000000             0.0          0.00   \n",
              "1          1  Aug 16, 2017      0.000000             0.0          0.00   \n",
              "2          3  Apr 26, 2019      0.577149             0.0          0.25   \n",
              "3        164   Nov 6, 2013      0.000000             0.0          0.00   \n",
              "4          0  Aug 16, 2017      0.151080             0.0          1.00   \n",
              "..       ...           ...           ...             ...           ...   \n",
              "195        2  Jan 17, 2022      0.000000             0.0          0.00   \n",
              "196        0  Sep 19, 2022      0.911303             1.0          0.00   \n",
              "197        1  Apr 18, 2016      0.000000             0.0          0.00   \n",
              "198        1  Jan 20, 2016      0.572519             1.0          0.00   \n",
              "199        0  Jan 27, 2022      0.000000             0.0          0.00   \n",
              "\n",
              "     Avg Bias Ratio  Freq of Female Words  Freq of Male Words  \n",
              "0          0.000000                     0                   0  \n",
              "1          0.000000                     0                   0  \n",
              "2          0.619709                     0                   1  \n",
              "3          0.000000                     0                   0  \n",
              "4          0.130214                     0                   3  \n",
              "..              ...                   ...                 ...  \n",
              "195        0.000000                     0                   0  \n",
              "196       -0.989265                     3                   0  \n",
              "197        0.000000                     0                   0  \n",
              "198       -0.667829                     1                   0  \n",
              "199        0.000000                     0                   0  \n",
              "\n",
              "[200 rows x 14 columns]"
            ],
            "text/html": [
              "\n",
              "  <div id=\"df-773a2d52-ab42-4c63-b409-41948d5d61c4\">\n",
              "    <div class=\"colab-df-container\">\n",
              "      <div>\n",
              "<style scoped>\n",
              "    .dataframe tbody tr th:only-of-type {\n",
              "        vertical-align: middle;\n",
              "    }\n",
              "\n",
              "    .dataframe tbody tr th {\n",
              "        vertical-align: top;\n",
              "    }\n",
              "\n",
              "    .dataframe thead th {\n",
              "        text-align: right;\n",
              "    }\n",
              "</style>\n",
              "<table border=\"1\" class=\"dataframe\">\n",
              "  <thead>\n",
              "    <tr style=\"text-align: right;\">\n",
              "      <th></th>\n",
              "      <th>Brand</th>\n",
              "      <th>Title</th>\n",
              "      <th>Transcript</th>\n",
              "      <th>Group</th>\n",
              "      <th>Views</th>\n",
              "      <th>Likes</th>\n",
              "      <th>Comments</th>\n",
              "      <th>Date</th>\n",
              "      <th>Genbit Score</th>\n",
              "      <th>% Female Words</th>\n",
              "      <th>% Male Words</th>\n",
              "      <th>Avg Bias Ratio</th>\n",
              "      <th>Freq of Female Words</th>\n",
              "      <th>Freq of Male Words</th>\n",
              "    </tr>\n",
              "  </thead>\n",
              "  <tbody>\n",
              "    <tr>\n",
              "      <th>0</th>\n",
              "      <td>Baxter</td>\n",
              "      <td>Baxter of California Further Explores A Life L...</td>\n",
              "      <td>it's kind of a beautiful wasteland  there's ju...</td>\n",
              "      <td>M</td>\n",
              "      <td>2095817</td>\n",
              "      <td>39</td>\n",
              "      <td>3</td>\n",
              "      <td>May 17, 2018</td>\n",
              "      <td>0.000000</td>\n",
              "      <td>0.0</td>\n",
              "      <td>0.00</td>\n",
              "      <td>0.000000</td>\n",
              "      <td>0</td>\n",
              "      <td>0</td>\n",
              "    </tr>\n",
              "    <tr>\n",
              "      <th>1</th>\n",
              "      <td>Baxter</td>\n",
              "      <td>Baxter of California. Grooming to Live Life True.</td>\n",
              "      <td>Be honest.\\nBe vulnerable.\\nBe yourself.\\nTalk...</td>\n",
              "      <td>M</td>\n",
              "      <td>1903293</td>\n",
              "      <td>42</td>\n",
              "      <td>1</td>\n",
              "      <td>Aug 16, 2017</td>\n",
              "      <td>0.000000</td>\n",
              "      <td>0.0</td>\n",
              "      <td>0.00</td>\n",
              "      <td>0.000000</td>\n",
              "      <td>0</td>\n",
              "      <td>0</td>\n",
              "    </tr>\n",
              "    <tr>\n",
              "      <th>2</th>\n",
              "      <td>Baxter</td>\n",
              "      <td>How to Choose the Right Pomade for Short Hair ...</td>\n",
              "      <td>If we're from here, from SoCal, we have heart ...</td>\n",
              "      <td>M</td>\n",
              "      <td>1718496</td>\n",
              "      <td>30</td>\n",
              "      <td>3</td>\n",
              "      <td>Apr 26, 2019</td>\n",
              "      <td>0.577149</td>\n",
              "      <td>0.0</td>\n",
              "      <td>0.25</td>\n",
              "      <td>0.619709</td>\n",
              "      <td>0</td>\n",
              "      <td>1</td>\n",
              "    </tr>\n",
              "    <tr>\n",
              "      <th>3</th>\n",
              "      <td>Baxter</td>\n",
              "      <td>Full Beard Grooming by Baxter of California</td>\n",
              "      <td>hello and welcome to Baxter's guide to\\n\\npick...</td>\n",
              "      <td>M</td>\n",
              "      <td>926669</td>\n",
              "      <td>2200</td>\n",
              "      <td>164</td>\n",
              "      <td>Nov 6, 2013</td>\n",
              "      <td>0.000000</td>\n",
              "      <td>0.0</td>\n",
              "      <td>0.00</td>\n",
              "      <td>0.000000</td>\n",
              "      <td>0</td>\n",
              "      <td>0</td>\n",
              "    </tr>\n",
              "    <tr>\n",
              "      <th>4</th>\n",
              "      <td>Baxter</td>\n",
              "      <td>True Angeleno: Henry | Life Lived True - Baxte...</td>\n",
              "      <td>growing a full beard is more than a lack\\n\\nof...</td>\n",
              "      <td>M</td>\n",
              "      <td>466250</td>\n",
              "      <td>12</td>\n",
              "      <td>0</td>\n",
              "      <td>Aug 16, 2017</td>\n",
              "      <td>0.151080</td>\n",
              "      <td>0.0</td>\n",
              "      <td>1.00</td>\n",
              "      <td>0.130214</td>\n",
              "      <td>0</td>\n",
              "      <td>3</td>\n",
              "    </tr>\n",
              "    <tr>\n",
              "      <th>...</th>\n",
              "      <td>...</td>\n",
              "      <td>...</td>\n",
              "      <td>...</td>\n",
              "      <td>...</td>\n",
              "      <td>...</td>\n",
              "      <td>...</td>\n",
              "      <td>...</td>\n",
              "      <td>...</td>\n",
              "      <td>...</td>\n",
              "      <td>...</td>\n",
              "      <td>...</td>\n",
              "      <td>...</td>\n",
              "      <td>...</td>\n",
              "      <td>...</td>\n",
              "    </tr>\n",
              "    <tr>\n",
              "      <th>195</th>\n",
              "      <td>W For Women</td>\n",
              "      <td>Introduce Your Lips to a Variety of On-Trend C...</td>\n",
              "      <td>Bring a spellbinding look to life with a fresh...</td>\n",
              "      <td>F</td>\n",
              "      <td>227956</td>\n",
              "      <td>22</td>\n",
              "      <td>2</td>\n",
              "      <td>Jan 17, 2022</td>\n",
              "      <td>0.000000</td>\n",
              "      <td>0.0</td>\n",
              "      <td>0.00</td>\n",
              "      <td>0.000000</td>\n",
              "      <td>0</td>\n",
              "      <td>0</td>\n",
              "    </tr>\n",
              "    <tr>\n",
              "      <th>196</th>\n",
              "      <td>W For Women</td>\n",
              "      <td>Introducing Festive Collection’22 | Be The Sam...</td>\n",
              "      <td>This festive season, #BeTheSameOrBeW.\\n\\nBe th...</td>\n",
              "      <td>F</td>\n",
              "      <td>199029</td>\n",
              "      <td>77</td>\n",
              "      <td>0</td>\n",
              "      <td>Sep 19, 2022</td>\n",
              "      <td>0.911303</td>\n",
              "      <td>1.0</td>\n",
              "      <td>0.00</td>\n",
              "      <td>-0.989265</td>\n",
              "      <td>3</td>\n",
              "      <td>0</td>\n",
              "    </tr>\n",
              "    <tr>\n",
              "      <th>197</th>\n",
              "      <td>W For Women</td>\n",
              "      <td>Introducing Stiletto Kurtas</td>\n",
              "      <td>The length of the kurta is no longer debatable...</td>\n",
              "      <td>F</td>\n",
              "      <td>81136</td>\n",
              "      <td>10</td>\n",
              "      <td>1</td>\n",
              "      <td>Apr 18, 2016</td>\n",
              "      <td>0.000000</td>\n",
              "      <td>0.0</td>\n",
              "      <td>0.00</td>\n",
              "      <td>0.000000</td>\n",
              "      <td>0</td>\n",
              "      <td>0</td>\n",
              "    </tr>\n",
              "    <tr>\n",
              "      <th>198</th>\n",
              "      <td>W For Women</td>\n",
              "      <td>W Presents the #UNUSUALS Range</td>\n",
              "      <td>Check out the exclusive #UNUSUALS Range by W F...</td>\n",
              "      <td>F</td>\n",
              "      <td>72151</td>\n",
              "      <td>14</td>\n",
              "      <td>1</td>\n",
              "      <td>Jan 20, 2016</td>\n",
              "      <td>0.572519</td>\n",
              "      <td>1.0</td>\n",
              "      <td>0.00</td>\n",
              "      <td>-0.667829</td>\n",
              "      <td>1</td>\n",
              "      <td>0</td>\n",
              "    </tr>\n",
              "    <tr>\n",
              "      <th>199</th>\n",
              "      <td>W For Women</td>\n",
              "      <td>W Beauty: Must Haves for Eyes that Speaks</td>\n",
              "      <td>Bring your eye makeup game to life with a spri...</td>\n",
              "      <td>F</td>\n",
              "      <td>57709</td>\n",
              "      <td>1</td>\n",
              "      <td>0</td>\n",
              "      <td>Jan 27, 2022</td>\n",
              "      <td>0.000000</td>\n",
              "      <td>0.0</td>\n",
              "      <td>0.00</td>\n",
              "      <td>0.000000</td>\n",
              "      <td>0</td>\n",
              "      <td>0</td>\n",
              "    </tr>\n",
              "  </tbody>\n",
              "</table>\n",
              "<p>200 rows × 14 columns</p>\n",
              "</div>\n",
              "      <button class=\"colab-df-convert\" onclick=\"convertToInteractive('df-773a2d52-ab42-4c63-b409-41948d5d61c4')\"\n",
              "              title=\"Convert this dataframe to an interactive table.\"\n",
              "              style=\"display:none;\">\n",
              "        \n",
              "  <svg xmlns=\"http://www.w3.org/2000/svg\" height=\"24px\"viewBox=\"0 0 24 24\"\n",
              "       width=\"24px\">\n",
              "    <path d=\"M0 0h24v24H0V0z\" fill=\"none\"/>\n",
              "    <path d=\"M18.56 5.44l.94 2.06.94-2.06 2.06-.94-2.06-.94-.94-2.06-.94 2.06-2.06.94zm-11 1L8.5 8.5l.94-2.06 2.06-.94-2.06-.94L8.5 2.5l-.94 2.06-2.06.94zm10 10l.94 2.06.94-2.06 2.06-.94-2.06-.94-.94-2.06-.94 2.06-2.06.94z\"/><path d=\"M17.41 7.96l-1.37-1.37c-.4-.4-.92-.59-1.43-.59-.52 0-1.04.2-1.43.59L10.3 9.45l-7.72 7.72c-.78.78-.78 2.05 0 2.83L4 21.41c.39.39.9.59 1.41.59.51 0 1.02-.2 1.41-.59l7.78-7.78 2.81-2.81c.8-.78.8-2.07 0-2.86zM5.41 20L4 18.59l7.72-7.72 1.47 1.35L5.41 20z\"/>\n",
              "  </svg>\n",
              "      </button>\n",
              "      \n",
              "  <style>\n",
              "    .colab-df-container {\n",
              "      display:flex;\n",
              "      flex-wrap:wrap;\n",
              "      gap: 12px;\n",
              "    }\n",
              "\n",
              "    .colab-df-convert {\n",
              "      background-color: #E8F0FE;\n",
              "      border: none;\n",
              "      border-radius: 50%;\n",
              "      cursor: pointer;\n",
              "      display: none;\n",
              "      fill: #1967D2;\n",
              "      height: 32px;\n",
              "      padding: 0 0 0 0;\n",
              "      width: 32px;\n",
              "    }\n",
              "\n",
              "    .colab-df-convert:hover {\n",
              "      background-color: #E2EBFA;\n",
              "      box-shadow: 0px 1px 2px rgba(60, 64, 67, 0.3), 0px 1px 3px 1px rgba(60, 64, 67, 0.15);\n",
              "      fill: #174EA6;\n",
              "    }\n",
              "\n",
              "    [theme=dark] .colab-df-convert {\n",
              "      background-color: #3B4455;\n",
              "      fill: #D2E3FC;\n",
              "    }\n",
              "\n",
              "    [theme=dark] .colab-df-convert:hover {\n",
              "      background-color: #434B5C;\n",
              "      box-shadow: 0px 1px 3px 1px rgba(0, 0, 0, 0.15);\n",
              "      filter: drop-shadow(0px 1px 2px rgba(0, 0, 0, 0.3));\n",
              "      fill: #FFFFFF;\n",
              "    }\n",
              "  </style>\n",
              "\n",
              "      <script>\n",
              "        const buttonEl =\n",
              "          document.querySelector('#df-773a2d52-ab42-4c63-b409-41948d5d61c4 button.colab-df-convert');\n",
              "        buttonEl.style.display =\n",
              "          google.colab.kernel.accessAllowed ? 'block' : 'none';\n",
              "\n",
              "        async function convertToInteractive(key) {\n",
              "          const element = document.querySelector('#df-773a2d52-ab42-4c63-b409-41948d5d61c4');\n",
              "          const dataTable =\n",
              "            await google.colab.kernel.invokeFunction('convertToInteractive',\n",
              "                                                     [key], {});\n",
              "          if (!dataTable) return;\n",
              "\n",
              "          const docLinkHtml = 'Like what you see? Visit the ' +\n",
              "            '<a target=\"_blank\" href=https://colab.research.google.com/notebooks/data_table.ipynb>data table notebook</a>'\n",
              "            + ' to learn more about interactive tables.';\n",
              "          element.innerHTML = '';\n",
              "          dataTable['output_type'] = 'display_data';\n",
              "          await google.colab.output.renderOutput(dataTable, element);\n",
              "          const docLink = document.createElement('div');\n",
              "          docLink.innerHTML = docLinkHtml;\n",
              "          element.appendChild(docLink);\n",
              "        }\n",
              "      </script>\n",
              "    </div>\n",
              "  </div>\n",
              "  "
            ]
          },
          "metadata": {},
          "execution_count": 8
        }
      ]
    },
    {
      "cell_type": "code",
      "source": [
        "df['Date'] = pd.to_datetime(df['Date'])"
      ],
      "metadata": {
        "id": "QasY-aVtAnyY"
      },
      "execution_count": null,
      "outputs": []
    },
    {
      "cell_type": "code",
      "source": [
        "df['Days Old'] = datetime.now() - df['Date']"
      ],
      "metadata": {
        "id": "OgVWgGtSDkke"
      },
      "execution_count": null,
      "outputs": []
    },
    {
      "cell_type": "code",
      "source": [
        "df['Days Old'] = df['Days Old'].dt.days"
      ],
      "metadata": {
        "id": "pSatPEcdD2LA"
      },
      "execution_count": null,
      "outputs": []
    },
    {
      "cell_type": "code",
      "source": [
        "df['Days Old']"
      ],
      "metadata": {
        "colab": {
          "base_uri": "https://localhost:8080/"
        },
        "id": "uIlpzJUFEGlM",
        "outputId": "38415d14-fe0e-44a7-e580-3c09df1432cf"
      },
      "execution_count": null,
      "outputs": [
        {
          "output_type": "execute_result",
          "data": {
            "text/plain": [
              "0      1874\n",
              "1      2148\n",
              "2      1530\n",
              "3      3527\n",
              "4      2148\n",
              "       ... \n",
              "195     533\n",
              "196     288\n",
              "197    2633\n",
              "198    2722\n",
              "199     523\n",
              "Name: Days Old, Length: 200, dtype: int64"
            ]
          },
          "metadata": {},
          "execution_count": 12
        }
      ]
    },
    {
      "cell_type": "code",
      "source": [
        "df.info()"
      ],
      "metadata": {
        "colab": {
          "base_uri": "https://localhost:8080/"
        },
        "id": "bT4qZvWOG0JM",
        "outputId": "0fc58016-5be3-422d-a34b-daf7d34488c0"
      },
      "execution_count": null,
      "outputs": [
        {
          "output_type": "stream",
          "name": "stdout",
          "text": [
            "<class 'pandas.core.frame.DataFrame'>\n",
            "RangeIndex: 200 entries, 0 to 199\n",
            "Data columns (total 15 columns):\n",
            " #   Column                Non-Null Count  Dtype         \n",
            "---  ------                --------------  -----         \n",
            " 0   Brand                 200 non-null    object        \n",
            " 1   Title                 200 non-null    object        \n",
            " 2   Transcript            200 non-null    object        \n",
            " 3   Group                 200 non-null    object        \n",
            " 4   Views                 200 non-null    object        \n",
            " 5   Likes                 200 non-null    int64         \n",
            " 6   Comments              200 non-null    object        \n",
            " 7   Date                  200 non-null    datetime64[ns]\n",
            " 8   Genbit Score          200 non-null    float64       \n",
            " 9   % Female Words        200 non-null    float64       \n",
            " 10  % Male Words          200 non-null    float64       \n",
            " 11  Avg Bias Ratio        200 non-null    float64       \n",
            " 12  Freq of Female Words  200 non-null    int64         \n",
            " 13  Freq of Male Words    200 non-null    int64         \n",
            " 14  Days Old              200 non-null    int64         \n",
            "dtypes: datetime64[ns](1), float64(4), int64(4), object(6)\n",
            "memory usage: 23.6+ KB\n"
          ]
        }
      ]
    },
    {
      "cell_type": "code",
      "source": [
        "df.loc[df[\"Views\"] == '110,167', 'Views'] = '110167'\n",
        "df.loc[df[\"Views\"] == '17,340', 'Views'] = '17340'\n",
        "df.loc[df[\"Views\"] == '232,897', 'Views'] = '232897'\n",
        "df.loc[df[\"Views\"] == '5,409,260', 'Views'] = '5409260'\n",
        "df.loc[df[\"Views\"] == '207,259', 'Views'] = '207259'"
      ],
      "metadata": {
        "id": "xuSLnRr2HdRJ"
      },
      "execution_count": null,
      "outputs": []
    },
    {
      "cell_type": "code",
      "source": [
        "df.loc[df[\"Comments\"] == '5,261', 'Comments'] = '5261'\n",
        "df.loc[df[\"Comments\"] == 'Sep 9, 2017', 'Comments'] = '2607'"
      ],
      "metadata": {
        "id": "MBAbyk7_KG-G"
      },
      "execution_count": null,
      "outputs": []
    },
    {
      "cell_type": "code",
      "source": [
        "df[\"Views\"] = df[\"Views\"].astype(int)\n",
        "df[\"Likes\"] = df[\"Likes\"].astype(int)\n",
        "df[\"Comments\"] = df[\"Comments\"].astype(int)"
      ],
      "metadata": {
        "id": "198oMFmEG6Bc"
      },
      "execution_count": null,
      "outputs": []
    },
    {
      "cell_type": "code",
      "source": [
        "df[\"Length\"] = df[\"Transcript\"].str.len()\n",
        "df[\"Group\"] = df[\"Group\"].map({'M': 1, 'F': 2})"
      ],
      "metadata": {
        "id": "_mmKbdsisJP1"
      },
      "execution_count": null,
      "outputs": []
    },
    {
      "cell_type": "code",
      "source": [
        "new_df = pd.pivot_table(df, index='Brand', aggfunc='sum')"
      ],
      "metadata": {
        "colab": {
          "base_uri": "https://localhost:8080/"
        },
        "id": "E3kKlQ8garNL",
        "outputId": "4d2c06c3-e152-4872-aa25-fee1cb3190f4"
      },
      "execution_count": null,
      "outputs": [
        {
          "output_type": "stream",
          "name": "stderr",
          "text": [
            "<ipython-input-30-50e37cb6d585>:1: FutureWarning: pivot_table dropped a column because it failed to aggregate. This behavior is deprecated and will raise in a future version of pandas. Select only the columns that can be aggregated.\n",
            "  new_df = pd.pivot_table(df, index='Brand', aggfunc='sum')\n"
          ]
        }
      ]
    },
    {
      "cell_type": "code",
      "source": [
        "new_df[\"Group\"] = new_df[\"Group\"]/10"
      ],
      "metadata": {
        "id": "9NctJ2TPcD10"
      },
      "execution_count": null,
      "outputs": []
    },
    {
      "cell_type": "code",
      "source": [
        "new_df[\"Group\"] = new_df[\"Group\"].astype(int)"
      ],
      "metadata": {
        "id": "uqxj-XwscRa8"
      },
      "execution_count": null,
      "outputs": []
    },
    {
      "cell_type": "code",
      "source": [
        "new_df"
      ],
      "metadata": {
        "colab": {
          "base_uri": "https://localhost:8080/",
          "height": 925
        },
        "id": "ZEU4MDFjcIu6",
        "outputId": "d49a8817-7a4a-4afd-fce9-d47d6888714c"
      },
      "execution_count": null,
      "outputs": [
        {
          "output_type": "execute_result",
          "data": {
            "text/plain": [
              "                   % Female Words  % Male Words  Avg Bias Ratio  Comments  \\\n",
              "Brand                                                                       \n",
              "Baxter                   0.500000      2.000000        1.169384       175   \n",
              "Beardo                   2.333333      3.083333        0.437618       147   \n",
              "Chanel                   5.105976      1.649393       -4.420704     16840   \n",
              "Dollar Shave Club        0.365642      1.905749        1.272304      9483   \n",
              "Fenty Beauty             3.130279      2.063792       -2.401192     15867   \n",
              "Gillette                 0.660088      6.388870        7.233313     26530   \n",
              "Hugo Boss                1.714286      1.142857       -0.509593       481   \n",
              "Lancome                  3.138462      1.000000       -3.021117       274   \n",
              "Loreal                   0.666667      1.333333        0.328819       864   \n",
              "Lumin                    1.857143      3.508929        3.084114       114   \n",
              "Maybelline               0.611111      1.944444       -0.338240      1881   \n",
              "Old Spice                2.079437      5.639610        6.176935     48815   \n",
              "Peter England            0.041667      3.095238        1.389284       932   \n",
              "Rare Beauty              1.757751      0.558764       -1.318778     10558   \n",
              "Sephora                  4.503324      0.833552       -5.215806      1949   \n",
              "Shein                    3.072460      0.670380       -4.324021        42   \n",
              "Taylor Stitch            0.000000      0.645833        0.245962        29   \n",
              "The Man Company          0.244403      7.478483        6.972233       205   \n",
              "Veet                     2.000000      0.000000       -1.370610      1349   \n",
              "W For Women              3.000000      0.000000       -2.992753         8   \n",
              "\n",
              "                   Days Old  Freq of Female Words  Freq of Male Words  \\\n",
              "Brand                                                                   \n",
              "Baxter                22049                     7                   6   \n",
              "Beardo                11945                     9                  12   \n",
              "Chanel                30826                   102                  25   \n",
              "Dollar Shave Club     12303                     6                  24   \n",
              "Fenty Beauty          14691                    42                  37   \n",
              "Gillette               7567                     9                  52   \n",
              "Hugo Boss             12290                    16                   6   \n",
              "Lancome               10618                    18                   1   \n",
              "Loreal                 6923                     2                   3   \n",
              "Lumin                  6537                     6                  36   \n",
              "Maybelline            12270                     3                  10   \n",
              "Old Spice             17756                    18                  48   \n",
              "Peter England         29558                     1                  10   \n",
              "Rare Beauty            5300                    58                  53   \n",
              "Sephora                9690                    74                  27   \n",
              "Shein                  1213                   142                  71   \n",
              "Taylor Stitch          2406                     0                   8   \n",
              "The Man Company       10520                   131                 205   \n",
              "Veet                   9796                     2                   0   \n",
              "W For Women           10477                     5                   0   \n",
              "\n",
              "                   Genbit Score  Group  Length   Likes      Views  \n",
              "Brand                                                              \n",
              "Baxter                 2.705264      1    7624    2406    8162420  \n",
              "Beardo                 5.539433      1    4034   11842   46461777  \n",
              "Chanel                 6.612798      2   15799  488000   81585458  \n",
              "Dollar Shave Club      1.752471      1   24063  153066   36210921  \n",
              "Fenty Beauty           3.282830      2   36965  515600   20319966  \n",
              "Gillette               6.695955      1    8416   96168   70545754  \n",
              "Hugo Boss              2.974110      1    6135   10255   13607459  \n",
              "Lancome                3.913216      2    9412    6642    8929492  \n",
              "Loreal                 0.869210      2    4156    7958  375508207  \n",
              "Lumin                  6.130032      1   11062     359    7896601  \n",
              "Maybelline             1.203574      2    8124   22251   87071351  \n",
              "Old Spice              5.795288      1    7847  455545  360968497  \n",
              "Peter England          1.433252      1   10479   29904   36133468  \n",
              "Rare Beauty            1.837463      2   50433  296000    7995623  \n",
              "Sephora                6.734489      2   23373   45335   23995615  \n",
              "Shein                  4.613016      2   79847     302      18568  \n",
              "Taylor Stitch          0.272442      1   13603     175      10165  \n",
              "The Man Company        6.728635      1   37409    6159   15905558  \n",
              "Veet                   1.150549      2    4081   21515   26982618  \n",
              "W For Women            2.596337      2    2289    1256   15395193  "
            ],
            "text/html": [
              "\n",
              "  <div id=\"df-4a59f38d-f9bb-4431-bfff-a75a54ad145a\">\n",
              "    <div class=\"colab-df-container\">\n",
              "      <div>\n",
              "<style scoped>\n",
              "    .dataframe tbody tr th:only-of-type {\n",
              "        vertical-align: middle;\n",
              "    }\n",
              "\n",
              "    .dataframe tbody tr th {\n",
              "        vertical-align: top;\n",
              "    }\n",
              "\n",
              "    .dataframe thead th {\n",
              "        text-align: right;\n",
              "    }\n",
              "</style>\n",
              "<table border=\"1\" class=\"dataframe\">\n",
              "  <thead>\n",
              "    <tr style=\"text-align: right;\">\n",
              "      <th></th>\n",
              "      <th>% Female Words</th>\n",
              "      <th>% Male Words</th>\n",
              "      <th>Avg Bias Ratio</th>\n",
              "      <th>Comments</th>\n",
              "      <th>Days Old</th>\n",
              "      <th>Freq of Female Words</th>\n",
              "      <th>Freq of Male Words</th>\n",
              "      <th>Genbit Score</th>\n",
              "      <th>Group</th>\n",
              "      <th>Length</th>\n",
              "      <th>Likes</th>\n",
              "      <th>Views</th>\n",
              "    </tr>\n",
              "    <tr>\n",
              "      <th>Brand</th>\n",
              "      <th></th>\n",
              "      <th></th>\n",
              "      <th></th>\n",
              "      <th></th>\n",
              "      <th></th>\n",
              "      <th></th>\n",
              "      <th></th>\n",
              "      <th></th>\n",
              "      <th></th>\n",
              "      <th></th>\n",
              "      <th></th>\n",
              "      <th></th>\n",
              "    </tr>\n",
              "  </thead>\n",
              "  <tbody>\n",
              "    <tr>\n",
              "      <th>Baxter</th>\n",
              "      <td>0.500000</td>\n",
              "      <td>2.000000</td>\n",
              "      <td>1.169384</td>\n",
              "      <td>175</td>\n",
              "      <td>22049</td>\n",
              "      <td>7</td>\n",
              "      <td>6</td>\n",
              "      <td>2.705264</td>\n",
              "      <td>1</td>\n",
              "      <td>7624</td>\n",
              "      <td>2406</td>\n",
              "      <td>8162420</td>\n",
              "    </tr>\n",
              "    <tr>\n",
              "      <th>Beardo</th>\n",
              "      <td>2.333333</td>\n",
              "      <td>3.083333</td>\n",
              "      <td>0.437618</td>\n",
              "      <td>147</td>\n",
              "      <td>11945</td>\n",
              "      <td>9</td>\n",
              "      <td>12</td>\n",
              "      <td>5.539433</td>\n",
              "      <td>1</td>\n",
              "      <td>4034</td>\n",
              "      <td>11842</td>\n",
              "      <td>46461777</td>\n",
              "    </tr>\n",
              "    <tr>\n",
              "      <th>Chanel</th>\n",
              "      <td>5.105976</td>\n",
              "      <td>1.649393</td>\n",
              "      <td>-4.420704</td>\n",
              "      <td>16840</td>\n",
              "      <td>30826</td>\n",
              "      <td>102</td>\n",
              "      <td>25</td>\n",
              "      <td>6.612798</td>\n",
              "      <td>2</td>\n",
              "      <td>15799</td>\n",
              "      <td>488000</td>\n",
              "      <td>81585458</td>\n",
              "    </tr>\n",
              "    <tr>\n",
              "      <th>Dollar Shave Club</th>\n",
              "      <td>0.365642</td>\n",
              "      <td>1.905749</td>\n",
              "      <td>1.272304</td>\n",
              "      <td>9483</td>\n",
              "      <td>12303</td>\n",
              "      <td>6</td>\n",
              "      <td>24</td>\n",
              "      <td>1.752471</td>\n",
              "      <td>1</td>\n",
              "      <td>24063</td>\n",
              "      <td>153066</td>\n",
              "      <td>36210921</td>\n",
              "    </tr>\n",
              "    <tr>\n",
              "      <th>Fenty Beauty</th>\n",
              "      <td>3.130279</td>\n",
              "      <td>2.063792</td>\n",
              "      <td>-2.401192</td>\n",
              "      <td>15867</td>\n",
              "      <td>14691</td>\n",
              "      <td>42</td>\n",
              "      <td>37</td>\n",
              "      <td>3.282830</td>\n",
              "      <td>2</td>\n",
              "      <td>36965</td>\n",
              "      <td>515600</td>\n",
              "      <td>20319966</td>\n",
              "    </tr>\n",
              "    <tr>\n",
              "      <th>Gillette</th>\n",
              "      <td>0.660088</td>\n",
              "      <td>6.388870</td>\n",
              "      <td>7.233313</td>\n",
              "      <td>26530</td>\n",
              "      <td>7567</td>\n",
              "      <td>9</td>\n",
              "      <td>52</td>\n",
              "      <td>6.695955</td>\n",
              "      <td>1</td>\n",
              "      <td>8416</td>\n",
              "      <td>96168</td>\n",
              "      <td>70545754</td>\n",
              "    </tr>\n",
              "    <tr>\n",
              "      <th>Hugo Boss</th>\n",
              "      <td>1.714286</td>\n",
              "      <td>1.142857</td>\n",
              "      <td>-0.509593</td>\n",
              "      <td>481</td>\n",
              "      <td>12290</td>\n",
              "      <td>16</td>\n",
              "      <td>6</td>\n",
              "      <td>2.974110</td>\n",
              "      <td>1</td>\n",
              "      <td>6135</td>\n",
              "      <td>10255</td>\n",
              "      <td>13607459</td>\n",
              "    </tr>\n",
              "    <tr>\n",
              "      <th>Lancome</th>\n",
              "      <td>3.138462</td>\n",
              "      <td>1.000000</td>\n",
              "      <td>-3.021117</td>\n",
              "      <td>274</td>\n",
              "      <td>10618</td>\n",
              "      <td>18</td>\n",
              "      <td>1</td>\n",
              "      <td>3.913216</td>\n",
              "      <td>2</td>\n",
              "      <td>9412</td>\n",
              "      <td>6642</td>\n",
              "      <td>8929492</td>\n",
              "    </tr>\n",
              "    <tr>\n",
              "      <th>Loreal</th>\n",
              "      <td>0.666667</td>\n",
              "      <td>1.333333</td>\n",
              "      <td>0.328819</td>\n",
              "      <td>864</td>\n",
              "      <td>6923</td>\n",
              "      <td>2</td>\n",
              "      <td>3</td>\n",
              "      <td>0.869210</td>\n",
              "      <td>2</td>\n",
              "      <td>4156</td>\n",
              "      <td>7958</td>\n",
              "      <td>375508207</td>\n",
              "    </tr>\n",
              "    <tr>\n",
              "      <th>Lumin</th>\n",
              "      <td>1.857143</td>\n",
              "      <td>3.508929</td>\n",
              "      <td>3.084114</td>\n",
              "      <td>114</td>\n",
              "      <td>6537</td>\n",
              "      <td>6</td>\n",
              "      <td>36</td>\n",
              "      <td>6.130032</td>\n",
              "      <td>1</td>\n",
              "      <td>11062</td>\n",
              "      <td>359</td>\n",
              "      <td>7896601</td>\n",
              "    </tr>\n",
              "    <tr>\n",
              "      <th>Maybelline</th>\n",
              "      <td>0.611111</td>\n",
              "      <td>1.944444</td>\n",
              "      <td>-0.338240</td>\n",
              "      <td>1881</td>\n",
              "      <td>12270</td>\n",
              "      <td>3</td>\n",
              "      <td>10</td>\n",
              "      <td>1.203574</td>\n",
              "      <td>2</td>\n",
              "      <td>8124</td>\n",
              "      <td>22251</td>\n",
              "      <td>87071351</td>\n",
              "    </tr>\n",
              "    <tr>\n",
              "      <th>Old Spice</th>\n",
              "      <td>2.079437</td>\n",
              "      <td>5.639610</td>\n",
              "      <td>6.176935</td>\n",
              "      <td>48815</td>\n",
              "      <td>17756</td>\n",
              "      <td>18</td>\n",
              "      <td>48</td>\n",
              "      <td>5.795288</td>\n",
              "      <td>1</td>\n",
              "      <td>7847</td>\n",
              "      <td>455545</td>\n",
              "      <td>360968497</td>\n",
              "    </tr>\n",
              "    <tr>\n",
              "      <th>Peter England</th>\n",
              "      <td>0.041667</td>\n",
              "      <td>3.095238</td>\n",
              "      <td>1.389284</td>\n",
              "      <td>932</td>\n",
              "      <td>29558</td>\n",
              "      <td>1</td>\n",
              "      <td>10</td>\n",
              "      <td>1.433252</td>\n",
              "      <td>1</td>\n",
              "      <td>10479</td>\n",
              "      <td>29904</td>\n",
              "      <td>36133468</td>\n",
              "    </tr>\n",
              "    <tr>\n",
              "      <th>Rare Beauty</th>\n",
              "      <td>1.757751</td>\n",
              "      <td>0.558764</td>\n",
              "      <td>-1.318778</td>\n",
              "      <td>10558</td>\n",
              "      <td>5300</td>\n",
              "      <td>58</td>\n",
              "      <td>53</td>\n",
              "      <td>1.837463</td>\n",
              "      <td>2</td>\n",
              "      <td>50433</td>\n",
              "      <td>296000</td>\n",
              "      <td>7995623</td>\n",
              "    </tr>\n",
              "    <tr>\n",
              "      <th>Sephora</th>\n",
              "      <td>4.503324</td>\n",
              "      <td>0.833552</td>\n",
              "      <td>-5.215806</td>\n",
              "      <td>1949</td>\n",
              "      <td>9690</td>\n",
              "      <td>74</td>\n",
              "      <td>27</td>\n",
              "      <td>6.734489</td>\n",
              "      <td>2</td>\n",
              "      <td>23373</td>\n",
              "      <td>45335</td>\n",
              "      <td>23995615</td>\n",
              "    </tr>\n",
              "    <tr>\n",
              "      <th>Shein</th>\n",
              "      <td>3.072460</td>\n",
              "      <td>0.670380</td>\n",
              "      <td>-4.324021</td>\n",
              "      <td>42</td>\n",
              "      <td>1213</td>\n",
              "      <td>142</td>\n",
              "      <td>71</td>\n",
              "      <td>4.613016</td>\n",
              "      <td>2</td>\n",
              "      <td>79847</td>\n",
              "      <td>302</td>\n",
              "      <td>18568</td>\n",
              "    </tr>\n",
              "    <tr>\n",
              "      <th>Taylor Stitch</th>\n",
              "      <td>0.000000</td>\n",
              "      <td>0.645833</td>\n",
              "      <td>0.245962</td>\n",
              "      <td>29</td>\n",
              "      <td>2406</td>\n",
              "      <td>0</td>\n",
              "      <td>8</td>\n",
              "      <td>0.272442</td>\n",
              "      <td>1</td>\n",
              "      <td>13603</td>\n",
              "      <td>175</td>\n",
              "      <td>10165</td>\n",
              "    </tr>\n",
              "    <tr>\n",
              "      <th>The Man Company</th>\n",
              "      <td>0.244403</td>\n",
              "      <td>7.478483</td>\n",
              "      <td>6.972233</td>\n",
              "      <td>205</td>\n",
              "      <td>10520</td>\n",
              "      <td>131</td>\n",
              "      <td>205</td>\n",
              "      <td>6.728635</td>\n",
              "      <td>1</td>\n",
              "      <td>37409</td>\n",
              "      <td>6159</td>\n",
              "      <td>15905558</td>\n",
              "    </tr>\n",
              "    <tr>\n",
              "      <th>Veet</th>\n",
              "      <td>2.000000</td>\n",
              "      <td>0.000000</td>\n",
              "      <td>-1.370610</td>\n",
              "      <td>1349</td>\n",
              "      <td>9796</td>\n",
              "      <td>2</td>\n",
              "      <td>0</td>\n",
              "      <td>1.150549</td>\n",
              "      <td>2</td>\n",
              "      <td>4081</td>\n",
              "      <td>21515</td>\n",
              "      <td>26982618</td>\n",
              "    </tr>\n",
              "    <tr>\n",
              "      <th>W For Women</th>\n",
              "      <td>3.000000</td>\n",
              "      <td>0.000000</td>\n",
              "      <td>-2.992753</td>\n",
              "      <td>8</td>\n",
              "      <td>10477</td>\n",
              "      <td>5</td>\n",
              "      <td>0</td>\n",
              "      <td>2.596337</td>\n",
              "      <td>2</td>\n",
              "      <td>2289</td>\n",
              "      <td>1256</td>\n",
              "      <td>15395193</td>\n",
              "    </tr>\n",
              "  </tbody>\n",
              "</table>\n",
              "</div>\n",
              "      <button class=\"colab-df-convert\" onclick=\"convertToInteractive('df-4a59f38d-f9bb-4431-bfff-a75a54ad145a')\"\n",
              "              title=\"Convert this dataframe to an interactive table.\"\n",
              "              style=\"display:none;\">\n",
              "        \n",
              "  <svg xmlns=\"http://www.w3.org/2000/svg\" height=\"24px\"viewBox=\"0 0 24 24\"\n",
              "       width=\"24px\">\n",
              "    <path d=\"M0 0h24v24H0V0z\" fill=\"none\"/>\n",
              "    <path d=\"M18.56 5.44l.94 2.06.94-2.06 2.06-.94-2.06-.94-.94-2.06-.94 2.06-2.06.94zm-11 1L8.5 8.5l.94-2.06 2.06-.94-2.06-.94L8.5 2.5l-.94 2.06-2.06.94zm10 10l.94 2.06.94-2.06 2.06-.94-2.06-.94-.94-2.06-.94 2.06-2.06.94z\"/><path d=\"M17.41 7.96l-1.37-1.37c-.4-.4-.92-.59-1.43-.59-.52 0-1.04.2-1.43.59L10.3 9.45l-7.72 7.72c-.78.78-.78 2.05 0 2.83L4 21.41c.39.39.9.59 1.41.59.51 0 1.02-.2 1.41-.59l7.78-7.78 2.81-2.81c.8-.78.8-2.07 0-2.86zM5.41 20L4 18.59l7.72-7.72 1.47 1.35L5.41 20z\"/>\n",
              "  </svg>\n",
              "      </button>\n",
              "      \n",
              "  <style>\n",
              "    .colab-df-container {\n",
              "      display:flex;\n",
              "      flex-wrap:wrap;\n",
              "      gap: 12px;\n",
              "    }\n",
              "\n",
              "    .colab-df-convert {\n",
              "      background-color: #E8F0FE;\n",
              "      border: none;\n",
              "      border-radius: 50%;\n",
              "      cursor: pointer;\n",
              "      display: none;\n",
              "      fill: #1967D2;\n",
              "      height: 32px;\n",
              "      padding: 0 0 0 0;\n",
              "      width: 32px;\n",
              "    }\n",
              "\n",
              "    .colab-df-convert:hover {\n",
              "      background-color: #E2EBFA;\n",
              "      box-shadow: 0px 1px 2px rgba(60, 64, 67, 0.3), 0px 1px 3px 1px rgba(60, 64, 67, 0.15);\n",
              "      fill: #174EA6;\n",
              "    }\n",
              "\n",
              "    [theme=dark] .colab-df-convert {\n",
              "      background-color: #3B4455;\n",
              "      fill: #D2E3FC;\n",
              "    }\n",
              "\n",
              "    [theme=dark] .colab-df-convert:hover {\n",
              "      background-color: #434B5C;\n",
              "      box-shadow: 0px 1px 3px 1px rgba(0, 0, 0, 0.15);\n",
              "      filter: drop-shadow(0px 1px 2px rgba(0, 0, 0, 0.3));\n",
              "      fill: #FFFFFF;\n",
              "    }\n",
              "  </style>\n",
              "\n",
              "      <script>\n",
              "        const buttonEl =\n",
              "          document.querySelector('#df-4a59f38d-f9bb-4431-bfff-a75a54ad145a button.colab-df-convert');\n",
              "        buttonEl.style.display =\n",
              "          google.colab.kernel.accessAllowed ? 'block' : 'none';\n",
              "\n",
              "        async function convertToInteractive(key) {\n",
              "          const element = document.querySelector('#df-4a59f38d-f9bb-4431-bfff-a75a54ad145a');\n",
              "          const dataTable =\n",
              "            await google.colab.kernel.invokeFunction('convertToInteractive',\n",
              "                                                     [key], {});\n",
              "          if (!dataTable) return;\n",
              "\n",
              "          const docLinkHtml = 'Like what you see? Visit the ' +\n",
              "            '<a target=\"_blank\" href=https://colab.research.google.com/notebooks/data_table.ipynb>data table notebook</a>'\n",
              "            + ' to learn more about interactive tables.';\n",
              "          element.innerHTML = '';\n",
              "          dataTable['output_type'] = 'display_data';\n",
              "          await google.colab.output.renderOutput(dataTable, element);\n",
              "          const docLink = document.createElement('div');\n",
              "          docLink.innerHTML = docLinkHtml;\n",
              "          element.appendChild(docLink);\n",
              "        }\n",
              "      </script>\n",
              "    </div>\n",
              "  </div>\n",
              "  "
            ]
          },
          "metadata": {},
          "execution_count": 33
        }
      ]
    },
    {
      "cell_type": "code",
      "source": [
        "new_df.sort_values(by='Genbit Score', ascending=False)"
      ],
      "metadata": {
        "colab": {
          "base_uri": "https://localhost:8080/",
          "height": 925
        },
        "id": "cbXT3hbddpB4",
        "outputId": "22865be9-ae93-480d-c920-56a4f0609152"
      },
      "execution_count": null,
      "outputs": [
        {
          "output_type": "execute_result",
          "data": {
            "text/plain": [
              "                   % Female Words  % Male Words  Avg Bias Ratio  Comments  \\\n",
              "Brand                                                                       \n",
              "Sephora                  4.503324      0.833552       -5.215806      1949   \n",
              "The Man Company          0.244403      7.478483        6.972233       205   \n",
              "Gillette                 0.660088      6.388870        7.233313     26530   \n",
              "Chanel                   5.105976      1.649393       -4.420704     16840   \n",
              "Lumin                    1.857143      3.508929        3.084114       114   \n",
              "Old Spice                2.079437      5.639610        6.176935     48815   \n",
              "Beardo                   2.333333      3.083333        0.437618       147   \n",
              "Shein                    3.072460      0.670380       -4.324021        42   \n",
              "Lancome                  3.138462      1.000000       -3.021117       274   \n",
              "Fenty Beauty             3.130279      2.063792       -2.401192     15867   \n",
              "Hugo Boss                1.714286      1.142857       -0.509593       481   \n",
              "Baxter                   0.500000      2.000000        1.169384       175   \n",
              "W For Women              3.000000      0.000000       -2.992753         8   \n",
              "Rare Beauty              1.757751      0.558764       -1.318778     10558   \n",
              "Dollar Shave Club        0.365642      1.905749        1.272304      9483   \n",
              "Peter England            0.041667      3.095238        1.389284       932   \n",
              "Maybelline               0.611111      1.944444       -0.338240      1881   \n",
              "Veet                     2.000000      0.000000       -1.370610      1349   \n",
              "Loreal                   0.666667      1.333333        0.328819       864   \n",
              "Taylor Stitch            0.000000      0.645833        0.245962        29   \n",
              "\n",
              "                   Days Old  Freq of Female Words  Freq of Male Words  \\\n",
              "Brand                                                                   \n",
              "Sephora                9690                    74                  27   \n",
              "The Man Company       10520                   131                 205   \n",
              "Gillette               7567                     9                  52   \n",
              "Chanel                30826                   102                  25   \n",
              "Lumin                  6537                     6                  36   \n",
              "Old Spice             17756                    18                  48   \n",
              "Beardo                11945                     9                  12   \n",
              "Shein                  1213                   142                  71   \n",
              "Lancome               10618                    18                   1   \n",
              "Fenty Beauty          14691                    42                  37   \n",
              "Hugo Boss             12290                    16                   6   \n",
              "Baxter                22049                     7                   6   \n",
              "W For Women           10477                     5                   0   \n",
              "Rare Beauty            5300                    58                  53   \n",
              "Dollar Shave Club     12303                     6                  24   \n",
              "Peter England         29558                     1                  10   \n",
              "Maybelline            12270                     3                  10   \n",
              "Veet                   9796                     2                   0   \n",
              "Loreal                 6923                     2                   3   \n",
              "Taylor Stitch          2406                     0                   8   \n",
              "\n",
              "                   Genbit Score  Group  Length   Likes      Views  \n",
              "Brand                                                              \n",
              "Sephora                6.734489      2   23373   45335   23995615  \n",
              "The Man Company        6.728635      1   37409    6159   15905558  \n",
              "Gillette               6.695955      1    8416   96168   70545754  \n",
              "Chanel                 6.612798      2   15799  488000   81585458  \n",
              "Lumin                  6.130032      1   11062     359    7896601  \n",
              "Old Spice              5.795288      1    7847  455545  360968497  \n",
              "Beardo                 5.539433      1    4034   11842   46461777  \n",
              "Shein                  4.613016      2   79847     302      18568  \n",
              "Lancome                3.913216      2    9412    6642    8929492  \n",
              "Fenty Beauty           3.282830      2   36965  515600   20319966  \n",
              "Hugo Boss              2.974110      1    6135   10255   13607459  \n",
              "Baxter                 2.705264      1    7624    2406    8162420  \n",
              "W For Women            2.596337      2    2289    1256   15395193  \n",
              "Rare Beauty            1.837463      2   50433  296000    7995623  \n",
              "Dollar Shave Club      1.752471      1   24063  153066   36210921  \n",
              "Peter England          1.433252      1   10479   29904   36133468  \n",
              "Maybelline             1.203574      2    8124   22251   87071351  \n",
              "Veet                   1.150549      2    4081   21515   26982618  \n",
              "Loreal                 0.869210      2    4156    7958  375508207  \n",
              "Taylor Stitch          0.272442      1   13603     175      10165  "
            ],
            "text/html": [
              "\n",
              "  <div id=\"df-36eda167-a1d2-4b73-8916-064c2c06a21d\">\n",
              "    <div class=\"colab-df-container\">\n",
              "      <div>\n",
              "<style scoped>\n",
              "    .dataframe tbody tr th:only-of-type {\n",
              "        vertical-align: middle;\n",
              "    }\n",
              "\n",
              "    .dataframe tbody tr th {\n",
              "        vertical-align: top;\n",
              "    }\n",
              "\n",
              "    .dataframe thead th {\n",
              "        text-align: right;\n",
              "    }\n",
              "</style>\n",
              "<table border=\"1\" class=\"dataframe\">\n",
              "  <thead>\n",
              "    <tr style=\"text-align: right;\">\n",
              "      <th></th>\n",
              "      <th>% Female Words</th>\n",
              "      <th>% Male Words</th>\n",
              "      <th>Avg Bias Ratio</th>\n",
              "      <th>Comments</th>\n",
              "      <th>Days Old</th>\n",
              "      <th>Freq of Female Words</th>\n",
              "      <th>Freq of Male Words</th>\n",
              "      <th>Genbit Score</th>\n",
              "      <th>Group</th>\n",
              "      <th>Length</th>\n",
              "      <th>Likes</th>\n",
              "      <th>Views</th>\n",
              "    </tr>\n",
              "    <tr>\n",
              "      <th>Brand</th>\n",
              "      <th></th>\n",
              "      <th></th>\n",
              "      <th></th>\n",
              "      <th></th>\n",
              "      <th></th>\n",
              "      <th></th>\n",
              "      <th></th>\n",
              "      <th></th>\n",
              "      <th></th>\n",
              "      <th></th>\n",
              "      <th></th>\n",
              "      <th></th>\n",
              "    </tr>\n",
              "  </thead>\n",
              "  <tbody>\n",
              "    <tr>\n",
              "      <th>Sephora</th>\n",
              "      <td>4.503324</td>\n",
              "      <td>0.833552</td>\n",
              "      <td>-5.215806</td>\n",
              "      <td>1949</td>\n",
              "      <td>9690</td>\n",
              "      <td>74</td>\n",
              "      <td>27</td>\n",
              "      <td>6.734489</td>\n",
              "      <td>2</td>\n",
              "      <td>23373</td>\n",
              "      <td>45335</td>\n",
              "      <td>23995615</td>\n",
              "    </tr>\n",
              "    <tr>\n",
              "      <th>The Man Company</th>\n",
              "      <td>0.244403</td>\n",
              "      <td>7.478483</td>\n",
              "      <td>6.972233</td>\n",
              "      <td>205</td>\n",
              "      <td>10520</td>\n",
              "      <td>131</td>\n",
              "      <td>205</td>\n",
              "      <td>6.728635</td>\n",
              "      <td>1</td>\n",
              "      <td>37409</td>\n",
              "      <td>6159</td>\n",
              "      <td>15905558</td>\n",
              "    </tr>\n",
              "    <tr>\n",
              "      <th>Gillette</th>\n",
              "      <td>0.660088</td>\n",
              "      <td>6.388870</td>\n",
              "      <td>7.233313</td>\n",
              "      <td>26530</td>\n",
              "      <td>7567</td>\n",
              "      <td>9</td>\n",
              "      <td>52</td>\n",
              "      <td>6.695955</td>\n",
              "      <td>1</td>\n",
              "      <td>8416</td>\n",
              "      <td>96168</td>\n",
              "      <td>70545754</td>\n",
              "    </tr>\n",
              "    <tr>\n",
              "      <th>Chanel</th>\n",
              "      <td>5.105976</td>\n",
              "      <td>1.649393</td>\n",
              "      <td>-4.420704</td>\n",
              "      <td>16840</td>\n",
              "      <td>30826</td>\n",
              "      <td>102</td>\n",
              "      <td>25</td>\n",
              "      <td>6.612798</td>\n",
              "      <td>2</td>\n",
              "      <td>15799</td>\n",
              "      <td>488000</td>\n",
              "      <td>81585458</td>\n",
              "    </tr>\n",
              "    <tr>\n",
              "      <th>Lumin</th>\n",
              "      <td>1.857143</td>\n",
              "      <td>3.508929</td>\n",
              "      <td>3.084114</td>\n",
              "      <td>114</td>\n",
              "      <td>6537</td>\n",
              "      <td>6</td>\n",
              "      <td>36</td>\n",
              "      <td>6.130032</td>\n",
              "      <td>1</td>\n",
              "      <td>11062</td>\n",
              "      <td>359</td>\n",
              "      <td>7896601</td>\n",
              "    </tr>\n",
              "    <tr>\n",
              "      <th>Old Spice</th>\n",
              "      <td>2.079437</td>\n",
              "      <td>5.639610</td>\n",
              "      <td>6.176935</td>\n",
              "      <td>48815</td>\n",
              "      <td>17756</td>\n",
              "      <td>18</td>\n",
              "      <td>48</td>\n",
              "      <td>5.795288</td>\n",
              "      <td>1</td>\n",
              "      <td>7847</td>\n",
              "      <td>455545</td>\n",
              "      <td>360968497</td>\n",
              "    </tr>\n",
              "    <tr>\n",
              "      <th>Beardo</th>\n",
              "      <td>2.333333</td>\n",
              "      <td>3.083333</td>\n",
              "      <td>0.437618</td>\n",
              "      <td>147</td>\n",
              "      <td>11945</td>\n",
              "      <td>9</td>\n",
              "      <td>12</td>\n",
              "      <td>5.539433</td>\n",
              "      <td>1</td>\n",
              "      <td>4034</td>\n",
              "      <td>11842</td>\n",
              "      <td>46461777</td>\n",
              "    </tr>\n",
              "    <tr>\n",
              "      <th>Shein</th>\n",
              "      <td>3.072460</td>\n",
              "      <td>0.670380</td>\n",
              "      <td>-4.324021</td>\n",
              "      <td>42</td>\n",
              "      <td>1213</td>\n",
              "      <td>142</td>\n",
              "      <td>71</td>\n",
              "      <td>4.613016</td>\n",
              "      <td>2</td>\n",
              "      <td>79847</td>\n",
              "      <td>302</td>\n",
              "      <td>18568</td>\n",
              "    </tr>\n",
              "    <tr>\n",
              "      <th>Lancome</th>\n",
              "      <td>3.138462</td>\n",
              "      <td>1.000000</td>\n",
              "      <td>-3.021117</td>\n",
              "      <td>274</td>\n",
              "      <td>10618</td>\n",
              "      <td>18</td>\n",
              "      <td>1</td>\n",
              "      <td>3.913216</td>\n",
              "      <td>2</td>\n",
              "      <td>9412</td>\n",
              "      <td>6642</td>\n",
              "      <td>8929492</td>\n",
              "    </tr>\n",
              "    <tr>\n",
              "      <th>Fenty Beauty</th>\n",
              "      <td>3.130279</td>\n",
              "      <td>2.063792</td>\n",
              "      <td>-2.401192</td>\n",
              "      <td>15867</td>\n",
              "      <td>14691</td>\n",
              "      <td>42</td>\n",
              "      <td>37</td>\n",
              "      <td>3.282830</td>\n",
              "      <td>2</td>\n",
              "      <td>36965</td>\n",
              "      <td>515600</td>\n",
              "      <td>20319966</td>\n",
              "    </tr>\n",
              "    <tr>\n",
              "      <th>Hugo Boss</th>\n",
              "      <td>1.714286</td>\n",
              "      <td>1.142857</td>\n",
              "      <td>-0.509593</td>\n",
              "      <td>481</td>\n",
              "      <td>12290</td>\n",
              "      <td>16</td>\n",
              "      <td>6</td>\n",
              "      <td>2.974110</td>\n",
              "      <td>1</td>\n",
              "      <td>6135</td>\n",
              "      <td>10255</td>\n",
              "      <td>13607459</td>\n",
              "    </tr>\n",
              "    <tr>\n",
              "      <th>Baxter</th>\n",
              "      <td>0.500000</td>\n",
              "      <td>2.000000</td>\n",
              "      <td>1.169384</td>\n",
              "      <td>175</td>\n",
              "      <td>22049</td>\n",
              "      <td>7</td>\n",
              "      <td>6</td>\n",
              "      <td>2.705264</td>\n",
              "      <td>1</td>\n",
              "      <td>7624</td>\n",
              "      <td>2406</td>\n",
              "      <td>8162420</td>\n",
              "    </tr>\n",
              "    <tr>\n",
              "      <th>W For Women</th>\n",
              "      <td>3.000000</td>\n",
              "      <td>0.000000</td>\n",
              "      <td>-2.992753</td>\n",
              "      <td>8</td>\n",
              "      <td>10477</td>\n",
              "      <td>5</td>\n",
              "      <td>0</td>\n",
              "      <td>2.596337</td>\n",
              "      <td>2</td>\n",
              "      <td>2289</td>\n",
              "      <td>1256</td>\n",
              "      <td>15395193</td>\n",
              "    </tr>\n",
              "    <tr>\n",
              "      <th>Rare Beauty</th>\n",
              "      <td>1.757751</td>\n",
              "      <td>0.558764</td>\n",
              "      <td>-1.318778</td>\n",
              "      <td>10558</td>\n",
              "      <td>5300</td>\n",
              "      <td>58</td>\n",
              "      <td>53</td>\n",
              "      <td>1.837463</td>\n",
              "      <td>2</td>\n",
              "      <td>50433</td>\n",
              "      <td>296000</td>\n",
              "      <td>7995623</td>\n",
              "    </tr>\n",
              "    <tr>\n",
              "      <th>Dollar Shave Club</th>\n",
              "      <td>0.365642</td>\n",
              "      <td>1.905749</td>\n",
              "      <td>1.272304</td>\n",
              "      <td>9483</td>\n",
              "      <td>12303</td>\n",
              "      <td>6</td>\n",
              "      <td>24</td>\n",
              "      <td>1.752471</td>\n",
              "      <td>1</td>\n",
              "      <td>24063</td>\n",
              "      <td>153066</td>\n",
              "      <td>36210921</td>\n",
              "    </tr>\n",
              "    <tr>\n",
              "      <th>Peter England</th>\n",
              "      <td>0.041667</td>\n",
              "      <td>3.095238</td>\n",
              "      <td>1.389284</td>\n",
              "      <td>932</td>\n",
              "      <td>29558</td>\n",
              "      <td>1</td>\n",
              "      <td>10</td>\n",
              "      <td>1.433252</td>\n",
              "      <td>1</td>\n",
              "      <td>10479</td>\n",
              "      <td>29904</td>\n",
              "      <td>36133468</td>\n",
              "    </tr>\n",
              "    <tr>\n",
              "      <th>Maybelline</th>\n",
              "      <td>0.611111</td>\n",
              "      <td>1.944444</td>\n",
              "      <td>-0.338240</td>\n",
              "      <td>1881</td>\n",
              "      <td>12270</td>\n",
              "      <td>3</td>\n",
              "      <td>10</td>\n",
              "      <td>1.203574</td>\n",
              "      <td>2</td>\n",
              "      <td>8124</td>\n",
              "      <td>22251</td>\n",
              "      <td>87071351</td>\n",
              "    </tr>\n",
              "    <tr>\n",
              "      <th>Veet</th>\n",
              "      <td>2.000000</td>\n",
              "      <td>0.000000</td>\n",
              "      <td>-1.370610</td>\n",
              "      <td>1349</td>\n",
              "      <td>9796</td>\n",
              "      <td>2</td>\n",
              "      <td>0</td>\n",
              "      <td>1.150549</td>\n",
              "      <td>2</td>\n",
              "      <td>4081</td>\n",
              "      <td>21515</td>\n",
              "      <td>26982618</td>\n",
              "    </tr>\n",
              "    <tr>\n",
              "      <th>Loreal</th>\n",
              "      <td>0.666667</td>\n",
              "      <td>1.333333</td>\n",
              "      <td>0.328819</td>\n",
              "      <td>864</td>\n",
              "      <td>6923</td>\n",
              "      <td>2</td>\n",
              "      <td>3</td>\n",
              "      <td>0.869210</td>\n",
              "      <td>2</td>\n",
              "      <td>4156</td>\n",
              "      <td>7958</td>\n",
              "      <td>375508207</td>\n",
              "    </tr>\n",
              "    <tr>\n",
              "      <th>Taylor Stitch</th>\n",
              "      <td>0.000000</td>\n",
              "      <td>0.645833</td>\n",
              "      <td>0.245962</td>\n",
              "      <td>29</td>\n",
              "      <td>2406</td>\n",
              "      <td>0</td>\n",
              "      <td>8</td>\n",
              "      <td>0.272442</td>\n",
              "      <td>1</td>\n",
              "      <td>13603</td>\n",
              "      <td>175</td>\n",
              "      <td>10165</td>\n",
              "    </tr>\n",
              "  </tbody>\n",
              "</table>\n",
              "</div>\n",
              "      <button class=\"colab-df-convert\" onclick=\"convertToInteractive('df-36eda167-a1d2-4b73-8916-064c2c06a21d')\"\n",
              "              title=\"Convert this dataframe to an interactive table.\"\n",
              "              style=\"display:none;\">\n",
              "        \n",
              "  <svg xmlns=\"http://www.w3.org/2000/svg\" height=\"24px\"viewBox=\"0 0 24 24\"\n",
              "       width=\"24px\">\n",
              "    <path d=\"M0 0h24v24H0V0z\" fill=\"none\"/>\n",
              "    <path d=\"M18.56 5.44l.94 2.06.94-2.06 2.06-.94-2.06-.94-.94-2.06-.94 2.06-2.06.94zm-11 1L8.5 8.5l.94-2.06 2.06-.94-2.06-.94L8.5 2.5l-.94 2.06-2.06.94zm10 10l.94 2.06.94-2.06 2.06-.94-2.06-.94-.94-2.06-.94 2.06-2.06.94z\"/><path d=\"M17.41 7.96l-1.37-1.37c-.4-.4-.92-.59-1.43-.59-.52 0-1.04.2-1.43.59L10.3 9.45l-7.72 7.72c-.78.78-.78 2.05 0 2.83L4 21.41c.39.39.9.59 1.41.59.51 0 1.02-.2 1.41-.59l7.78-7.78 2.81-2.81c.8-.78.8-2.07 0-2.86zM5.41 20L4 18.59l7.72-7.72 1.47 1.35L5.41 20z\"/>\n",
              "  </svg>\n",
              "      </button>\n",
              "      \n",
              "  <style>\n",
              "    .colab-df-container {\n",
              "      display:flex;\n",
              "      flex-wrap:wrap;\n",
              "      gap: 12px;\n",
              "    }\n",
              "\n",
              "    .colab-df-convert {\n",
              "      background-color: #E8F0FE;\n",
              "      border: none;\n",
              "      border-radius: 50%;\n",
              "      cursor: pointer;\n",
              "      display: none;\n",
              "      fill: #1967D2;\n",
              "      height: 32px;\n",
              "      padding: 0 0 0 0;\n",
              "      width: 32px;\n",
              "    }\n",
              "\n",
              "    .colab-df-convert:hover {\n",
              "      background-color: #E2EBFA;\n",
              "      box-shadow: 0px 1px 2px rgba(60, 64, 67, 0.3), 0px 1px 3px 1px rgba(60, 64, 67, 0.15);\n",
              "      fill: #174EA6;\n",
              "    }\n",
              "\n",
              "    [theme=dark] .colab-df-convert {\n",
              "      background-color: #3B4455;\n",
              "      fill: #D2E3FC;\n",
              "    }\n",
              "\n",
              "    [theme=dark] .colab-df-convert:hover {\n",
              "      background-color: #434B5C;\n",
              "      box-shadow: 0px 1px 3px 1px rgba(0, 0, 0, 0.15);\n",
              "      filter: drop-shadow(0px 1px 2px rgba(0, 0, 0, 0.3));\n",
              "      fill: #FFFFFF;\n",
              "    }\n",
              "  </style>\n",
              "\n",
              "      <script>\n",
              "        const buttonEl =\n",
              "          document.querySelector('#df-36eda167-a1d2-4b73-8916-064c2c06a21d button.colab-df-convert');\n",
              "        buttonEl.style.display =\n",
              "          google.colab.kernel.accessAllowed ? 'block' : 'none';\n",
              "\n",
              "        async function convertToInteractive(key) {\n",
              "          const element = document.querySelector('#df-36eda167-a1d2-4b73-8916-064c2c06a21d');\n",
              "          const dataTable =\n",
              "            await google.colab.kernel.invokeFunction('convertToInteractive',\n",
              "                                                     [key], {});\n",
              "          if (!dataTable) return;\n",
              "\n",
              "          const docLinkHtml = 'Like what you see? Visit the ' +\n",
              "            '<a target=\"_blank\" href=https://colab.research.google.com/notebooks/data_table.ipynb>data table notebook</a>'\n",
              "            + ' to learn more about interactive tables.';\n",
              "          element.innerHTML = '';\n",
              "          dataTable['output_type'] = 'display_data';\n",
              "          await google.colab.output.renderOutput(dataTable, element);\n",
              "          const docLink = document.createElement('div');\n",
              "          docLink.innerHTML = docLinkHtml;\n",
              "          element.appendChild(docLink);\n",
              "        }\n",
              "      </script>\n",
              "    </div>\n",
              "  </div>\n",
              "  "
            ]
          },
          "metadata": {},
          "execution_count": 38
        }
      ]
    },
    {
      "cell_type": "code",
      "source": [
        "new_df.to_excel(\"/content/Internship/Company_wise_metrics.xlsx\")"
      ],
      "metadata": {
        "id": "kj3wYTN-cYep"
      },
      "execution_count": null,
      "outputs": []
    },
    {
      "cell_type": "markdown",
      "source": [
        "#### Masculine Brands Selected: Old Spice, The Man Company and Gillette <br>\n",
        "#### Feminine Brands Selected: Shein, Chanel and Sephora"
      ],
      "metadata": {
        "id": "wak_77McdSIX"
      }
    },
    {
      "cell_type": "code",
      "source": [
        "df = pd.read_csv(\"/content/Internship/Results_New.csv\")"
      ],
      "metadata": {
        "id": "3SETH3Kjewel"
      },
      "execution_count": 43,
      "outputs": []
    },
    {
      "cell_type": "code",
      "source": [
        "df.info()"
      ],
      "metadata": {
        "colab": {
          "base_uri": "https://localhost:8080/"
        },
        "id": "dZ7idfnZe-Uk",
        "outputId": "24607836-1889-4b6d-92be-3e354c5a195f"
      },
      "execution_count": 44,
      "outputs": [
        {
          "output_type": "stream",
          "name": "stdout",
          "text": [
            "<class 'pandas.core.frame.DataFrame'>\n",
            "RangeIndex: 150 entries, 0 to 149\n",
            "Data columns (total 9 columns):\n",
            " #   Column      Non-Null Count  Dtype \n",
            "---  ------      --------------  ----- \n",
            " 0   Brand       150 non-null    object\n",
            " 1   Title       150 non-null    object\n",
            " 2   Link        150 non-null    object\n",
            " 3   Transcript  150 non-null    object\n",
            " 4   Group       150 non-null    object\n",
            " 5   Views       150 non-null    int64 \n",
            " 6   Likes       150 non-null    int64 \n",
            " 7   Comment     150 non-null    int64 \n",
            " 8   Date        150 non-null    object\n",
            "dtypes: int64(3), object(6)\n",
            "memory usage: 10.7+ KB\n"
          ]
        }
      ]
    },
    {
      "cell_type": "code",
      "source": [
        "df[\"Transcript\"] = df[\"Transcript\"].astype(str)"
      ],
      "metadata": {
        "id": "jeil7ZO_5JZZ"
      },
      "execution_count": 45,
      "outputs": []
    },
    {
      "cell_type": "code",
      "source": [
        "df[\"Group\"] = df[\"Group\"].astype(str)"
      ],
      "metadata": {
        "id": "VjdmYGsIvHU3"
      },
      "execution_count": 46,
      "outputs": []
    },
    {
      "cell_type": "code",
      "source": [
        "transcripts = np.array(df[\"Transcript\"])"
      ],
      "metadata": {
        "id": "11zkZJLf4SIj"
      },
      "execution_count": 48,
      "outputs": []
    },
    {
      "cell_type": "code",
      "source": [
        "genbit_score = []\n",
        "percentage_of_female_gender_definition_words = []\n",
        "percentage_of_male_gender_definition_words = []\n",
        "avg_bias_ratio = []\n",
        "freq_of_female_gender_definition_words = []\n",
        "freq_of_male_gender_definition_words = []"
      ],
      "metadata": {
        "id": "1r_l2WRbeV6Z"
      },
      "execution_count": 49,
      "outputs": []
    },
    {
      "cell_type": "code",
      "source": [
        "for data in transcripts:\n",
        "  test_text = [data]\n",
        "  genbit_metrics_object = GenBitMetrics(language_code, context_window=5, distance_weight=0.95, percentile_cutoff=80)\n",
        "  genbit_metrics_object.add_data(test_text, tokenized=False)\n",
        "  metrics = genbit_metrics_object.get_metrics(output_statistics=True, output_word_list=True)\n",
        "  genbit_score.append(metrics[\"genbit_score\"])\n",
        "  percentage_of_female_gender_definition_words.append(metrics[\"percentage_of_female_gender_definition_words\"])\n",
        "  percentage_of_male_gender_definition_words.append(metrics[\"percentage_of_male_gender_definition_words\"])\n",
        "  avg_bias_ratio.append(metrics[\"additional_metrics\"][\"avg_bias_ratio\"])\n",
        "  freq_of_female_gender_definition_words.append(metrics[\"statistics\"][\"freq_of_female_gender_definition_words\"])\n",
        "  freq_of_male_gender_definition_words.append(metrics[\"statistics\"][\"freq_of_male_gender_definition_words\"])"
      ],
      "metadata": {
        "id": "nQ0uLedAeXl_"
      },
      "execution_count": 50,
      "outputs": []
    },
    {
      "cell_type": "code",
      "source": [
        "df[\"Genbit Score\"] = genbit_score\n",
        "df[\"% Female Words\"] = percentage_of_female_gender_definition_words\n",
        "df[\"% Male Words\"] = percentage_of_male_gender_definition_words\n",
        "df[\"Avg Bias Ratio\"] = avg_bias_ratio\n",
        "df[\"Freq of Female Words\"] = freq_of_female_gender_definition_words\n",
        "df[\"Freq of Male Words\"] = freq_of_male_gender_definition_words"
      ],
      "metadata": {
        "id": "IyvS8NTEej0V"
      },
      "execution_count": 51,
      "outputs": []
    },
    {
      "cell_type": "code",
      "source": [
        "df['Date'] = pd.to_datetime(df['Date'])\n",
        "df['Days Old'] = datetime.now() - df['Date']\n",
        "df['Days Old'] = df['Days Old'].dt.days"
      ],
      "metadata": {
        "id": "GnZ2M6CF6GsE"
      },
      "execution_count": 52,
      "outputs": []
    },
    {
      "cell_type": "code",
      "source": [
        "df[\"Length\"] = df[\"Transcript\"].str.len()\n",
        "df[\"Group\"] = df[\"Group\"].map({'M': 1, 'F': 2})"
      ],
      "metadata": {
        "id": "wNbJEra96bSj"
      },
      "execution_count": 54,
      "outputs": []
    },
    {
      "cell_type": "code",
      "source": [
        "df.info()"
      ],
      "metadata": {
        "colab": {
          "base_uri": "https://localhost:8080/"
        },
        "id": "hYdUb5Hl6g5c",
        "outputId": "041cf6d1-2195-4057-d9a8-c5bf02d18b45"
      },
      "execution_count": 56,
      "outputs": [
        {
          "output_type": "stream",
          "name": "stdout",
          "text": [
            "<class 'pandas.core.frame.DataFrame'>\n",
            "RangeIndex: 150 entries, 0 to 149\n",
            "Data columns (total 17 columns):\n",
            " #   Column                Non-Null Count  Dtype         \n",
            "---  ------                --------------  -----         \n",
            " 0   Brand                 150 non-null    object        \n",
            " 1   Title                 150 non-null    object        \n",
            " 2   Link                  150 non-null    object        \n",
            " 3   Transcript            150 non-null    object        \n",
            " 4   Group                 150 non-null    int64         \n",
            " 5   Views                 150 non-null    int64         \n",
            " 6   Likes                 150 non-null    int64         \n",
            " 7   Comment               150 non-null    int64         \n",
            " 8   Date                  150 non-null    datetime64[ns]\n",
            " 9   Genbit Score          150 non-null    float64       \n",
            " 10  % Female Words        150 non-null    float64       \n",
            " 11  % Male Words          150 non-null    float64       \n",
            " 12  Avg Bias Ratio        150 non-null    float64       \n",
            " 13  Freq of Female Words  150 non-null    int64         \n",
            " 14  Freq of Male Words    150 non-null    int64         \n",
            " 15  Days Old              150 non-null    int64         \n",
            " 16  Length                150 non-null    int64         \n",
            "dtypes: datetime64[ns](1), float64(4), int64(8), object(4)\n",
            "memory usage: 20.0+ KB\n"
          ]
        }
      ]
    },
    {
      "cell_type": "code",
      "source": [
        "df.to_excel(\"/content/Internship/Transcripts.xlsx\")"
      ],
      "metadata": {
        "id": "5XaS1yMBAcA9"
      },
      "execution_count": 57,
      "outputs": []
    },
    {
      "cell_type": "code",
      "source": [
        "df"
      ],
      "metadata": {
        "colab": {
          "base_uri": "https://localhost:8080/",
          "height": 1000
        },
        "id": "dwf3Wz-nu2ml",
        "outputId": "a5de6075-4782-4f50-98d9-f826ee23aaae"
      },
      "execution_count": 58,
      "outputs": [
        {
          "output_type": "execute_result",
          "data": {
            "text/plain": [
              "         Brand                                              Title  \\\n",
              "0    Old Spice  The Expert | Old Spice GentleMan’s Blend Body ...   \n",
              "1    Old Spice                             The Secret | Old Spice   \n",
              "2    Old Spice  Smells Like Romance | Old Spice Body Spray and...   \n",
              "3    Old Spice  Give Odor The Bird | Old Spice Eaglefangs Deod...   \n",
              "4    Old Spice  Tango | Old Spice Swagger Body Wash and Deodorant   \n",
              "..         ...                                                ...   \n",
              "145     Chanel  The CHANEL Spring-Summer 2023 Ready-to-Wear co...   \n",
              "146     Chanel  Literary Rendezvous at Rue Cambon: Portrait of...   \n",
              "147     Chanel  Kristen Stewart & Golshifteh Farahani in Berli...   \n",
              "148     Chanel  Sadie Sink and Lucy Boynton at the CHANEL Spri...   \n",
              "149     Chanel                         Give wonder, give CHANEL\\r   \n",
              "\n",
              "                                            Link  \\\n",
              "0    https://www.youtube.com/watch?v=TBJAJKspa0I   \n",
              "1    https://www.youtube.com/watch?v=8vbJiu40k7w   \n",
              "2    https://www.youtube.com/watch?v=564Y6lpuTDw   \n",
              "3    https://www.youtube.com/watch?v=ABGF-h6GJY0   \n",
              "4    https://www.youtube.com/watch?v=WeFl5Ypcp_E   \n",
              "..                                           ...   \n",
              "145  https://www.youtube.com/watch?v=mxJKsiU2-OE   \n",
              "146  https://www.youtube.com/watch?v=fARFkSSwE04   \n",
              "147  https://www.youtube.com/watch?v=McxrTRF0N9E   \n",
              "148  https://www.youtube.com/watch?v=CdIsut5UtKs   \n",
              "149  https://www.youtube.com/watch?v=Bx7OptSxwiQ   \n",
              "\n",
              "                                            Transcript  Group    Views  Likes  \\\n",
              "0    wow your skin is amazing oh oh thank you  I go...      1     2493    141   \n",
              "1    they are losing they need a miracle\\nencourage...      1     1491     75   \n",
              "2    I can smell the romance in the air \\n\\nit's th...      1   865470    158   \n",
              "3    pepper brownie pepperoni so where are we\\n\\ndr...      1  2480224    157   \n",
              "4    didn't use Old Spice I think I smelled\\n\\nfres...      1    15821    166   \n",
              "..                                                 ...    ...      ...    ...   \n",
              "145  Kristen, I wanna ask you something.\\n\\nWhat ma...      2   158176   6300   \n",
              "146  She believes in experience,\\nin the body...\\n\\...      2    29787   1800   \n",
              "147  It's an enormous opportunity\\nto have a hand\\n...      2    38893   2200   \n",
              "148  Favorite part about the show?\\n\\nWhat's always...      2    19063    961   \n",
              "149  We copy you on the ground.\\n\\nAll systems runn...      2    32620   2000   \n",
              "\n",
              "     Comment       Date  Genbit Score  % Female Words  % Male Words  \\\n",
              "0         10 2023-06-30      1.839898        0.000000      1.000000   \n",
              "1          5 2023-06-29      0.000000        0.000000      0.000000   \n",
              "2         13 2023-06-27      0.000000        0.000000      0.000000   \n",
              "3         25 2023-06-15      0.000000        0.000000      0.000000   \n",
              "4         28 2023-03-27      0.000000        0.000000      0.000000   \n",
              "..       ...        ...           ...             ...           ...   \n",
              "145     2245 2023-03-16      0.000000        0.000000      0.000000   \n",
              "146     1036 2023-03-01      1.326426        0.772093      0.046512   \n",
              "147      747 2023-02-28      0.000000        0.000000      0.000000   \n",
              "148       36 2023-01-26      0.000000        0.000000      0.000000   \n",
              "149      122 2022-11-30      0.060625        0.000000      1.000000   \n",
              "\n",
              "     Avg Bias Ratio  Freq of Female Words  Freq of Male Words  Days Old  \\\n",
              "0          2.329446                     0                  12         8   \n",
              "1          0.000000                     0                   0         9   \n",
              "2          0.000000                     0                   0        11   \n",
              "3          0.000000                     0                   0        23   \n",
              "4          0.000000                     0                   0       103   \n",
              "..              ...                   ...                 ...       ...   \n",
              "145        0.000000                     0                   0       114   \n",
              "146       -1.544781                   166                  10       129   \n",
              "147        0.000000                     0                   0       130   \n",
              "148        0.000000                     0                   0       163   \n",
              "149        0.000000                     0                   1       220   \n",
              "\n",
              "     Length  \n",
              "0       783  \n",
              "1       193  \n",
              "2       298  \n",
              "3       311  \n",
              "4        59  \n",
              "..      ...  \n",
              "145     678  \n",
              "146   19475  \n",
              "147    1390  \n",
              "148     733  \n",
              "149     300  \n",
              "\n",
              "[150 rows x 17 columns]"
            ],
            "text/html": [
              "\n",
              "  <div id=\"df-341f8860-a0ed-4a5e-baca-6a1620ea4f96\">\n",
              "    <div class=\"colab-df-container\">\n",
              "      <div>\n",
              "<style scoped>\n",
              "    .dataframe tbody tr th:only-of-type {\n",
              "        vertical-align: middle;\n",
              "    }\n",
              "\n",
              "    .dataframe tbody tr th {\n",
              "        vertical-align: top;\n",
              "    }\n",
              "\n",
              "    .dataframe thead th {\n",
              "        text-align: right;\n",
              "    }\n",
              "</style>\n",
              "<table border=\"1\" class=\"dataframe\">\n",
              "  <thead>\n",
              "    <tr style=\"text-align: right;\">\n",
              "      <th></th>\n",
              "      <th>Brand</th>\n",
              "      <th>Title</th>\n",
              "      <th>Link</th>\n",
              "      <th>Transcript</th>\n",
              "      <th>Group</th>\n",
              "      <th>Views</th>\n",
              "      <th>Likes</th>\n",
              "      <th>Comment</th>\n",
              "      <th>Date</th>\n",
              "      <th>Genbit Score</th>\n",
              "      <th>% Female Words</th>\n",
              "      <th>% Male Words</th>\n",
              "      <th>Avg Bias Ratio</th>\n",
              "      <th>Freq of Female Words</th>\n",
              "      <th>Freq of Male Words</th>\n",
              "      <th>Days Old</th>\n",
              "      <th>Length</th>\n",
              "    </tr>\n",
              "  </thead>\n",
              "  <tbody>\n",
              "    <tr>\n",
              "      <th>0</th>\n",
              "      <td>Old Spice</td>\n",
              "      <td>The Expert | Old Spice GentleMan’s Blend Body ...</td>\n",
              "      <td>https://www.youtube.com/watch?v=TBJAJKspa0I</td>\n",
              "      <td>wow your skin is amazing oh oh thank you  I go...</td>\n",
              "      <td>1</td>\n",
              "      <td>2493</td>\n",
              "      <td>141</td>\n",
              "      <td>10</td>\n",
              "      <td>2023-06-30</td>\n",
              "      <td>1.839898</td>\n",
              "      <td>0.000000</td>\n",
              "      <td>1.000000</td>\n",
              "      <td>2.329446</td>\n",
              "      <td>0</td>\n",
              "      <td>12</td>\n",
              "      <td>8</td>\n",
              "      <td>783</td>\n",
              "    </tr>\n",
              "    <tr>\n",
              "      <th>1</th>\n",
              "      <td>Old Spice</td>\n",
              "      <td>The Secret | Old Spice</td>\n",
              "      <td>https://www.youtube.com/watch?v=8vbJiu40k7w</td>\n",
              "      <td>they are losing they need a miracle\\nencourage...</td>\n",
              "      <td>1</td>\n",
              "      <td>1491</td>\n",
              "      <td>75</td>\n",
              "      <td>5</td>\n",
              "      <td>2023-06-29</td>\n",
              "      <td>0.000000</td>\n",
              "      <td>0.000000</td>\n",
              "      <td>0.000000</td>\n",
              "      <td>0.000000</td>\n",
              "      <td>0</td>\n",
              "      <td>0</td>\n",
              "      <td>9</td>\n",
              "      <td>193</td>\n",
              "    </tr>\n",
              "    <tr>\n",
              "      <th>2</th>\n",
              "      <td>Old Spice</td>\n",
              "      <td>Smells Like Romance | Old Spice Body Spray and...</td>\n",
              "      <td>https://www.youtube.com/watch?v=564Y6lpuTDw</td>\n",
              "      <td>I can smell the romance in the air \\n\\nit's th...</td>\n",
              "      <td>1</td>\n",
              "      <td>865470</td>\n",
              "      <td>158</td>\n",
              "      <td>13</td>\n",
              "      <td>2023-06-27</td>\n",
              "      <td>0.000000</td>\n",
              "      <td>0.000000</td>\n",
              "      <td>0.000000</td>\n",
              "      <td>0.000000</td>\n",
              "      <td>0</td>\n",
              "      <td>0</td>\n",
              "      <td>11</td>\n",
              "      <td>298</td>\n",
              "    </tr>\n",
              "    <tr>\n",
              "      <th>3</th>\n",
              "      <td>Old Spice</td>\n",
              "      <td>Give Odor The Bird | Old Spice Eaglefangs Deod...</td>\n",
              "      <td>https://www.youtube.com/watch?v=ABGF-h6GJY0</td>\n",
              "      <td>pepper brownie pepperoni so where are we\\n\\ndr...</td>\n",
              "      <td>1</td>\n",
              "      <td>2480224</td>\n",
              "      <td>157</td>\n",
              "      <td>25</td>\n",
              "      <td>2023-06-15</td>\n",
              "      <td>0.000000</td>\n",
              "      <td>0.000000</td>\n",
              "      <td>0.000000</td>\n",
              "      <td>0.000000</td>\n",
              "      <td>0</td>\n",
              "      <td>0</td>\n",
              "      <td>23</td>\n",
              "      <td>311</td>\n",
              "    </tr>\n",
              "    <tr>\n",
              "      <th>4</th>\n",
              "      <td>Old Spice</td>\n",
              "      <td>Tango | Old Spice Swagger Body Wash and Deodorant</td>\n",
              "      <td>https://www.youtube.com/watch?v=WeFl5Ypcp_E</td>\n",
              "      <td>didn't use Old Spice I think I smelled\\n\\nfres...</td>\n",
              "      <td>1</td>\n",
              "      <td>15821</td>\n",
              "      <td>166</td>\n",
              "      <td>28</td>\n",
              "      <td>2023-03-27</td>\n",
              "      <td>0.000000</td>\n",
              "      <td>0.000000</td>\n",
              "      <td>0.000000</td>\n",
              "      <td>0.000000</td>\n",
              "      <td>0</td>\n",
              "      <td>0</td>\n",
              "      <td>103</td>\n",
              "      <td>59</td>\n",
              "    </tr>\n",
              "    <tr>\n",
              "      <th>...</th>\n",
              "      <td>...</td>\n",
              "      <td>...</td>\n",
              "      <td>...</td>\n",
              "      <td>...</td>\n",
              "      <td>...</td>\n",
              "      <td>...</td>\n",
              "      <td>...</td>\n",
              "      <td>...</td>\n",
              "      <td>...</td>\n",
              "      <td>...</td>\n",
              "      <td>...</td>\n",
              "      <td>...</td>\n",
              "      <td>...</td>\n",
              "      <td>...</td>\n",
              "      <td>...</td>\n",
              "      <td>...</td>\n",
              "      <td>...</td>\n",
              "    </tr>\n",
              "    <tr>\n",
              "      <th>145</th>\n",
              "      <td>Chanel</td>\n",
              "      <td>The CHANEL Spring-Summer 2023 Ready-to-Wear co...</td>\n",
              "      <td>https://www.youtube.com/watch?v=mxJKsiU2-OE</td>\n",
              "      <td>Kristen, I wanna ask you something.\\n\\nWhat ma...</td>\n",
              "      <td>2</td>\n",
              "      <td>158176</td>\n",
              "      <td>6300</td>\n",
              "      <td>2245</td>\n",
              "      <td>2023-03-16</td>\n",
              "      <td>0.000000</td>\n",
              "      <td>0.000000</td>\n",
              "      <td>0.000000</td>\n",
              "      <td>0.000000</td>\n",
              "      <td>0</td>\n",
              "      <td>0</td>\n",
              "      <td>114</td>\n",
              "      <td>678</td>\n",
              "    </tr>\n",
              "    <tr>\n",
              "      <th>146</th>\n",
              "      <td>Chanel</td>\n",
              "      <td>Literary Rendezvous at Rue Cambon: Portrait of...</td>\n",
              "      <td>https://www.youtube.com/watch?v=fARFkSSwE04</td>\n",
              "      <td>She believes in experience,\\nin the body...\\n\\...</td>\n",
              "      <td>2</td>\n",
              "      <td>29787</td>\n",
              "      <td>1800</td>\n",
              "      <td>1036</td>\n",
              "      <td>2023-03-01</td>\n",
              "      <td>1.326426</td>\n",
              "      <td>0.772093</td>\n",
              "      <td>0.046512</td>\n",
              "      <td>-1.544781</td>\n",
              "      <td>166</td>\n",
              "      <td>10</td>\n",
              "      <td>129</td>\n",
              "      <td>19475</td>\n",
              "    </tr>\n",
              "    <tr>\n",
              "      <th>147</th>\n",
              "      <td>Chanel</td>\n",
              "      <td>Kristen Stewart &amp; Golshifteh Farahani in Berli...</td>\n",
              "      <td>https://www.youtube.com/watch?v=McxrTRF0N9E</td>\n",
              "      <td>It's an enormous opportunity\\nto have a hand\\n...</td>\n",
              "      <td>2</td>\n",
              "      <td>38893</td>\n",
              "      <td>2200</td>\n",
              "      <td>747</td>\n",
              "      <td>2023-02-28</td>\n",
              "      <td>0.000000</td>\n",
              "      <td>0.000000</td>\n",
              "      <td>0.000000</td>\n",
              "      <td>0.000000</td>\n",
              "      <td>0</td>\n",
              "      <td>0</td>\n",
              "      <td>130</td>\n",
              "      <td>1390</td>\n",
              "    </tr>\n",
              "    <tr>\n",
              "      <th>148</th>\n",
              "      <td>Chanel</td>\n",
              "      <td>Sadie Sink and Lucy Boynton at the CHANEL Spri...</td>\n",
              "      <td>https://www.youtube.com/watch?v=CdIsut5UtKs</td>\n",
              "      <td>Favorite part about the show?\\n\\nWhat's always...</td>\n",
              "      <td>2</td>\n",
              "      <td>19063</td>\n",
              "      <td>961</td>\n",
              "      <td>36</td>\n",
              "      <td>2023-01-26</td>\n",
              "      <td>0.000000</td>\n",
              "      <td>0.000000</td>\n",
              "      <td>0.000000</td>\n",
              "      <td>0.000000</td>\n",
              "      <td>0</td>\n",
              "      <td>0</td>\n",
              "      <td>163</td>\n",
              "      <td>733</td>\n",
              "    </tr>\n",
              "    <tr>\n",
              "      <th>149</th>\n",
              "      <td>Chanel</td>\n",
              "      <td>Give wonder, give CHANEL\\r</td>\n",
              "      <td>https://www.youtube.com/watch?v=Bx7OptSxwiQ</td>\n",
              "      <td>We copy you on the ground.\\n\\nAll systems runn...</td>\n",
              "      <td>2</td>\n",
              "      <td>32620</td>\n",
              "      <td>2000</td>\n",
              "      <td>122</td>\n",
              "      <td>2022-11-30</td>\n",
              "      <td>0.060625</td>\n",
              "      <td>0.000000</td>\n",
              "      <td>1.000000</td>\n",
              "      <td>0.000000</td>\n",
              "      <td>0</td>\n",
              "      <td>1</td>\n",
              "      <td>220</td>\n",
              "      <td>300</td>\n",
              "    </tr>\n",
              "  </tbody>\n",
              "</table>\n",
              "<p>150 rows × 17 columns</p>\n",
              "</div>\n",
              "      <button class=\"colab-df-convert\" onclick=\"convertToInteractive('df-341f8860-a0ed-4a5e-baca-6a1620ea4f96')\"\n",
              "              title=\"Convert this dataframe to an interactive table.\"\n",
              "              style=\"display:none;\">\n",
              "        \n",
              "  <svg xmlns=\"http://www.w3.org/2000/svg\" height=\"24px\"viewBox=\"0 0 24 24\"\n",
              "       width=\"24px\">\n",
              "    <path d=\"M0 0h24v24H0V0z\" fill=\"none\"/>\n",
              "    <path d=\"M18.56 5.44l.94 2.06.94-2.06 2.06-.94-2.06-.94-.94-2.06-.94 2.06-2.06.94zm-11 1L8.5 8.5l.94-2.06 2.06-.94-2.06-.94L8.5 2.5l-.94 2.06-2.06.94zm10 10l.94 2.06.94-2.06 2.06-.94-2.06-.94-.94-2.06-.94 2.06-2.06.94z\"/><path d=\"M17.41 7.96l-1.37-1.37c-.4-.4-.92-.59-1.43-.59-.52 0-1.04.2-1.43.59L10.3 9.45l-7.72 7.72c-.78.78-.78 2.05 0 2.83L4 21.41c.39.39.9.59 1.41.59.51 0 1.02-.2 1.41-.59l7.78-7.78 2.81-2.81c.8-.78.8-2.07 0-2.86zM5.41 20L4 18.59l7.72-7.72 1.47 1.35L5.41 20z\"/>\n",
              "  </svg>\n",
              "      </button>\n",
              "      \n",
              "  <style>\n",
              "    .colab-df-container {\n",
              "      display:flex;\n",
              "      flex-wrap:wrap;\n",
              "      gap: 12px;\n",
              "    }\n",
              "\n",
              "    .colab-df-convert {\n",
              "      background-color: #E8F0FE;\n",
              "      border: none;\n",
              "      border-radius: 50%;\n",
              "      cursor: pointer;\n",
              "      display: none;\n",
              "      fill: #1967D2;\n",
              "      height: 32px;\n",
              "      padding: 0 0 0 0;\n",
              "      width: 32px;\n",
              "    }\n",
              "\n",
              "    .colab-df-convert:hover {\n",
              "      background-color: #E2EBFA;\n",
              "      box-shadow: 0px 1px 2px rgba(60, 64, 67, 0.3), 0px 1px 3px 1px rgba(60, 64, 67, 0.15);\n",
              "      fill: #174EA6;\n",
              "    }\n",
              "\n",
              "    [theme=dark] .colab-df-convert {\n",
              "      background-color: #3B4455;\n",
              "      fill: #D2E3FC;\n",
              "    }\n",
              "\n",
              "    [theme=dark] .colab-df-convert:hover {\n",
              "      background-color: #434B5C;\n",
              "      box-shadow: 0px 1px 3px 1px rgba(0, 0, 0, 0.15);\n",
              "      filter: drop-shadow(0px 1px 2px rgba(0, 0, 0, 0.3));\n",
              "      fill: #FFFFFF;\n",
              "    }\n",
              "  </style>\n",
              "\n",
              "      <script>\n",
              "        const buttonEl =\n",
              "          document.querySelector('#df-341f8860-a0ed-4a5e-baca-6a1620ea4f96 button.colab-df-convert');\n",
              "        buttonEl.style.display =\n",
              "          google.colab.kernel.accessAllowed ? 'block' : 'none';\n",
              "\n",
              "        async function convertToInteractive(key) {\n",
              "          const element = document.querySelector('#df-341f8860-a0ed-4a5e-baca-6a1620ea4f96');\n",
              "          const dataTable =\n",
              "            await google.colab.kernel.invokeFunction('convertToInteractive',\n",
              "                                                     [key], {});\n",
              "          if (!dataTable) return;\n",
              "\n",
              "          const docLinkHtml = 'Like what you see? Visit the ' +\n",
              "            '<a target=\"_blank\" href=https://colab.research.google.com/notebooks/data_table.ipynb>data table notebook</a>'\n",
              "            + ' to learn more about interactive tables.';\n",
              "          element.innerHTML = '';\n",
              "          dataTable['output_type'] = 'display_data';\n",
              "          await google.colab.output.renderOutput(dataTable, element);\n",
              "          const docLink = document.createElement('div');\n",
              "          docLink.innerHTML = docLinkHtml;\n",
              "          element.appendChild(docLink);\n",
              "        }\n",
              "      </script>\n",
              "    </div>\n",
              "  </div>\n",
              "  "
            ]
          },
          "metadata": {},
          "execution_count": 58
        }
      ]
    },
    {
      "cell_type": "code",
      "source": [
        "df_male = df[df[\"Group\"]==1]\n",
        "df_female = df[df[\"Group\"]==2]"
      ],
      "metadata": {
        "id": "nt9xsgqb9ah0"
      },
      "execution_count": 59,
      "outputs": []
    },
    {
      "cell_type": "code",
      "source": [
        "df_female.Brand.unique()"
      ],
      "metadata": {
        "colab": {
          "base_uri": "https://localhost:8080/"
        },
        "id": "BlQvRPKGAT2f",
        "outputId": "19799b23-3d11-4bab-9bd6-1b0266c9a48d"
      },
      "execution_count": 60,
      "outputs": [
        {
          "output_type": "execute_result",
          "data": {
            "text/plain": [
              "array(['Shein', 'Sephora', 'Chanel'], dtype=object)"
            ]
          },
          "metadata": {},
          "execution_count": 60
        }
      ]
    },
    {
      "cell_type": "code",
      "source": [
        "df_male.Brand.unique()"
      ],
      "metadata": {
        "colab": {
          "base_uri": "https://localhost:8080/"
        },
        "id": "CI2aRGH__KYr",
        "outputId": "96eafeeb-db89-4774-df62-a99f4deee32b"
      },
      "execution_count": 61,
      "outputs": [
        {
          "output_type": "execute_result",
          "data": {
            "text/plain": [
              "array(['Old Spice', 'The Man Company', 'Gillette'], dtype=object)"
            ]
          },
          "metadata": {},
          "execution_count": 61
        }
      ]
    },
    {
      "cell_type": "markdown",
      "source": [
        "# Independent T Test"
      ],
      "metadata": {
        "id": "CMq8S2CIk4L3"
      }
    },
    {
      "cell_type": "code",
      "source": [
        "metrics = [\"Views\", \"Likes\", \"Comments\", \"GenBit Score\", \"% Female Words\", \"% Male Words\", \"Avg Bias Ratio\", \"Freq Female Words\", \"Freq Male Words\"]\n",
        "var_m = []\n",
        "var_f = []\n",
        "t_statistic = []\n",
        "p_value = []"
      ],
      "metadata": {
        "id": "-wFypiuO8Q8t"
      },
      "execution_count": 62,
      "outputs": []
    },
    {
      "cell_type": "markdown",
      "source": [
        "##### Views"
      ],
      "metadata": {
        "id": "DmqVjJ-wAf34"
      }
    },
    {
      "cell_type": "code",
      "source": [
        "m1 = np.array(df_male[\"Views\"])\n",
        "f1 = np.array(df_female[\"Views\"])"
      ],
      "metadata": {
        "id": "Y6ZvOoUdlIGd"
      },
      "execution_count": 63,
      "outputs": []
    },
    {
      "cell_type": "code",
      "source": [
        "np.var(m1), np.var(f1)"
      ],
      "metadata": {
        "id": "IrYO_HlllBQ4",
        "colab": {
          "base_uri": "https://localhost:8080/"
        },
        "outputId": "6885eade-4e58-4f41-f39c-b1c358c25b00"
      },
      "execution_count": 64,
      "outputs": [
        {
          "output_type": "execute_result",
          "data": {
            "text/plain": [
              "(141436807733007.88, 369982186695.75055)"
            ]
          },
          "metadata": {},
          "execution_count": 64
        }
      ]
    },
    {
      "cell_type": "code",
      "source": [
        "var_m.append(np.var(m1))\n",
        "var_f.append(np.var(f1))"
      ],
      "metadata": {
        "id": "6oy1Xy6e8yrj"
      },
      "execution_count": 65,
      "outputs": []
    },
    {
      "cell_type": "code",
      "source": [
        "np.var(m1)/ np.var(f1)"
      ],
      "metadata": {
        "colab": {
          "base_uri": "https://localhost:8080/"
        },
        "id": "xsDOp6IfGnWE",
        "outputId": "29d164ea-594e-4ca7-dcbc-c7b66f04414a"
      },
      "execution_count": 66,
      "outputs": [
        {
          "output_type": "execute_result",
          "data": {
            "text/plain": [
              "382.28004703728175"
            ]
          },
          "metadata": {},
          "execution_count": 66
        }
      ]
    },
    {
      "cell_type": "code",
      "source": [
        "stats.ttest_ind(a=m1, b=f1, equal_var=True)"
      ],
      "metadata": {
        "colab": {
          "base_uri": "https://localhost:8080/"
        },
        "id": "8_m9JQIsLYWz",
        "outputId": "0fbe0edf-b045-4616-b82c-538257d6c71c"
      },
      "execution_count": 67,
      "outputs": [
        {
          "output_type": "execute_result",
          "data": {
            "text/plain": [
              "Ttest_indResult(statistic=2.7397433663755324, pvalue=0.00690523942448511)"
            ]
          },
          "metadata": {},
          "execution_count": 67
        }
      ]
    },
    {
      "cell_type": "code",
      "source": [
        "result1 = stats.ttest_ind(a=m1, b=f1, equal_var=True)\n",
        "t_statistic.append(result1[0])\n",
        "p_value.append(result1[1])"
      ],
      "metadata": {
        "id": "gPrhsN3m9W8d"
      },
      "execution_count": 68,
      "outputs": []
    },
    {
      "cell_type": "markdown",
      "source": [
        "##### Likes"
      ],
      "metadata": {
        "id": "kr79lPF6MH1t"
      }
    },
    {
      "cell_type": "code",
      "source": [
        "m2 = np.array(df_male[\"Likes\"])\n",
        "f2 = np.array(df_female[\"Likes\"])"
      ],
      "metadata": {
        "id": "4Q-h-dppMJxW"
      },
      "execution_count": 69,
      "outputs": []
    },
    {
      "cell_type": "code",
      "source": [
        "np.var(m2), np.var(f2)"
      ],
      "metadata": {
        "colab": {
          "base_uri": "https://localhost:8080/"
        },
        "id": "pNyNnvXLMJ0T",
        "outputId": "e7a57792-4146-445f-8fb7-5716804aa1d8"
      },
      "execution_count": 70,
      "outputs": [
        {
          "output_type": "execute_result",
          "data": {
            "text/plain": [
              "(972107.768888889, 117753458.45582224)"
            ]
          },
          "metadata": {},
          "execution_count": 70
        }
      ]
    },
    {
      "cell_type": "code",
      "source": [
        "var_m.append(np.var(m2))\n",
        "var_f.append(np.var(f2))"
      ],
      "metadata": {
        "id": "e8W3HR2d87yE"
      },
      "execution_count": 71,
      "outputs": []
    },
    {
      "cell_type": "code",
      "source": [
        "np.var(f2)/ np.var(m2)"
      ],
      "metadata": {
        "colab": {
          "base_uri": "https://localhost:8080/"
        },
        "id": "2TAFoIHPMJ3y",
        "outputId": "8b660f0f-fcd2-4d44-a271-f2abd606f74b"
      },
      "execution_count": 72,
      "outputs": [
        {
          "output_type": "execute_result",
          "data": {
            "text/plain": [
              "121.13210306961486"
            ]
          },
          "metadata": {},
          "execution_count": 72
        }
      ]
    },
    {
      "cell_type": "code",
      "source": [
        "stats.ttest_ind(a=m2, b=f2, equal_var=True)"
      ],
      "metadata": {
        "colab": {
          "base_uri": "https://localhost:8080/"
        },
        "id": "D1WoYWeuMJ7i",
        "outputId": "02264464-4b83-4bfc-bcba-34efaffe35ad"
      },
      "execution_count": 73,
      "outputs": [
        {
          "output_type": "execute_result",
          "data": {
            "text/plain": [
              "Ttest_indResult(statistic=-1.7567193181771177, pvalue=0.08103377548827567)"
            ]
          },
          "metadata": {},
          "execution_count": 73
        }
      ]
    },
    {
      "cell_type": "code",
      "source": [
        "result2 = stats.ttest_ind(a=m2, b=f2, equal_var=True)\n",
        "t_statistic.append(result2[0])\n",
        "p_value.append(result2[1])"
      ],
      "metadata": {
        "id": "IT4a4_fZ92ta"
      },
      "execution_count": 74,
      "outputs": []
    },
    {
      "cell_type": "markdown",
      "source": [
        "##### Comments"
      ],
      "metadata": {
        "id": "Wwoo6QnkLqqa"
      }
    },
    {
      "cell_type": "code",
      "source": [
        "m3 = np.array(df_male[\"Comment\"])\n",
        "f3 = np.array(df_female[\"Comment\"])"
      ],
      "metadata": {
        "id": "qM1zH3x-Lgkt"
      },
      "execution_count": 75,
      "outputs": []
    },
    {
      "cell_type": "code",
      "source": [
        "np.var(m3), np.var(f3)"
      ],
      "metadata": {
        "colab": {
          "base_uri": "https://localhost:8080/"
        },
        "id": "R7UgOZ42Lyyh",
        "outputId": "2a858d4c-281e-49ba-a525-00189cd90884"
      },
      "execution_count": 76,
      "outputs": [
        {
          "output_type": "execute_result",
          "data": {
            "text/plain": [
              "(10048.047288888889, 234292.66595555554)"
            ]
          },
          "metadata": {},
          "execution_count": 76
        }
      ]
    },
    {
      "cell_type": "code",
      "source": [
        "var_m.append(np.var(m3))\n",
        "var_f.append(np.var(f3))"
      ],
      "metadata": {
        "id": "_sjOzmRj8-pQ"
      },
      "execution_count": 77,
      "outputs": []
    },
    {
      "cell_type": "code",
      "source": [
        "np.var(f3)/ np.var(m3)"
      ],
      "metadata": {
        "colab": {
          "base_uri": "https://localhost:8080/"
        },
        "id": "nl6TrUchL17z",
        "outputId": "98666995-dd08-48b4-aee6-5b9c3173a36f"
      },
      "execution_count": 78,
      "outputs": [
        {
          "output_type": "execute_result",
          "data": {
            "text/plain": [
              "23.31723360962243"
            ]
          },
          "metadata": {},
          "execution_count": 78
        }
      ]
    },
    {
      "cell_type": "code",
      "source": [
        "stats.ttest_ind(a=m3, b=f3, equal_var=True)"
      ],
      "metadata": {
        "colab": {
          "base_uri": "https://localhost:8080/"
        },
        "id": "0QjYJp8pL2-6",
        "outputId": "0037ae60-5757-4178-b6c0-a24a4bf70726"
      },
      "execution_count": 79,
      "outputs": [
        {
          "output_type": "execute_result",
          "data": {
            "text/plain": [
              "Ttest_indResult(statistic=-2.4419542166601707, pvalue=0.015786600841859642)"
            ]
          },
          "metadata": {},
          "execution_count": 79
        }
      ]
    },
    {
      "cell_type": "code",
      "source": [
        "result3 = stats.ttest_ind(a=m3, b=f3, equal_var=True)\n",
        "t_statistic.append(result3[0])\n",
        "p_value.append(result3[1])"
      ],
      "metadata": {
        "id": "bmydmFFE95d5"
      },
      "execution_count": 80,
      "outputs": []
    },
    {
      "cell_type": "markdown",
      "source": [
        "##### GenBit Score"
      ],
      "metadata": {
        "id": "FnhilvWFMC_Z"
      }
    },
    {
      "cell_type": "code",
      "source": [
        "m4 = np.array(df_male[\"Genbit Score\"])\n",
        "f4 = np.array(df_female[\"Genbit Score\"])"
      ],
      "metadata": {
        "id": "0iPY5Do7MCXd"
      },
      "execution_count": 81,
      "outputs": []
    },
    {
      "cell_type": "code",
      "source": [
        "np.var(m4), np.var(f4)"
      ],
      "metadata": {
        "colab": {
          "base_uri": "https://localhost:8080/"
        },
        "id": "V_UIaq1LMBDA",
        "outputId": "58270246-7a5b-4335-fcae-02ec0dc9a8f1"
      },
      "execution_count": 82,
      "outputs": [
        {
          "output_type": "execute_result",
          "data": {
            "text/plain": [
              "(0.17914357680950205, 0.1519825033289676)"
            ]
          },
          "metadata": {},
          "execution_count": 82
        }
      ]
    },
    {
      "cell_type": "code",
      "source": [
        "var_m.append(np.var(m4))\n",
        "var_f.append(np.var(f4))"
      ],
      "metadata": {
        "id": "Ain_YhP_9Agv"
      },
      "execution_count": 83,
      "outputs": []
    },
    {
      "cell_type": "code",
      "source": [
        "np.var(m4)/ np.var(f4)"
      ],
      "metadata": {
        "colab": {
          "base_uri": "https://localhost:8080/"
        },
        "id": "kQwUAuMvPcey",
        "outputId": "f2508d8c-8dba-4fc9-acc2-9ef4d9abcced"
      },
      "execution_count": 84,
      "outputs": [
        {
          "output_type": "execute_result",
          "data": {
            "text/plain": [
              "1.1787118443610844"
            ]
          },
          "metadata": {},
          "execution_count": 84
        }
      ]
    },
    {
      "cell_type": "code",
      "source": [
        "stats.ttest_ind(a=m4, b=f4, equal_var=True)"
      ],
      "metadata": {
        "colab": {
          "base_uri": "https://localhost:8080/"
        },
        "id": "aO3d93OBPd-s",
        "outputId": "1004439e-3644-4a6e-858b-1fdc24b1c9e3"
      },
      "execution_count": 85,
      "outputs": [
        {
          "output_type": "execute_result",
          "data": {
            "text/plain": [
              "Ttest_indResult(statistic=2.139977442366143, pvalue=0.03399592703353841)"
            ]
          },
          "metadata": {},
          "execution_count": 85
        }
      ]
    },
    {
      "cell_type": "code",
      "source": [
        "result4 = stats.ttest_ind(a=m4, b=f4, equal_var=True)\n",
        "t_statistic.append(result4[0])\n",
        "p_value.append(result4[1])"
      ],
      "metadata": {
        "id": "Sl7ViUsw978G"
      },
      "execution_count": 86,
      "outputs": []
    },
    {
      "cell_type": "markdown",
      "source": [
        "##### Percentage Female Definition Words"
      ],
      "metadata": {
        "id": "ExG1IufvRT8I"
      }
    },
    {
      "cell_type": "code",
      "source": [
        "m5 = np.array(df_male[\"% Female Words\"])\n",
        "f5 = np.array(df_female[\"% Female Words\"])"
      ],
      "metadata": {
        "id": "ec5g4171RTMG"
      },
      "execution_count": 87,
      "outputs": []
    },
    {
      "cell_type": "code",
      "source": [
        "np.var(m5), np.var(f5)"
      ],
      "metadata": {
        "colab": {
          "base_uri": "https://localhost:8080/"
        },
        "id": "wehcEcHXRiTf",
        "outputId": "609c7ba7-3b27-459b-e36d-92cc1b309385"
      },
      "execution_count": 88,
      "outputs": [
        {
          "output_type": "execute_result",
          "data": {
            "text/plain": [
              "(0.028627552785296793, 0.09862543307983328)"
            ]
          },
          "metadata": {},
          "execution_count": 88
        }
      ]
    },
    {
      "cell_type": "code",
      "source": [
        "var_m.append(np.var(m5))\n",
        "var_f.append(np.var(f5))"
      ],
      "metadata": {
        "id": "dmi4gY4z9DlC"
      },
      "execution_count": 89,
      "outputs": []
    },
    {
      "cell_type": "code",
      "source": [
        "np.var(f5)/ np.var(m5)"
      ],
      "metadata": {
        "colab": {
          "base_uri": "https://localhost:8080/"
        },
        "id": "BRN6gpvwRjpl",
        "outputId": "635883d3-ddf8-4e85-8c86-5fcb34372507"
      },
      "execution_count": 90,
      "outputs": [
        {
          "output_type": "execute_result",
          "data": {
            "text/plain": [
              "3.445122739603772"
            ]
          },
          "metadata": {},
          "execution_count": 90
        }
      ]
    },
    {
      "cell_type": "code",
      "source": [
        "stats.ttest_ind(a=m5, b=f5, equal_var=True)"
      ],
      "metadata": {
        "colab": {
          "base_uri": "https://localhost:8080/"
        },
        "id": "A8XEJb3ARlOi",
        "outputId": "edb10c3b-5ad8-46db-8f43-d1fcc71904bf"
      },
      "execution_count": 91,
      "outputs": [
        {
          "output_type": "execute_result",
          "data": {
            "text/plain": [
              "Ttest_indResult(statistic=-5.618700535582312, pvalue=9.268314181297536e-08)"
            ]
          },
          "metadata": {},
          "execution_count": 91
        }
      ]
    },
    {
      "cell_type": "code",
      "source": [
        "result5 = stats.ttest_ind(a=m5, b=f5, equal_var=True)\n",
        "t_statistic.append(result5[0])\n",
        "p_value.append(result5[1])"
      ],
      "metadata": {
        "id": "9iB2_Iv49_Ba"
      },
      "execution_count": 92,
      "outputs": []
    },
    {
      "cell_type": "markdown",
      "source": [
        "##### Percentage Male Definition Words"
      ],
      "metadata": {
        "id": "XIAyx_LORrko"
      }
    },
    {
      "cell_type": "code",
      "source": [
        "m6 = np.array(df_male[\"% Male Words\"])\n",
        "f6 = np.array(df_female[\"% Male Words\"])"
      ],
      "metadata": {
        "id": "74gP8CpERqgb"
      },
      "execution_count": 93,
      "outputs": []
    },
    {
      "cell_type": "code",
      "source": [
        "np.var(m6), np.var(f6)"
      ],
      "metadata": {
        "colab": {
          "base_uri": "https://localhost:8080/"
        },
        "id": "DC9YwMpBRxNY",
        "outputId": "ccf8fbc7-d368-46c6-dbda-a4d634922ea1"
      },
      "execution_count": 94,
      "outputs": [
        {
          "output_type": "execute_result",
          "data": {
            "text/plain": [
              "(0.12881677840717945, 0.05370031821105933)"
            ]
          },
          "metadata": {},
          "execution_count": 94
        }
      ]
    },
    {
      "cell_type": "code",
      "source": [
        "var_m.append(np.var(m6))\n",
        "var_f.append(np.var(f6))"
      ],
      "metadata": {
        "id": "ct_p2y599FgK"
      },
      "execution_count": 95,
      "outputs": []
    },
    {
      "cell_type": "code",
      "source": [
        "np.var(m6)/ np.var(f6)"
      ],
      "metadata": {
        "colab": {
          "base_uri": "https://localhost:8080/"
        },
        "id": "M3MwfVj_RybN",
        "outputId": "639196d5-7c37-47f3-b913-ad5754382df2"
      },
      "execution_count": 96,
      "outputs": [
        {
          "output_type": "execute_result",
          "data": {
            "text/plain": [
              "2.398808474484053"
            ]
          },
          "metadata": {},
          "execution_count": 96
        }
      ]
    },
    {
      "cell_type": "code",
      "source": [
        "stats.ttest_ind(a=m6, b=f6, equal_var=True)"
      ],
      "metadata": {
        "colab": {
          "base_uri": "https://localhost:8080/"
        },
        "id": "M-31yi6ER0XH",
        "outputId": "a0d2d914-6e3b-4bf4-ce7b-4e9be1602820"
      },
      "execution_count": 97,
      "outputs": [
        {
          "output_type": "execute_result",
          "data": {
            "text/plain": [
              "Ttest_indResult(statistic=7.095021091510648, pvalue=4.975125030132194e-11)"
            ]
          },
          "metadata": {},
          "execution_count": 97
        }
      ]
    },
    {
      "cell_type": "code",
      "source": [
        "result6 = stats.ttest_ind(a=m6, b=f6, equal_var=True)\n",
        "t_statistic.append(result6[0])\n",
        "p_value.append(result6[1])"
      ],
      "metadata": {
        "id": "OpQURA5S-CWZ"
      },
      "execution_count": 98,
      "outputs": []
    },
    {
      "cell_type": "markdown",
      "source": [
        "##### Average Bias Ratio"
      ],
      "metadata": {
        "id": "4hJRvfV_R_Xf"
      }
    },
    {
      "cell_type": "code",
      "source": [
        "m7 = np.array(df_male[\"Avg Bias Ratio\"])\n",
        "f7 = np.array(df_female[\"Avg Bias Ratio\"])"
      ],
      "metadata": {
        "id": "VcryfrNFR-Zw"
      },
      "execution_count": 99,
      "outputs": []
    },
    {
      "cell_type": "code",
      "source": [
        "np.var(m7), np.var(f7)"
      ],
      "metadata": {
        "colab": {
          "base_uri": "https://localhost:8080/"
        },
        "id": "ZoYlelE9SKg2",
        "outputId": "a66d6d94-ca22-4a5d-82e4-aea06c3e0c9c"
      },
      "execution_count": 100,
      "outputs": [
        {
          "output_type": "execute_result",
          "data": {
            "text/plain": [
              "(0.3327574561243729, 0.2402789563701514)"
            ]
          },
          "metadata": {},
          "execution_count": 100
        }
      ]
    },
    {
      "cell_type": "code",
      "source": [
        "var_m.append(np.var(m7))\n",
        "var_f.append(np.var(f7))"
      ],
      "metadata": {
        "id": "DnFsW4dG9HSK"
      },
      "execution_count": 101,
      "outputs": []
    },
    {
      "cell_type": "code",
      "source": [
        "np.var(m7)/ np.var(f7)"
      ],
      "metadata": {
        "colab": {
          "base_uri": "https://localhost:8080/"
        },
        "id": "ui7xvwv4SYll",
        "outputId": "8391348f-a4db-4a53-8a15-0802a4f44f61"
      },
      "execution_count": 102,
      "outputs": [
        {
          "output_type": "execute_result",
          "data": {
            "text/plain": [
              "1.3848797295912911"
            ]
          },
          "metadata": {},
          "execution_count": 102
        }
      ]
    },
    {
      "cell_type": "code",
      "source": [
        "stats.ttest_ind(a=m7, b=f7, equal_var=True)"
      ],
      "metadata": {
        "colab": {
          "base_uri": "https://localhost:8080/"
        },
        "id": "6rTSSDAjSZkv",
        "outputId": "bea133ba-4bd2-4b01-f948-debdf864292d"
      },
      "execution_count": 103,
      "outputs": [
        {
          "output_type": "execute_result",
          "data": {
            "text/plain": [
              "Ttest_indResult(statistic=8.421339825963038, pvalue=2.9742988451388084e-14)"
            ]
          },
          "metadata": {},
          "execution_count": 103
        }
      ]
    },
    {
      "cell_type": "code",
      "source": [
        "result7 = stats.ttest_ind(a=m7, b=f7, equal_var=True)\n",
        "t_statistic.append(result7[0])\n",
        "p_value.append(result7[1])"
      ],
      "metadata": {
        "id": "m_uatpFu-FG7"
      },
      "execution_count": 104,
      "outputs": []
    },
    {
      "cell_type": "markdown",
      "source": [
        "##### Frequency of Female Definition Words"
      ],
      "metadata": {
        "id": "1pDLxrWRSoOK"
      }
    },
    {
      "cell_type": "code",
      "source": [
        "m8 = np.array(df_male[\"Freq of Female Words\"])\n",
        "f8 = np.array(df_female[\"Freq of Female Words\"])"
      ],
      "metadata": {
        "id": "8OZGaxOySfLW"
      },
      "execution_count": 105,
      "outputs": []
    },
    {
      "cell_type": "code",
      "source": [
        "np.var(m8), np.var(f8)"
      ],
      "metadata": {
        "colab": {
          "base_uri": "https://localhost:8080/"
        },
        "id": "0qkcZmabS6bY",
        "outputId": "22883da4-094e-4ee3-afa2-f883b3a74009"
      },
      "execution_count": 106,
      "outputs": [
        {
          "output_type": "execute_result",
          "data": {
            "text/plain": [
              "(953.9758222222223, 793.6824888888888)"
            ]
          },
          "metadata": {},
          "execution_count": 106
        }
      ]
    },
    {
      "cell_type": "code",
      "source": [
        "var_m.append(np.var(m8))\n",
        "var_f.append(np.var(f8))"
      ],
      "metadata": {
        "id": "DAgz1GiQ9JTc"
      },
      "execution_count": 107,
      "outputs": []
    },
    {
      "cell_type": "code",
      "source": [
        "np.var(m8)/ np.var(f8)"
      ],
      "metadata": {
        "colab": {
          "base_uri": "https://localhost:8080/"
        },
        "id": "2tIpU7AVS84F",
        "outputId": "7b91f014-c71f-4eb4-ba75-a8d78b19cb38"
      },
      "execution_count": 108,
      "outputs": [
        {
          "output_type": "execute_result",
          "data": {
            "text/plain": [
              "1.2019615344641599"
            ]
          },
          "metadata": {},
          "execution_count": 108
        }
      ]
    },
    {
      "cell_type": "code",
      "source": [
        "stats.ttest_ind(a=m8, b=f8, equal_var=True)"
      ],
      "metadata": {
        "colab": {
          "base_uri": "https://localhost:8080/"
        },
        "id": "2M1786hnTAWn",
        "outputId": "4b4c5e63-dd93-47f0-c487-c16133e8ce1f"
      },
      "execution_count": 109,
      "outputs": [
        {
          "output_type": "execute_result",
          "data": {
            "text/plain": [
              "Ttest_indResult(statistic=0.0, pvalue=1.0)"
            ]
          },
          "metadata": {},
          "execution_count": 109
        }
      ]
    },
    {
      "cell_type": "code",
      "source": [
        "result8 = stats.ttest_ind(a=m8, b=f8, equal_var=True)\n",
        "t_statistic.append(result8[0])\n",
        "p_value.append(result8[1])"
      ],
      "metadata": {
        "id": "tvib5l10-JGm"
      },
      "execution_count": 110,
      "outputs": []
    },
    {
      "cell_type": "markdown",
      "source": [
        "##### Frequency of Male Definition Words"
      ],
      "metadata": {
        "id": "HXNGpUgSTNHS"
      }
    },
    {
      "cell_type": "code",
      "source": [
        "m9 = np.array(df_male[\"Freq of Male Words\"])\n",
        "f9 = np.array(df_female[\"Freq of Male Words\"])"
      ],
      "metadata": {
        "id": "xry01R1WTMOe"
      },
      "execution_count": 111,
      "outputs": []
    },
    {
      "cell_type": "code",
      "source": [
        "np.var(m9), np.var(f9)"
      ],
      "metadata": {
        "colab": {
          "base_uri": "https://localhost:8080/"
        },
        "id": "Q7HAgZ-rTS37",
        "outputId": "d99ba267-3dc3-437e-cbbf-a4dda33d2bf0"
      },
      "execution_count": 112,
      "outputs": [
        {
          "output_type": "execute_result",
          "data": {
            "text/plain": [
              "(1569.2632888888893, 65.8424888888889)"
            ]
          },
          "metadata": {},
          "execution_count": 112
        }
      ]
    },
    {
      "cell_type": "code",
      "source": [
        "var_m.append(np.var(m9))\n",
        "var_f.append(np.var(f9))"
      ],
      "metadata": {
        "id": "uqf2mEfu9LXI"
      },
      "execution_count": 113,
      "outputs": []
    },
    {
      "cell_type": "code",
      "source": [
        "np.var(m9)/ np.var(f9)"
      ],
      "metadata": {
        "colab": {
          "base_uri": "https://localhost:8080/"
        },
        "id": "gRHj91DTTXZM",
        "outputId": "53851497-320c-47b6-b3cb-559c6fb5f298"
      },
      "execution_count": 114,
      "outputs": [
        {
          "output_type": "execute_result",
          "data": {
            "text/plain": [
              "23.833596137853576"
            ]
          },
          "metadata": {},
          "execution_count": 114
        }
      ]
    },
    {
      "cell_type": "code",
      "source": [
        "stats.ttest_ind(a=m9, b=f9, equal_var=True)"
      ],
      "metadata": {
        "colab": {
          "base_uri": "https://localhost:8080/"
        },
        "id": "Vu91UCU6Tapa",
        "outputId": "7e6ea54f-a8e2-41f4-f45e-09c884229f0d"
      },
      "execution_count": 115,
      "outputs": [
        {
          "output_type": "execute_result",
          "data": {
            "text/plain": [
              "Ttest_indResult(statistic=3.5257604236226223, pvalue=0.0005624108115331523)"
            ]
          },
          "metadata": {},
          "execution_count": 115
        }
      ]
    },
    {
      "cell_type": "code",
      "source": [
        "result9 = stats.ttest_ind(a=m9, b=f9, equal_var=True)\n",
        "t_statistic.append(result9[0])\n",
        "p_value.append(result9[1])"
      ],
      "metadata": {
        "id": "q3uML5_H-P2e"
      },
      "execution_count": 116,
      "outputs": []
    },
    {
      "cell_type": "markdown",
      "source": [
        "#### Final"
      ],
      "metadata": {
        "id": "2TBjeDgJToTs"
      }
    },
    {
      "cell_type": "code",
      "source": [
        "results = pd.DataFrame()"
      ],
      "metadata": {
        "id": "wwTie3uITphr"
      },
      "execution_count": 117,
      "outputs": []
    },
    {
      "cell_type": "code",
      "source": [
        "results[\"Metric\"] = metrics\n",
        "results[\"M Variance\"] = var_m\n",
        "results[\"F Variance\"] = var_f\n",
        "results[\"T-Statistic\"] = t_statistic\n",
        "results[\"P-Value\"] = p_value"
      ],
      "metadata": {
        "id": "p3a3HBzMgArg"
      },
      "execution_count": 118,
      "outputs": []
    },
    {
      "cell_type": "markdown",
      "source": [
        "T-statistic measures the difference between the means of the two groups relative to the variability within each group.\n",
        "P-value indicates the probability of observing the obtained t-statistic or more extreme values under the null hypothesis (the assumption that there is no difference between the groups).\n",
        "If the p-value is below a predetermined significance level (commonly 0.05), it suggests that there is sufficient evidence to reject the null hypothesis and conclude that there is a significant difference between the groups.\n",
        "If the p-value is above the significance level, it suggests that there is not enough evidence to reject the null hypothesis, indicating that there is no significant difference between the groups."
      ],
      "metadata": {
        "id": "THqnbrTFiqZ1"
      }
    },
    {
      "cell_type": "code",
      "source": [
        "results"
      ],
      "metadata": {
        "colab": {
          "base_uri": "https://localhost:8080/",
          "height": 331
        },
        "id": "tKr7EVnzgi8E",
        "outputId": "4d5704fe-9384-4564-de95-8665dc716873"
      },
      "execution_count": 119,
      "outputs": [
        {
          "output_type": "execute_result",
          "data": {
            "text/plain": [
              "              Metric    M Variance    F Variance  T-Statistic       P-Value\n",
              "0              Views  1.414368e+14  3.699822e+11     2.739743  6.905239e-03\n",
              "1              Likes  9.721078e+05  1.177535e+08    -1.756719  8.103378e-02\n",
              "2           Comments  1.004805e+04  2.342927e+05    -2.441954  1.578660e-02\n",
              "3       GenBit Score  1.791436e-01  1.519825e-01     2.139977  3.399593e-02\n",
              "4     % Female Words  2.862755e-02  9.862543e-02    -5.618701  9.268314e-08\n",
              "5       % Male Words  1.288168e-01  5.370032e-02     7.095021  4.975125e-11\n",
              "6     Avg Bias Ratio  3.327575e-01  2.402790e-01     8.421340  2.974299e-14\n",
              "7  Freq Female Words  9.539758e+02  7.936825e+02     0.000000  1.000000e+00\n",
              "8    Freq Male Words  1.569263e+03  6.584249e+01     3.525760  5.624108e-04"
            ],
            "text/html": [
              "\n",
              "  <div id=\"df-36931fc1-f417-4315-a4d0-e5f79992d8d3\">\n",
              "    <div class=\"colab-df-container\">\n",
              "      <div>\n",
              "<style scoped>\n",
              "    .dataframe tbody tr th:only-of-type {\n",
              "        vertical-align: middle;\n",
              "    }\n",
              "\n",
              "    .dataframe tbody tr th {\n",
              "        vertical-align: top;\n",
              "    }\n",
              "\n",
              "    .dataframe thead th {\n",
              "        text-align: right;\n",
              "    }\n",
              "</style>\n",
              "<table border=\"1\" class=\"dataframe\">\n",
              "  <thead>\n",
              "    <tr style=\"text-align: right;\">\n",
              "      <th></th>\n",
              "      <th>Metric</th>\n",
              "      <th>M Variance</th>\n",
              "      <th>F Variance</th>\n",
              "      <th>T-Statistic</th>\n",
              "      <th>P-Value</th>\n",
              "    </tr>\n",
              "  </thead>\n",
              "  <tbody>\n",
              "    <tr>\n",
              "      <th>0</th>\n",
              "      <td>Views</td>\n",
              "      <td>1.414368e+14</td>\n",
              "      <td>3.699822e+11</td>\n",
              "      <td>2.739743</td>\n",
              "      <td>6.905239e-03</td>\n",
              "    </tr>\n",
              "    <tr>\n",
              "      <th>1</th>\n",
              "      <td>Likes</td>\n",
              "      <td>9.721078e+05</td>\n",
              "      <td>1.177535e+08</td>\n",
              "      <td>-1.756719</td>\n",
              "      <td>8.103378e-02</td>\n",
              "    </tr>\n",
              "    <tr>\n",
              "      <th>2</th>\n",
              "      <td>Comments</td>\n",
              "      <td>1.004805e+04</td>\n",
              "      <td>2.342927e+05</td>\n",
              "      <td>-2.441954</td>\n",
              "      <td>1.578660e-02</td>\n",
              "    </tr>\n",
              "    <tr>\n",
              "      <th>3</th>\n",
              "      <td>GenBit Score</td>\n",
              "      <td>1.791436e-01</td>\n",
              "      <td>1.519825e-01</td>\n",
              "      <td>2.139977</td>\n",
              "      <td>3.399593e-02</td>\n",
              "    </tr>\n",
              "    <tr>\n",
              "      <th>4</th>\n",
              "      <td>% Female Words</td>\n",
              "      <td>2.862755e-02</td>\n",
              "      <td>9.862543e-02</td>\n",
              "      <td>-5.618701</td>\n",
              "      <td>9.268314e-08</td>\n",
              "    </tr>\n",
              "    <tr>\n",
              "      <th>5</th>\n",
              "      <td>% Male Words</td>\n",
              "      <td>1.288168e-01</td>\n",
              "      <td>5.370032e-02</td>\n",
              "      <td>7.095021</td>\n",
              "      <td>4.975125e-11</td>\n",
              "    </tr>\n",
              "    <tr>\n",
              "      <th>6</th>\n",
              "      <td>Avg Bias Ratio</td>\n",
              "      <td>3.327575e-01</td>\n",
              "      <td>2.402790e-01</td>\n",
              "      <td>8.421340</td>\n",
              "      <td>2.974299e-14</td>\n",
              "    </tr>\n",
              "    <tr>\n",
              "      <th>7</th>\n",
              "      <td>Freq Female Words</td>\n",
              "      <td>9.539758e+02</td>\n",
              "      <td>7.936825e+02</td>\n",
              "      <td>0.000000</td>\n",
              "      <td>1.000000e+00</td>\n",
              "    </tr>\n",
              "    <tr>\n",
              "      <th>8</th>\n",
              "      <td>Freq Male Words</td>\n",
              "      <td>1.569263e+03</td>\n",
              "      <td>6.584249e+01</td>\n",
              "      <td>3.525760</td>\n",
              "      <td>5.624108e-04</td>\n",
              "    </tr>\n",
              "  </tbody>\n",
              "</table>\n",
              "</div>\n",
              "      <button class=\"colab-df-convert\" onclick=\"convertToInteractive('df-36931fc1-f417-4315-a4d0-e5f79992d8d3')\"\n",
              "              title=\"Convert this dataframe to an interactive table.\"\n",
              "              style=\"display:none;\">\n",
              "        \n",
              "  <svg xmlns=\"http://www.w3.org/2000/svg\" height=\"24px\"viewBox=\"0 0 24 24\"\n",
              "       width=\"24px\">\n",
              "    <path d=\"M0 0h24v24H0V0z\" fill=\"none\"/>\n",
              "    <path d=\"M18.56 5.44l.94 2.06.94-2.06 2.06-.94-2.06-.94-.94-2.06-.94 2.06-2.06.94zm-11 1L8.5 8.5l.94-2.06 2.06-.94-2.06-.94L8.5 2.5l-.94 2.06-2.06.94zm10 10l.94 2.06.94-2.06 2.06-.94-2.06-.94-.94-2.06-.94 2.06-2.06.94z\"/><path d=\"M17.41 7.96l-1.37-1.37c-.4-.4-.92-.59-1.43-.59-.52 0-1.04.2-1.43.59L10.3 9.45l-7.72 7.72c-.78.78-.78 2.05 0 2.83L4 21.41c.39.39.9.59 1.41.59.51 0 1.02-.2 1.41-.59l7.78-7.78 2.81-2.81c.8-.78.8-2.07 0-2.86zM5.41 20L4 18.59l7.72-7.72 1.47 1.35L5.41 20z\"/>\n",
              "  </svg>\n",
              "      </button>\n",
              "      \n",
              "  <style>\n",
              "    .colab-df-container {\n",
              "      display:flex;\n",
              "      flex-wrap:wrap;\n",
              "      gap: 12px;\n",
              "    }\n",
              "\n",
              "    .colab-df-convert {\n",
              "      background-color: #E8F0FE;\n",
              "      border: none;\n",
              "      border-radius: 50%;\n",
              "      cursor: pointer;\n",
              "      display: none;\n",
              "      fill: #1967D2;\n",
              "      height: 32px;\n",
              "      padding: 0 0 0 0;\n",
              "      width: 32px;\n",
              "    }\n",
              "\n",
              "    .colab-df-convert:hover {\n",
              "      background-color: #E2EBFA;\n",
              "      box-shadow: 0px 1px 2px rgba(60, 64, 67, 0.3), 0px 1px 3px 1px rgba(60, 64, 67, 0.15);\n",
              "      fill: #174EA6;\n",
              "    }\n",
              "\n",
              "    [theme=dark] .colab-df-convert {\n",
              "      background-color: #3B4455;\n",
              "      fill: #D2E3FC;\n",
              "    }\n",
              "\n",
              "    [theme=dark] .colab-df-convert:hover {\n",
              "      background-color: #434B5C;\n",
              "      box-shadow: 0px 1px 3px 1px rgba(0, 0, 0, 0.15);\n",
              "      filter: drop-shadow(0px 1px 2px rgba(0, 0, 0, 0.3));\n",
              "      fill: #FFFFFF;\n",
              "    }\n",
              "  </style>\n",
              "\n",
              "      <script>\n",
              "        const buttonEl =\n",
              "          document.querySelector('#df-36931fc1-f417-4315-a4d0-e5f79992d8d3 button.colab-df-convert');\n",
              "        buttonEl.style.display =\n",
              "          google.colab.kernel.accessAllowed ? 'block' : 'none';\n",
              "\n",
              "        async function convertToInteractive(key) {\n",
              "          const element = document.querySelector('#df-36931fc1-f417-4315-a4d0-e5f79992d8d3');\n",
              "          const dataTable =\n",
              "            await google.colab.kernel.invokeFunction('convertToInteractive',\n",
              "                                                     [key], {});\n",
              "          if (!dataTable) return;\n",
              "\n",
              "          const docLinkHtml = 'Like what you see? Visit the ' +\n",
              "            '<a target=\"_blank\" href=https://colab.research.google.com/notebooks/data_table.ipynb>data table notebook</a>'\n",
              "            + ' to learn more about interactive tables.';\n",
              "          element.innerHTML = '';\n",
              "          dataTable['output_type'] = 'display_data';\n",
              "          await google.colab.output.renderOutput(dataTable, element);\n",
              "          const docLink = document.createElement('div');\n",
              "          docLink.innerHTML = docLinkHtml;\n",
              "          element.appendChild(docLink);\n",
              "        }\n",
              "      </script>\n",
              "    </div>\n",
              "  </div>\n",
              "  "
            ]
          },
          "metadata": {},
          "execution_count": 119
        }
      ]
    },
    {
      "cell_type": "code",
      "source": [
        "results[\"p < 0.05\"] = results[\"P-Value\"] < 0.05"
      ],
      "metadata": {
        "id": "B7aip2VXiIl_"
      },
      "execution_count": 120,
      "outputs": []
    },
    {
      "cell_type": "code",
      "source": [
        "results"
      ],
      "metadata": {
        "colab": {
          "base_uri": "https://localhost:8080/",
          "height": 331
        },
        "id": "TscY3MWVjHMb",
        "outputId": "a1b1dc79-76a1-4f93-c079-15d92c692cd4"
      },
      "execution_count": 121,
      "outputs": [
        {
          "output_type": "execute_result",
          "data": {
            "text/plain": [
              "              Metric    M Variance    F Variance  T-Statistic       P-Value  \\\n",
              "0              Views  1.414368e+14  3.699822e+11     2.739743  6.905239e-03   \n",
              "1              Likes  9.721078e+05  1.177535e+08    -1.756719  8.103378e-02   \n",
              "2           Comments  1.004805e+04  2.342927e+05    -2.441954  1.578660e-02   \n",
              "3       GenBit Score  1.791436e-01  1.519825e-01     2.139977  3.399593e-02   \n",
              "4     % Female Words  2.862755e-02  9.862543e-02    -5.618701  9.268314e-08   \n",
              "5       % Male Words  1.288168e-01  5.370032e-02     7.095021  4.975125e-11   \n",
              "6     Avg Bias Ratio  3.327575e-01  2.402790e-01     8.421340  2.974299e-14   \n",
              "7  Freq Female Words  9.539758e+02  7.936825e+02     0.000000  1.000000e+00   \n",
              "8    Freq Male Words  1.569263e+03  6.584249e+01     3.525760  5.624108e-04   \n",
              "\n",
              "   p < 0.05  \n",
              "0      True  \n",
              "1     False  \n",
              "2      True  \n",
              "3      True  \n",
              "4      True  \n",
              "5      True  \n",
              "6      True  \n",
              "7     False  \n",
              "8      True  "
            ],
            "text/html": [
              "\n",
              "  <div id=\"df-8e18f0f4-dba0-4ade-ac4c-2f6dd6292994\">\n",
              "    <div class=\"colab-df-container\">\n",
              "      <div>\n",
              "<style scoped>\n",
              "    .dataframe tbody tr th:only-of-type {\n",
              "        vertical-align: middle;\n",
              "    }\n",
              "\n",
              "    .dataframe tbody tr th {\n",
              "        vertical-align: top;\n",
              "    }\n",
              "\n",
              "    .dataframe thead th {\n",
              "        text-align: right;\n",
              "    }\n",
              "</style>\n",
              "<table border=\"1\" class=\"dataframe\">\n",
              "  <thead>\n",
              "    <tr style=\"text-align: right;\">\n",
              "      <th></th>\n",
              "      <th>Metric</th>\n",
              "      <th>M Variance</th>\n",
              "      <th>F Variance</th>\n",
              "      <th>T-Statistic</th>\n",
              "      <th>P-Value</th>\n",
              "      <th>p &lt; 0.05</th>\n",
              "    </tr>\n",
              "  </thead>\n",
              "  <tbody>\n",
              "    <tr>\n",
              "      <th>0</th>\n",
              "      <td>Views</td>\n",
              "      <td>1.414368e+14</td>\n",
              "      <td>3.699822e+11</td>\n",
              "      <td>2.739743</td>\n",
              "      <td>6.905239e-03</td>\n",
              "      <td>True</td>\n",
              "    </tr>\n",
              "    <tr>\n",
              "      <th>1</th>\n",
              "      <td>Likes</td>\n",
              "      <td>9.721078e+05</td>\n",
              "      <td>1.177535e+08</td>\n",
              "      <td>-1.756719</td>\n",
              "      <td>8.103378e-02</td>\n",
              "      <td>False</td>\n",
              "    </tr>\n",
              "    <tr>\n",
              "      <th>2</th>\n",
              "      <td>Comments</td>\n",
              "      <td>1.004805e+04</td>\n",
              "      <td>2.342927e+05</td>\n",
              "      <td>-2.441954</td>\n",
              "      <td>1.578660e-02</td>\n",
              "      <td>True</td>\n",
              "    </tr>\n",
              "    <tr>\n",
              "      <th>3</th>\n",
              "      <td>GenBit Score</td>\n",
              "      <td>1.791436e-01</td>\n",
              "      <td>1.519825e-01</td>\n",
              "      <td>2.139977</td>\n",
              "      <td>3.399593e-02</td>\n",
              "      <td>True</td>\n",
              "    </tr>\n",
              "    <tr>\n",
              "      <th>4</th>\n",
              "      <td>% Female Words</td>\n",
              "      <td>2.862755e-02</td>\n",
              "      <td>9.862543e-02</td>\n",
              "      <td>-5.618701</td>\n",
              "      <td>9.268314e-08</td>\n",
              "      <td>True</td>\n",
              "    </tr>\n",
              "    <tr>\n",
              "      <th>5</th>\n",
              "      <td>% Male Words</td>\n",
              "      <td>1.288168e-01</td>\n",
              "      <td>5.370032e-02</td>\n",
              "      <td>7.095021</td>\n",
              "      <td>4.975125e-11</td>\n",
              "      <td>True</td>\n",
              "    </tr>\n",
              "    <tr>\n",
              "      <th>6</th>\n",
              "      <td>Avg Bias Ratio</td>\n",
              "      <td>3.327575e-01</td>\n",
              "      <td>2.402790e-01</td>\n",
              "      <td>8.421340</td>\n",
              "      <td>2.974299e-14</td>\n",
              "      <td>True</td>\n",
              "    </tr>\n",
              "    <tr>\n",
              "      <th>7</th>\n",
              "      <td>Freq Female Words</td>\n",
              "      <td>9.539758e+02</td>\n",
              "      <td>7.936825e+02</td>\n",
              "      <td>0.000000</td>\n",
              "      <td>1.000000e+00</td>\n",
              "      <td>False</td>\n",
              "    </tr>\n",
              "    <tr>\n",
              "      <th>8</th>\n",
              "      <td>Freq Male Words</td>\n",
              "      <td>1.569263e+03</td>\n",
              "      <td>6.584249e+01</td>\n",
              "      <td>3.525760</td>\n",
              "      <td>5.624108e-04</td>\n",
              "      <td>True</td>\n",
              "    </tr>\n",
              "  </tbody>\n",
              "</table>\n",
              "</div>\n",
              "      <button class=\"colab-df-convert\" onclick=\"convertToInteractive('df-8e18f0f4-dba0-4ade-ac4c-2f6dd6292994')\"\n",
              "              title=\"Convert this dataframe to an interactive table.\"\n",
              "              style=\"display:none;\">\n",
              "        \n",
              "  <svg xmlns=\"http://www.w3.org/2000/svg\" height=\"24px\"viewBox=\"0 0 24 24\"\n",
              "       width=\"24px\">\n",
              "    <path d=\"M0 0h24v24H0V0z\" fill=\"none\"/>\n",
              "    <path d=\"M18.56 5.44l.94 2.06.94-2.06 2.06-.94-2.06-.94-.94-2.06-.94 2.06-2.06.94zm-11 1L8.5 8.5l.94-2.06 2.06-.94-2.06-.94L8.5 2.5l-.94 2.06-2.06.94zm10 10l.94 2.06.94-2.06 2.06-.94-2.06-.94-.94-2.06-.94 2.06-2.06.94z\"/><path d=\"M17.41 7.96l-1.37-1.37c-.4-.4-.92-.59-1.43-.59-.52 0-1.04.2-1.43.59L10.3 9.45l-7.72 7.72c-.78.78-.78 2.05 0 2.83L4 21.41c.39.39.9.59 1.41.59.51 0 1.02-.2 1.41-.59l7.78-7.78 2.81-2.81c.8-.78.8-2.07 0-2.86zM5.41 20L4 18.59l7.72-7.72 1.47 1.35L5.41 20z\"/>\n",
              "  </svg>\n",
              "      </button>\n",
              "      \n",
              "  <style>\n",
              "    .colab-df-container {\n",
              "      display:flex;\n",
              "      flex-wrap:wrap;\n",
              "      gap: 12px;\n",
              "    }\n",
              "\n",
              "    .colab-df-convert {\n",
              "      background-color: #E8F0FE;\n",
              "      border: none;\n",
              "      border-radius: 50%;\n",
              "      cursor: pointer;\n",
              "      display: none;\n",
              "      fill: #1967D2;\n",
              "      height: 32px;\n",
              "      padding: 0 0 0 0;\n",
              "      width: 32px;\n",
              "    }\n",
              "\n",
              "    .colab-df-convert:hover {\n",
              "      background-color: #E2EBFA;\n",
              "      box-shadow: 0px 1px 2px rgba(60, 64, 67, 0.3), 0px 1px 3px 1px rgba(60, 64, 67, 0.15);\n",
              "      fill: #174EA6;\n",
              "    }\n",
              "\n",
              "    [theme=dark] .colab-df-convert {\n",
              "      background-color: #3B4455;\n",
              "      fill: #D2E3FC;\n",
              "    }\n",
              "\n",
              "    [theme=dark] .colab-df-convert:hover {\n",
              "      background-color: #434B5C;\n",
              "      box-shadow: 0px 1px 3px 1px rgba(0, 0, 0, 0.15);\n",
              "      filter: drop-shadow(0px 1px 2px rgba(0, 0, 0, 0.3));\n",
              "      fill: #FFFFFF;\n",
              "    }\n",
              "  </style>\n",
              "\n",
              "      <script>\n",
              "        const buttonEl =\n",
              "          document.querySelector('#df-8e18f0f4-dba0-4ade-ac4c-2f6dd6292994 button.colab-df-convert');\n",
              "        buttonEl.style.display =\n",
              "          google.colab.kernel.accessAllowed ? 'block' : 'none';\n",
              "\n",
              "        async function convertToInteractive(key) {\n",
              "          const element = document.querySelector('#df-8e18f0f4-dba0-4ade-ac4c-2f6dd6292994');\n",
              "          const dataTable =\n",
              "            await google.colab.kernel.invokeFunction('convertToInteractive',\n",
              "                                                     [key], {});\n",
              "          if (!dataTable) return;\n",
              "\n",
              "          const docLinkHtml = 'Like what you see? Visit the ' +\n",
              "            '<a target=\"_blank\" href=https://colab.research.google.com/notebooks/data_table.ipynb>data table notebook</a>'\n",
              "            + ' to learn more about interactive tables.';\n",
              "          element.innerHTML = '';\n",
              "          dataTable['output_type'] = 'display_data';\n",
              "          await google.colab.output.renderOutput(dataTable, element);\n",
              "          const docLink = document.createElement('div');\n",
              "          docLink.innerHTML = docLinkHtml;\n",
              "          element.appendChild(docLink);\n",
              "        }\n",
              "      </script>\n",
              "    </div>\n",
              "  </div>\n",
              "  "
            ]
          },
          "metadata": {},
          "execution_count": 121
        }
      ]
    },
    {
      "cell_type": "code",
      "source": [
        "results.to_excel(\"/content/Internship/T_Test1.xlsx\")"
      ],
      "metadata": {
        "id": "EgjTXqjjgjtb"
      },
      "execution_count": 122,
      "outputs": []
    },
    {
      "cell_type": "markdown",
      "source": [
        "# Regression Analysis"
      ],
      "metadata": {
        "id": "l7QON_4WqIAI"
      }
    },
    {
      "cell_type": "code",
      "source": [
        "coEfficients = []\n",
        "pValues = []"
      ],
      "metadata": {
        "id": "Y_-1q6drxbne"
      },
      "execution_count": 123,
      "outputs": []
    },
    {
      "cell_type": "code",
      "source": [
        "X = np.column_stack([\n",
        "    df[\"Genbit Score\"].values,\n",
        "    df[\"% Female Words\"].values,\n",
        "    df[\"% Male Words\"].values,\n",
        "    df[\"Freq of Female Words\"].values,\n",
        "    df[\"Freq of Male Words\"].values,\n",
        "    df[\"Avg Bias Ratio\"].values,\n",
        "    (df[\"Genbit Score\"] * df[\"Group\"]).values,\n",
        "    (df[\"% Female Words\"] * df[\"Group\"]).values,\n",
        "    (df[\"% Male Words\"] * df[\"Group\"]).values,\n",
        "    (df[\"Freq of Female Words\"] * df[\"Group\"]).values,\n",
        "    (df[\"Freq of Male Words\"] * df[\"Group\"]).values,\n",
        "    (df[\"Avg Bias Ratio\"] * df[\"Group\"]).values,\n",
        "    df[\"Length\"].values,\n",
        "    df[\"Days Old\"].values\n",
        "])"
      ],
      "metadata": {
        "id": "NvRsTqOY5kYJ"
      },
      "execution_count": 124,
      "outputs": []
    },
    {
      "cell_type": "code",
      "source": [
        "X = sm.add_constant(X)"
      ],
      "metadata": {
        "id": "C7hItLEV8HA8"
      },
      "execution_count": 125,
      "outputs": []
    },
    {
      "cell_type": "markdown",
      "source": [
        "### Views"
      ],
      "metadata": {
        "id": "RAzdHNWaq13r"
      }
    },
    {
      "cell_type": "code",
      "source": [
        "y1 = df[\"Views\"]"
      ],
      "metadata": {
        "id": "_EyXLUJLqN0P"
      },
      "execution_count": 126,
      "outputs": []
    },
    {
      "cell_type": "code",
      "source": [
        "model1 = sm.OLS(y1, X)\n",
        "results1 = model1.fit()"
      ],
      "metadata": {
        "id": "7MITcXEcqeLp"
      },
      "execution_count": 127,
      "outputs": []
    },
    {
      "cell_type": "code",
      "source": [
        "print(results1.rsquared_adj)"
      ],
      "metadata": {
        "colab": {
          "base_uri": "https://localhost:8080/"
        },
        "id": "MfGb8N409L8F",
        "outputId": "b3fd164a-f713-49c1-9e0d-d5dacbcfc698"
      },
      "execution_count": 128,
      "outputs": [
        {
          "output_type": "stream",
          "name": "stdout",
          "text": [
            "0.26719897670312653\n"
          ]
        }
      ]
    },
    {
      "cell_type": "code",
      "source": [
        "coEfficients.append(np.array(results1.params))\n",
        "pValues.append(np.array(results1.pvalues))"
      ],
      "metadata": {
        "id": "QCV4CGqdwRdc"
      },
      "execution_count": 129,
      "outputs": []
    },
    {
      "cell_type": "markdown",
      "source": [
        "### Likes"
      ],
      "metadata": {
        "id": "PbFAhyKQ5asG"
      }
    },
    {
      "cell_type": "code",
      "source": [
        "y2 = df[\"Likes\"]"
      ],
      "metadata": {
        "id": "etxSkTtmxpE2"
      },
      "execution_count": 130,
      "outputs": []
    },
    {
      "cell_type": "code",
      "source": [
        "model2 = sm.OLS(y2, X)\n",
        "results2 = model2.fit()"
      ],
      "metadata": {
        "id": "A0vGXUUw5vrh"
      },
      "execution_count": 131,
      "outputs": []
    },
    {
      "cell_type": "code",
      "source": [
        "print(results2.rsquared_adj)"
      ],
      "metadata": {
        "colab": {
          "base_uri": "https://localhost:8080/"
        },
        "id": "1FKZ6HOS9QpA",
        "outputId": "6fc4ed61-cc73-465e-f295-b04152919fef"
      },
      "execution_count": 132,
      "outputs": [
        {
          "output_type": "stream",
          "name": "stdout",
          "text": [
            "-0.06942644465790249\n"
          ]
        }
      ]
    },
    {
      "cell_type": "code",
      "source": [
        "coEfficients.append(np.array(results2.params))\n",
        "pValues.append(np.array(results2.pvalues))"
      ],
      "metadata": {
        "id": "vzPqQ3j75tLC"
      },
      "execution_count": 133,
      "outputs": []
    },
    {
      "cell_type": "markdown",
      "source": [
        "## Final"
      ],
      "metadata": {
        "id": "1NQ8KMca51SO"
      }
    },
    {
      "cell_type": "code",
      "source": [
        "coEfficients"
      ],
      "metadata": {
        "colab": {
          "base_uri": "https://localhost:8080/"
        },
        "id": "hqC34qWv5x0e",
        "outputId": "9729b85f-34c8-4087-d792-da132cf55abb"
      },
      "execution_count": null,
      "outputs": [
        {
          "output_type": "execute_result",
          "data": {
            "text/plain": [
              "[array([ 7.74440742e+05, -3.66856390e+07,  1.07830734e+08, -3.23975136e+06,\n",
              "         1.05090664e+05, -1.49530055e+05,  2.92708430e+07,  1.74054668e+07,\n",
              "        -5.41806690e+07,  4.31948470e+05, -5.12372336e+04,  1.08120810e+05,\n",
              "        -1.46970912e+07, -6.35401514e+01,  1.76427832e+04]),\n",
              " array([ 2.82747641e+03, -3.03531272e+03, -7.15218082e+02, -2.31525310e+03,\n",
              "         2.37124818e+01,  2.57504590e+01,  3.83916150e+03, -1.18899892e+02,\n",
              "         2.35781282e+03, -5.01810393e+02, -7.57311970e-01, -4.20594042e+01,\n",
              "        -1.21867445e+03, -7.38515493e-03,  4.49638012e-01])]"
            ]
          },
          "metadata": {},
          "execution_count": 131
        }
      ]
    },
    {
      "cell_type": "code",
      "source": [
        "pValues"
      ],
      "metadata": {
        "colab": {
          "base_uri": "https://localhost:8080/"
        },
        "id": "8Qu4xS5153UP",
        "outputId": "e35edd0c-5c68-4b93-d082-a9b7dd15d386"
      },
      "execution_count": null,
      "outputs": [
        {
          "output_type": "execute_result",
          "data": {
            "text/plain": [
              "[array([5.35312483e-01, 1.97549951e-02, 5.01752422e-06, 6.61407406e-01,\n",
              "        4.94357930e-01, 4.65683017e-01, 3.10018352e-02, 4.37811953e-02,\n",
              "        1.41502120e-05, 9.30956375e-01, 5.70608978e-01, 6.10347652e-01,\n",
              "        5.08886674e-02, 6.33307132e-01, 4.66802270e-05]),\n",
              " array([0.03917982, 0.85809969, 0.97694938, 0.77387214, 0.88736568,\n",
              "        0.90811895, 0.79341207, 0.98983805, 0.85743635, 0.92639754,\n",
              "        0.99385782, 0.85557897, 0.88105359, 0.95939587, 0.92173846])]"
            ]
          },
          "metadata": {},
          "execution_count": 132
        }
      ]
    },
    {
      "cell_type": "code",
      "source": [
        "results = pd.DataFrame()"
      ],
      "metadata": {
        "id": "umz4Rdhn89u0"
      },
      "execution_count": null,
      "outputs": []
    },
    {
      "cell_type": "code",
      "source": [
        "results[\"Variable\"] = [\n",
        "    \"Constant\",\n",
        "    \"Genbit Score\",\n",
        "    \"% Female Words\",\n",
        "    \"% Male Words\",\n",
        "    \"Freq of Female Words\",\n",
        "    \"Freq of Male Words\",\n",
        "    \"Avg Bias Ratio\",\n",
        "    \"Genbit Score * Binary Variable\",\n",
        "    \"% Female Words * Binary Variable\",\n",
        "    \"% Male Words * Binary Variable\",\n",
        "    \"Freq of Female Words * Binary Variable\",\n",
        "    \"Freq of Male Words * Binary Variable\",\n",
        "    \"Avg Bias Ratio * Binary Variable\",\n",
        "    \"Length\",\n",
        "    \"Days Old\"\n",
        "]"
      ],
      "metadata": {
        "id": "iv3IslKR9-Iu"
      },
      "execution_count": null,
      "outputs": []
    },
    {
      "cell_type": "code",
      "source": [
        "results[\"Co-Efficient for Views\"] = coEfficients[0]\n",
        "results[\"p-Value for Views\"] = pValues[0]\n",
        "results[\"Co-Efficient for Likes\"] = coEfficients[1]\n",
        "results[\"p-Value for Likes\"] = pValues[1]"
      ],
      "metadata": {
        "id": "GYe8QfB59CAi"
      },
      "execution_count": null,
      "outputs": []
    },
    {
      "cell_type": "code",
      "source": [
        "results = results.set_index(\"Variable\")"
      ],
      "metadata": {
        "id": "7rjpD_ny95xj"
      },
      "execution_count": null,
      "outputs": []
    },
    {
      "cell_type": "code",
      "source": [
        "results"
      ],
      "metadata": {
        "colab": {
          "base_uri": "https://localhost:8080/",
          "height": 595
        },
        "id": "EeM0zhjo96q7",
        "outputId": "d6f74757-54cb-475a-9015-f32b890716ba"
      },
      "execution_count": null,
      "outputs": [
        {
          "output_type": "execute_result",
          "data": {
            "text/plain": [
              "                                        Co-Efficient for Views  \\\n",
              "Variable                                                         \n",
              "Constant                                          7.744407e+05   \n",
              "Genbit Score                                     -3.668564e+07   \n",
              "% Female Words                                    1.078307e+08   \n",
              "% Male Words                                     -3.239751e+06   \n",
              "Freq of Female Words                              1.050907e+05   \n",
              "Freq of Male Words                               -1.495301e+05   \n",
              "Avg Bias Ratio                                    2.927084e+07   \n",
              "Genbit Score * Binary Variable                    1.740547e+07   \n",
              "% Female Words * Binary Variable                 -5.418067e+07   \n",
              "% Male Words * Binary Variable                    4.319485e+05   \n",
              "Freq of Female Words * Binary Variable           -5.123723e+04   \n",
              "Freq of Male Words * Binary Variable              1.081208e+05   \n",
              "Avg Bias Ratio * Binary Variable                 -1.469709e+07   \n",
              "Length                                           -6.354015e+01   \n",
              "Days Old                                          1.764278e+04   \n",
              "\n",
              "                                        p-Value for Views  \\\n",
              "Variable                                                    \n",
              "Constant                                         0.535312   \n",
              "Genbit Score                                     0.019755   \n",
              "% Female Words                                   0.000005   \n",
              "% Male Words                                     0.661407   \n",
              "Freq of Female Words                             0.494358   \n",
              "Freq of Male Words                               0.465683   \n",
              "Avg Bias Ratio                                   0.031002   \n",
              "Genbit Score * Binary Variable                   0.043781   \n",
              "% Female Words * Binary Variable                 0.000014   \n",
              "% Male Words * Binary Variable                   0.930956   \n",
              "Freq of Female Words * Binary Variable           0.570609   \n",
              "Freq of Male Words * Binary Variable             0.610348   \n",
              "Avg Bias Ratio * Binary Variable                 0.050889   \n",
              "Length                                           0.633307   \n",
              "Days Old                                         0.000047   \n",
              "\n",
              "                                        Co-Efficient for Likes  \\\n",
              "Variable                                                         \n",
              "Constant                                           2827.476407   \n",
              "Genbit Score                                      -3035.312721   \n",
              "% Female Words                                     -715.218082   \n",
              "% Male Words                                      -2315.253103   \n",
              "Freq of Female Words                                 23.712482   \n",
              "Freq of Male Words                                   25.750459   \n",
              "Avg Bias Ratio                                     3839.161500   \n",
              "Genbit Score * Binary Variable                     -118.899892   \n",
              "% Female Words * Binary Variable                   2357.812822   \n",
              "% Male Words * Binary Variable                     -501.810393   \n",
              "Freq of Female Words * Binary Variable               -0.757312   \n",
              "Freq of Male Words * Binary Variable                -42.059404   \n",
              "Avg Bias Ratio * Binary Variable                  -1218.674445   \n",
              "Length                                               -0.007385   \n",
              "Days Old                                              0.449638   \n",
              "\n",
              "                                        p-Value for Likes  \n",
              "Variable                                                   \n",
              "Constant                                         0.039180  \n",
              "Genbit Score                                     0.858100  \n",
              "% Female Words                                   0.976949  \n",
              "% Male Words                                     0.773872  \n",
              "Freq of Female Words                             0.887366  \n",
              "Freq of Male Words                               0.908119  \n",
              "Avg Bias Ratio                                   0.793412  \n",
              "Genbit Score * Binary Variable                   0.989838  \n",
              "% Female Words * Binary Variable                 0.857436  \n",
              "% Male Words * Binary Variable                   0.926398  \n",
              "Freq of Female Words * Binary Variable           0.993858  \n",
              "Freq of Male Words * Binary Variable             0.855579  \n",
              "Avg Bias Ratio * Binary Variable                 0.881054  \n",
              "Length                                           0.959396  \n",
              "Days Old                                         0.921738  "
            ],
            "text/html": [
              "\n",
              "  <div id=\"df-3b810ba0-9ad4-4d43-9482-b4b202e3cbae\">\n",
              "    <div class=\"colab-df-container\">\n",
              "      <div>\n",
              "<style scoped>\n",
              "    .dataframe tbody tr th:only-of-type {\n",
              "        vertical-align: middle;\n",
              "    }\n",
              "\n",
              "    .dataframe tbody tr th {\n",
              "        vertical-align: top;\n",
              "    }\n",
              "\n",
              "    .dataframe thead th {\n",
              "        text-align: right;\n",
              "    }\n",
              "</style>\n",
              "<table border=\"1\" class=\"dataframe\">\n",
              "  <thead>\n",
              "    <tr style=\"text-align: right;\">\n",
              "      <th></th>\n",
              "      <th>Co-Efficient for Views</th>\n",
              "      <th>p-Value for Views</th>\n",
              "      <th>Co-Efficient for Likes</th>\n",
              "      <th>p-Value for Likes</th>\n",
              "    </tr>\n",
              "    <tr>\n",
              "      <th>Variable</th>\n",
              "      <th></th>\n",
              "      <th></th>\n",
              "      <th></th>\n",
              "      <th></th>\n",
              "    </tr>\n",
              "  </thead>\n",
              "  <tbody>\n",
              "    <tr>\n",
              "      <th>Constant</th>\n",
              "      <td>7.744407e+05</td>\n",
              "      <td>0.535312</td>\n",
              "      <td>2827.476407</td>\n",
              "      <td>0.039180</td>\n",
              "    </tr>\n",
              "    <tr>\n",
              "      <th>Genbit Score</th>\n",
              "      <td>-3.668564e+07</td>\n",
              "      <td>0.019755</td>\n",
              "      <td>-3035.312721</td>\n",
              "      <td>0.858100</td>\n",
              "    </tr>\n",
              "    <tr>\n",
              "      <th>% Female Words</th>\n",
              "      <td>1.078307e+08</td>\n",
              "      <td>0.000005</td>\n",
              "      <td>-715.218082</td>\n",
              "      <td>0.976949</td>\n",
              "    </tr>\n",
              "    <tr>\n",
              "      <th>% Male Words</th>\n",
              "      <td>-3.239751e+06</td>\n",
              "      <td>0.661407</td>\n",
              "      <td>-2315.253103</td>\n",
              "      <td>0.773872</td>\n",
              "    </tr>\n",
              "    <tr>\n",
              "      <th>Freq of Female Words</th>\n",
              "      <td>1.050907e+05</td>\n",
              "      <td>0.494358</td>\n",
              "      <td>23.712482</td>\n",
              "      <td>0.887366</td>\n",
              "    </tr>\n",
              "    <tr>\n",
              "      <th>Freq of Male Words</th>\n",
              "      <td>-1.495301e+05</td>\n",
              "      <td>0.465683</td>\n",
              "      <td>25.750459</td>\n",
              "      <td>0.908119</td>\n",
              "    </tr>\n",
              "    <tr>\n",
              "      <th>Avg Bias Ratio</th>\n",
              "      <td>2.927084e+07</td>\n",
              "      <td>0.031002</td>\n",
              "      <td>3839.161500</td>\n",
              "      <td>0.793412</td>\n",
              "    </tr>\n",
              "    <tr>\n",
              "      <th>Genbit Score * Binary Variable</th>\n",
              "      <td>1.740547e+07</td>\n",
              "      <td>0.043781</td>\n",
              "      <td>-118.899892</td>\n",
              "      <td>0.989838</td>\n",
              "    </tr>\n",
              "    <tr>\n",
              "      <th>% Female Words * Binary Variable</th>\n",
              "      <td>-5.418067e+07</td>\n",
              "      <td>0.000014</td>\n",
              "      <td>2357.812822</td>\n",
              "      <td>0.857436</td>\n",
              "    </tr>\n",
              "    <tr>\n",
              "      <th>% Male Words * Binary Variable</th>\n",
              "      <td>4.319485e+05</td>\n",
              "      <td>0.930956</td>\n",
              "      <td>-501.810393</td>\n",
              "      <td>0.926398</td>\n",
              "    </tr>\n",
              "    <tr>\n",
              "      <th>Freq of Female Words * Binary Variable</th>\n",
              "      <td>-5.123723e+04</td>\n",
              "      <td>0.570609</td>\n",
              "      <td>-0.757312</td>\n",
              "      <td>0.993858</td>\n",
              "    </tr>\n",
              "    <tr>\n",
              "      <th>Freq of Male Words * Binary Variable</th>\n",
              "      <td>1.081208e+05</td>\n",
              "      <td>0.610348</td>\n",
              "      <td>-42.059404</td>\n",
              "      <td>0.855579</td>\n",
              "    </tr>\n",
              "    <tr>\n",
              "      <th>Avg Bias Ratio * Binary Variable</th>\n",
              "      <td>-1.469709e+07</td>\n",
              "      <td>0.050889</td>\n",
              "      <td>-1218.674445</td>\n",
              "      <td>0.881054</td>\n",
              "    </tr>\n",
              "    <tr>\n",
              "      <th>Length</th>\n",
              "      <td>-6.354015e+01</td>\n",
              "      <td>0.633307</td>\n",
              "      <td>-0.007385</td>\n",
              "      <td>0.959396</td>\n",
              "    </tr>\n",
              "    <tr>\n",
              "      <th>Days Old</th>\n",
              "      <td>1.764278e+04</td>\n",
              "      <td>0.000047</td>\n",
              "      <td>0.449638</td>\n",
              "      <td>0.921738</td>\n",
              "    </tr>\n",
              "  </tbody>\n",
              "</table>\n",
              "</div>\n",
              "      <button class=\"colab-df-convert\" onclick=\"convertToInteractive('df-3b810ba0-9ad4-4d43-9482-b4b202e3cbae')\"\n",
              "              title=\"Convert this dataframe to an interactive table.\"\n",
              "              style=\"display:none;\">\n",
              "        \n",
              "  <svg xmlns=\"http://www.w3.org/2000/svg\" height=\"24px\"viewBox=\"0 0 24 24\"\n",
              "       width=\"24px\">\n",
              "    <path d=\"M0 0h24v24H0V0z\" fill=\"none\"/>\n",
              "    <path d=\"M18.56 5.44l.94 2.06.94-2.06 2.06-.94-2.06-.94-.94-2.06-.94 2.06-2.06.94zm-11 1L8.5 8.5l.94-2.06 2.06-.94-2.06-.94L8.5 2.5l-.94 2.06-2.06.94zm10 10l.94 2.06.94-2.06 2.06-.94-2.06-.94-.94-2.06-.94 2.06-2.06.94z\"/><path d=\"M17.41 7.96l-1.37-1.37c-.4-.4-.92-.59-1.43-.59-.52 0-1.04.2-1.43.59L10.3 9.45l-7.72 7.72c-.78.78-.78 2.05 0 2.83L4 21.41c.39.39.9.59 1.41.59.51 0 1.02-.2 1.41-.59l7.78-7.78 2.81-2.81c.8-.78.8-2.07 0-2.86zM5.41 20L4 18.59l7.72-7.72 1.47 1.35L5.41 20z\"/>\n",
              "  </svg>\n",
              "      </button>\n",
              "      \n",
              "  <style>\n",
              "    .colab-df-container {\n",
              "      display:flex;\n",
              "      flex-wrap:wrap;\n",
              "      gap: 12px;\n",
              "    }\n",
              "\n",
              "    .colab-df-convert {\n",
              "      background-color: #E8F0FE;\n",
              "      border: none;\n",
              "      border-radius: 50%;\n",
              "      cursor: pointer;\n",
              "      display: none;\n",
              "      fill: #1967D2;\n",
              "      height: 32px;\n",
              "      padding: 0 0 0 0;\n",
              "      width: 32px;\n",
              "    }\n",
              "\n",
              "    .colab-df-convert:hover {\n",
              "      background-color: #E2EBFA;\n",
              "      box-shadow: 0px 1px 2px rgba(60, 64, 67, 0.3), 0px 1px 3px 1px rgba(60, 64, 67, 0.15);\n",
              "      fill: #174EA6;\n",
              "    }\n",
              "\n",
              "    [theme=dark] .colab-df-convert {\n",
              "      background-color: #3B4455;\n",
              "      fill: #D2E3FC;\n",
              "    }\n",
              "\n",
              "    [theme=dark] .colab-df-convert:hover {\n",
              "      background-color: #434B5C;\n",
              "      box-shadow: 0px 1px 3px 1px rgba(0, 0, 0, 0.15);\n",
              "      filter: drop-shadow(0px 1px 2px rgba(0, 0, 0, 0.3));\n",
              "      fill: #FFFFFF;\n",
              "    }\n",
              "  </style>\n",
              "\n",
              "      <script>\n",
              "        const buttonEl =\n",
              "          document.querySelector('#df-3b810ba0-9ad4-4d43-9482-b4b202e3cbae button.colab-df-convert');\n",
              "        buttonEl.style.display =\n",
              "          google.colab.kernel.accessAllowed ? 'block' : 'none';\n",
              "\n",
              "        async function convertToInteractive(key) {\n",
              "          const element = document.querySelector('#df-3b810ba0-9ad4-4d43-9482-b4b202e3cbae');\n",
              "          const dataTable =\n",
              "            await google.colab.kernel.invokeFunction('convertToInteractive',\n",
              "                                                     [key], {});\n",
              "          if (!dataTable) return;\n",
              "\n",
              "          const docLinkHtml = 'Like what you see? Visit the ' +\n",
              "            '<a target=\"_blank\" href=https://colab.research.google.com/notebooks/data_table.ipynb>data table notebook</a>'\n",
              "            + ' to learn more about interactive tables.';\n",
              "          element.innerHTML = '';\n",
              "          dataTable['output_type'] = 'display_data';\n",
              "          await google.colab.output.renderOutput(dataTable, element);\n",
              "          const docLink = document.createElement('div');\n",
              "          docLink.innerHTML = docLinkHtml;\n",
              "          element.appendChild(docLink);\n",
              "        }\n",
              "      </script>\n",
              "    </div>\n",
              "  </div>\n",
              "  "
            ]
          },
          "metadata": {},
          "execution_count": 137
        }
      ]
    },
    {
      "cell_type": "code",
      "source": [
        "results.to_excel(\"/content/Internship/RegressionResults1.xlsx\")"
      ],
      "metadata": {
        "id": "lQmJ6ZfnAYPF"
      },
      "execution_count": null,
      "outputs": []
    },
    {
      "cell_type": "code",
      "source": [
        "results.to_csv(\"/content/Internship/RegressionResults1.csv\")"
      ],
      "metadata": {
        "id": "SsN4AURwBCcz"
      },
      "execution_count": null,
      "outputs": []
    }
  ]
}